{
  "nbformat": 4,
  "nbformat_minor": 0,
  "metadata": {
    "colab": {
      "name": "neural_network_new.ipynb",
      "provenance": [],
      "collapsed_sections": [],
      "machine_shape": "hm",
      "include_colab_link": true
    },
    "kernelspec": {
      "name": "python3",
      "display_name": "Python 3"
    },
    "accelerator": "GPU"
  },
  "cells": [
    {
      "cell_type": "markdown",
      "metadata": {
        "id": "view-in-github",
        "colab_type": "text"
      },
      "source": [
        "<a href=\"https://colab.research.google.com/github/thuvarahan97/DataStorm1.0_TeamFixzels/blob/master/Day3/neural_network.ipynb\" target=\"_parent\"><img src=\"https://colab.research.google.com/assets/colab-badge.svg\" alt=\"Open In Colab\"/></a>"
      ]
    },
    {
      "cell_type": "code",
      "metadata": {
        "id": "rT8zFjDeRd8R",
        "colab_type": "code",
        "colab": {}
      },
      "source": [
        "import pandas as pd             #to use read_csv(), crosstab()\n",
        "import numpy as np              #to use exponentiation : exp()\n",
        "import statsmodels.api as sm    #to use the Logit()\n",
        "import matplotlib.pyplot as plt\n",
        "%matplotlib inline\n",
        "\n",
        "from sklearn.model_selection import train_test_split"
      ],
      "execution_count": 0,
      "outputs": []
    },
    {
      "cell_type": "code",
      "metadata": {
        "id": "tzRIvEoZOk4a",
        "colab_type": "code",
        "outputId": "d1fe67ea-d5b3-4a66-b64a-e531e5ff201c",
        "colab": {
          "base_uri": "https://localhost:8080/",
          "height": 122
        }
      },
      "source": [
        "from google.colab import drive\n",
        "drive.mount('/content/drive')"
      ],
      "execution_count": 2,
      "outputs": [
        {
          "output_type": "stream",
          "text": [
            "Go to this URL in a browser: https://accounts.google.com/o/oauth2/auth?client_id=947318989803-6bn6qk8qdgf4n4g3pfee6491hc0brc4i.apps.googleusercontent.com&redirect_uri=urn%3aietf%3awg%3aoauth%3a2.0%3aoob&response_type=code&scope=email%20https%3a%2f%2fwww.googleapis.com%2fauth%2fdocs.test%20https%3a%2f%2fwww.googleapis.com%2fauth%2fdrive%20https%3a%2f%2fwww.googleapis.com%2fauth%2fdrive.photos.readonly%20https%3a%2f%2fwww.googleapis.com%2fauth%2fpeopleapi.readonly\n",
            "\n",
            "Enter your authorization code:\n",
            "··········\n",
            "Mounted at /content/drive\n"
          ],
          "name": "stdout"
        }
      ]
    },
    {
      "cell_type": "code",
      "metadata": {
        "id": "HK2InDRricgC",
        "colab_type": "code",
        "colab": {}
      },
      "source": [
        "#import the dataset\n",
        "traindata = pd.read_csv('/content/drive/My Drive/Colab Notebooks/DataStorm1.0 - Team Fixzels/credit_card_default_train.csv',sep=\",\")\n",
        "testdata = pd.read_csv('/content/drive/My Drive/Colab Notebooks/DataStorm1.0 - Team Fixzels/credit_card_default_test.csv',sep=\",\")"
      ],
      "execution_count": 0,
      "outputs": []
    },
    {
      "cell_type": "code",
      "metadata": {
        "id": "Rl-d_nZQjAFl",
        "colab_type": "code",
        "outputId": "fbda7c5f-30b7-4516-808b-91e786e4ff0d",
        "colab": {
          "base_uri": "https://localhost:8080/",
          "height": 326
        }
      },
      "source": [
        "traindata.head()"
      ],
      "execution_count": 4,
      "outputs": [
        {
          "output_type": "execute_result",
          "data": {
            "text/html": [
              "<div>\n",
              "<style scoped>\n",
              "    .dataframe tbody tr th:only-of-type {\n",
              "        vertical-align: middle;\n",
              "    }\n",
              "\n",
              "    .dataframe tbody tr th {\n",
              "        vertical-align: top;\n",
              "    }\n",
              "\n",
              "    .dataframe thead th {\n",
              "        text-align: right;\n",
              "    }\n",
              "</style>\n",
              "<table border=\"1\" class=\"dataframe\">\n",
              "  <thead>\n",
              "    <tr style=\"text-align: right;\">\n",
              "      <th></th>\n",
              "      <th>Client_ID</th>\n",
              "      <th>Balance_Limit_V1</th>\n",
              "      <th>Gender</th>\n",
              "      <th>EDUCATION_STATUS</th>\n",
              "      <th>MARITAL_STATUS</th>\n",
              "      <th>AGE</th>\n",
              "      <th>PAY_JULY</th>\n",
              "      <th>PAY_AUG</th>\n",
              "      <th>PAY_SEP</th>\n",
              "      <th>PAY_OCT</th>\n",
              "      <th>PAY_NOV</th>\n",
              "      <th>PAY_DEC</th>\n",
              "      <th>DUE_AMT_JULY</th>\n",
              "      <th>DUE_AMT_AUG</th>\n",
              "      <th>DUE_AMT_SEP</th>\n",
              "      <th>DUE_AMT_OCT</th>\n",
              "      <th>DUE_AMT_NOV</th>\n",
              "      <th>DUE_AMT_DEC</th>\n",
              "      <th>PAID_AMT_JULY</th>\n",
              "      <th>PAID_AMT_AUG</th>\n",
              "      <th>PAID_AMT_SEP</th>\n",
              "      <th>PAID_AMT_OCT</th>\n",
              "      <th>PAID_AMT_NOV</th>\n",
              "      <th>PAID_AMT_DEC</th>\n",
              "      <th>NEXT_MONTH_DEFAULT</th>\n",
              "    </tr>\n",
              "  </thead>\n",
              "  <tbody>\n",
              "    <tr>\n",
              "      <th>0</th>\n",
              "      <td>A2</td>\n",
              "      <td>1M</td>\n",
              "      <td>M</td>\n",
              "      <td>Graduate</td>\n",
              "      <td>Other</td>\n",
              "      <td>31-45</td>\n",
              "      <td>-1</td>\n",
              "      <td>-1</td>\n",
              "      <td>-1</td>\n",
              "      <td>-1</td>\n",
              "      <td>-1</td>\n",
              "      <td>-1</td>\n",
              "      <td>3248</td>\n",
              "      <td>3389</td>\n",
              "      <td>6004</td>\n",
              "      <td>39418</td>\n",
              "      <td>162772</td>\n",
              "      <td>-13982</td>\n",
              "      <td>3437</td>\n",
              "      <td>6004</td>\n",
              "      <td>39418</td>\n",
              "      <td>162772</td>\n",
              "      <td>0</td>\n",
              "      <td>538165</td>\n",
              "      <td>0</td>\n",
              "    </tr>\n",
              "    <tr>\n",
              "      <th>1</th>\n",
              "      <td>A3</td>\n",
              "      <td>1M</td>\n",
              "      <td>F</td>\n",
              "      <td>High School</td>\n",
              "      <td>Other</td>\n",
              "      <td>Less than 30</td>\n",
              "      <td>0</td>\n",
              "      <td>-1</td>\n",
              "      <td>-1</td>\n",
              "      <td>-1</td>\n",
              "      <td>-1</td>\n",
              "      <td>0</td>\n",
              "      <td>353351</td>\n",
              "      <td>151818</td>\n",
              "      <td>26948</td>\n",
              "      <td>43530</td>\n",
              "      <td>80811</td>\n",
              "      <td>124590</td>\n",
              "      <td>151818</td>\n",
              "      <td>46200</td>\n",
              "      <td>43530</td>\n",
              "      <td>80811</td>\n",
              "      <td>942</td>\n",
              "      <td>33666</td>\n",
              "      <td>0</td>\n",
              "    </tr>\n",
              "    <tr>\n",
              "      <th>2</th>\n",
              "      <td>A4</td>\n",
              "      <td>100K</td>\n",
              "      <td>F</td>\n",
              "      <td>High School</td>\n",
              "      <td>Single</td>\n",
              "      <td>31-45</td>\n",
              "      <td>4</td>\n",
              "      <td>3</td>\n",
              "      <td>2</td>\n",
              "      <td>2</td>\n",
              "      <td>-2</td>\n",
              "      <td>-2</td>\n",
              "      <td>16681</td>\n",
              "      <td>16082</td>\n",
              "      <td>15477</td>\n",
              "      <td>0</td>\n",
              "      <td>0</td>\n",
              "      <td>0</td>\n",
              "      <td>0</td>\n",
              "      <td>0</td>\n",
              "      <td>0</td>\n",
              "      <td>0</td>\n",
              "      <td>0</td>\n",
              "      <td>0</td>\n",
              "      <td>1</td>\n",
              "    </tr>\n",
              "    <tr>\n",
              "      <th>3</th>\n",
              "      <td>A5</td>\n",
              "      <td>200K</td>\n",
              "      <td>F</td>\n",
              "      <td>Graduate</td>\n",
              "      <td>Single</td>\n",
              "      <td>31-45</td>\n",
              "      <td>2</td>\n",
              "      <td>0</td>\n",
              "      <td>0</td>\n",
              "      <td>0</td>\n",
              "      <td>0</td>\n",
              "      <td>0</td>\n",
              "      <td>90457</td>\n",
              "      <td>92848</td>\n",
              "      <td>95193</td>\n",
              "      <td>97309</td>\n",
              "      <td>100353</td>\n",
              "      <td>102740</td>\n",
              "      <td>3855</td>\n",
              "      <td>3890</td>\n",
              "      <td>3696</td>\n",
              "      <td>4620</td>\n",
              "      <td>4049</td>\n",
              "      <td>3918</td>\n",
              "      <td>1</td>\n",
              "    </tr>\n",
              "    <tr>\n",
              "      <th>4</th>\n",
              "      <td>A6</td>\n",
              "      <td>1M</td>\n",
              "      <td>F</td>\n",
              "      <td>Graduate</td>\n",
              "      <td>Other</td>\n",
              "      <td>31-45</td>\n",
              "      <td>2</td>\n",
              "      <td>2</td>\n",
              "      <td>0</td>\n",
              "      <td>0</td>\n",
              "      <td>0</td>\n",
              "      <td>0</td>\n",
              "      <td>429556</td>\n",
              "      <td>419466</td>\n",
              "      <td>429785</td>\n",
              "      <td>435354</td>\n",
              "      <td>445271</td>\n",
              "      <td>453899</td>\n",
              "      <td>0</td>\n",
              "      <td>20790</td>\n",
              "      <td>16170</td>\n",
              "      <td>17325</td>\n",
              "      <td>16401</td>\n",
              "      <td>17325</td>\n",
              "      <td>0</td>\n",
              "    </tr>\n",
              "  </tbody>\n",
              "</table>\n",
              "</div>"
            ],
            "text/plain": [
              "  Client_ID Balance_Limit_V1  ... PAID_AMT_DEC NEXT_MONTH_DEFAULT\n",
              "0        A2               1M  ...       538165                  0\n",
              "1        A3               1M  ...        33666                  0\n",
              "2        A4             100K  ...            0                  1\n",
              "3        A5             200K  ...         3918                  1\n",
              "4        A6               1M  ...        17325                  0\n",
              "\n",
              "[5 rows x 25 columns]"
            ]
          },
          "metadata": {
            "tags": []
          },
          "execution_count": 4
        }
      ]
    },
    {
      "cell_type": "code",
      "metadata": {
        "id": "y0NrnmaIjTDy",
        "colab_type": "code",
        "outputId": "cebbd369-2e81-4337-fd6d-895963d92044",
        "colab": {
          "base_uri": "https://localhost:8080/",
          "height": 317
        }
      },
      "source": [
        "traindata.describe()"
      ],
      "execution_count": 5,
      "outputs": [
        {
          "output_type": "execute_result",
          "data": {
            "text/html": [
              "<div>\n",
              "<style scoped>\n",
              "    .dataframe tbody tr th:only-of-type {\n",
              "        vertical-align: middle;\n",
              "    }\n",
              "\n",
              "    .dataframe tbody tr th {\n",
              "        vertical-align: top;\n",
              "    }\n",
              "\n",
              "    .dataframe thead th {\n",
              "        text-align: right;\n",
              "    }\n",
              "</style>\n",
              "<table border=\"1\" class=\"dataframe\">\n",
              "  <thead>\n",
              "    <tr style=\"text-align: right;\">\n",
              "      <th></th>\n",
              "      <th>PAY_JULY</th>\n",
              "      <th>PAY_AUG</th>\n",
              "      <th>PAY_SEP</th>\n",
              "      <th>PAY_OCT</th>\n",
              "      <th>PAY_NOV</th>\n",
              "      <th>PAY_DEC</th>\n",
              "      <th>DUE_AMT_JULY</th>\n",
              "      <th>DUE_AMT_AUG</th>\n",
              "      <th>DUE_AMT_SEP</th>\n",
              "      <th>DUE_AMT_OCT</th>\n",
              "      <th>DUE_AMT_NOV</th>\n",
              "      <th>DUE_AMT_DEC</th>\n",
              "      <th>PAID_AMT_JULY</th>\n",
              "      <th>PAID_AMT_AUG</th>\n",
              "      <th>PAID_AMT_SEP</th>\n",
              "      <th>PAID_AMT_OCT</th>\n",
              "      <th>PAID_AMT_NOV</th>\n",
              "      <th>PAID_AMT_DEC</th>\n",
              "      <th>NEXT_MONTH_DEFAULT</th>\n",
              "    </tr>\n",
              "  </thead>\n",
              "  <tbody>\n",
              "    <tr>\n",
              "      <th>count</th>\n",
              "      <td>24000.000000</td>\n",
              "      <td>24000.000000</td>\n",
              "      <td>24000.000000</td>\n",
              "      <td>24000.000000</td>\n",
              "      <td>24000.000000</td>\n",
              "      <td>24000.000000</td>\n",
              "      <td>2.400000e+04</td>\n",
              "      <td>2.400000e+04</td>\n",
              "      <td>2.400000e+04</td>\n",
              "      <td>2.400000e+04</td>\n",
              "      <td>2.400000e+04</td>\n",
              "      <td>2.400000e+04</td>\n",
              "      <td>2.400000e+04</td>\n",
              "      <td>2.400000e+04</td>\n",
              "      <td>2.400000e+04</td>\n",
              "      <td>2.400000e+04</td>\n",
              "      <td>24000.000000</td>\n",
              "      <td>2.400000e+04</td>\n",
              "      <td>24000.000000</td>\n",
              "    </tr>\n",
              "    <tr>\n",
              "      <th>mean</th>\n",
              "      <td>-0.014208</td>\n",
              "      <td>-0.130042</td>\n",
              "      <td>-0.158667</td>\n",
              "      <td>-0.215542</td>\n",
              "      <td>-0.261167</td>\n",
              "      <td>-0.287667</td>\n",
              "      <td>1.188697e+05</td>\n",
              "      <td>1.140727e+05</td>\n",
              "      <td>1.092435e+05</td>\n",
              "      <td>1.003573e+05</td>\n",
              "      <td>9.377699e+04</td>\n",
              "      <td>9.034068e+04</td>\n",
              "      <td>1.330648e+04</td>\n",
              "      <td>1.386675e+04</td>\n",
              "      <td>1.209312e+04</td>\n",
              "      <td>1.122527e+04</td>\n",
              "      <td>11174.737208</td>\n",
              "      <td>1.230122e+04</td>\n",
              "      <td>0.222083</td>\n",
              "    </tr>\n",
              "    <tr>\n",
              "      <th>std</th>\n",
              "      <td>1.124897</td>\n",
              "      <td>1.200566</td>\n",
              "      <td>1.198875</td>\n",
              "      <td>1.166608</td>\n",
              "      <td>1.131855</td>\n",
              "      <td>1.147847</td>\n",
              "      <td>1.710424e+05</td>\n",
              "      <td>1.652414e+05</td>\n",
              "      <td>1.614737e+05</td>\n",
              "      <td>1.490071e+05</td>\n",
              "      <td>1.417389e+05</td>\n",
              "      <td>1.387237e+05</td>\n",
              "      <td>3.935742e+04</td>\n",
              "      <td>5.648588e+04</td>\n",
              "      <td>4.065924e+04</td>\n",
              "      <td>3.624693e+04</td>\n",
              "      <td>36040.821759</td>\n",
              "      <td>4.233848e+04</td>\n",
              "      <td>0.415656</td>\n",
              "    </tr>\n",
              "    <tr>\n",
              "      <th>min</th>\n",
              "      <td>-2.000000</td>\n",
              "      <td>-2.000000</td>\n",
              "      <td>-2.000000</td>\n",
              "      <td>-2.000000</td>\n",
              "      <td>-2.000000</td>\n",
              "      <td>-2.000000</td>\n",
              "      <td>-3.824900e+05</td>\n",
              "      <td>-1.611850e+05</td>\n",
              "      <td>-1.420790e+05</td>\n",
              "      <td>-3.927000e+05</td>\n",
              "      <td>-1.878820e+05</td>\n",
              "      <td>-7.844830e+05</td>\n",
              "      <td>0.000000e+00</td>\n",
              "      <td>0.000000e+00</td>\n",
              "      <td>0.000000e+00</td>\n",
              "      <td>0.000000e+00</td>\n",
              "      <td>0.000000</td>\n",
              "      <td>0.000000e+00</td>\n",
              "      <td>0.000000</td>\n",
              "    </tr>\n",
              "    <tr>\n",
              "      <th>25%</th>\n",
              "      <td>-1.000000</td>\n",
              "      <td>-1.000000</td>\n",
              "      <td>-1.000000</td>\n",
              "      <td>-1.000000</td>\n",
              "      <td>-1.000000</td>\n",
              "      <td>-1.000000</td>\n",
              "      <td>8.246250e+03</td>\n",
              "      <td>6.968750e+03</td>\n",
              "      <td>6.238500e+03</td>\n",
              "      <td>5.429000e+03</td>\n",
              "      <td>4.179750e+03</td>\n",
              "      <td>2.913000e+03</td>\n",
              "      <td>2.310000e+03</td>\n",
              "      <td>1.956000e+03</td>\n",
              "      <td>9.010000e+02</td>\n",
              "      <td>6.930000e+02</td>\n",
              "      <td>610.000000</td>\n",
              "      <td>3.070000e+02</td>\n",
              "      <td>0.000000</td>\n",
              "    </tr>\n",
              "    <tr>\n",
              "      <th>50%</th>\n",
              "      <td>0.000000</td>\n",
              "      <td>0.000000</td>\n",
              "      <td>0.000000</td>\n",
              "      <td>0.000000</td>\n",
              "      <td>0.000000</td>\n",
              "      <td>0.000000</td>\n",
              "      <td>5.156850e+04</td>\n",
              "      <td>4.871700e+04</td>\n",
              "      <td>4.641150e+04</td>\n",
              "      <td>4.410500e+04</td>\n",
              "      <td>4.186300e+04</td>\n",
              "      <td>3.940900e+04</td>\n",
              "      <td>4.920000e+03</td>\n",
              "      <td>4.646500e+03</td>\n",
              "      <td>4.197000e+03</td>\n",
              "      <td>3.465000e+03</td>\n",
              "      <td>3465.000000</td>\n",
              "      <td>3.465000e+03</td>\n",
              "      <td>0.000000</td>\n",
              "    </tr>\n",
              "    <tr>\n",
              "      <th>75%</th>\n",
              "      <td>0.000000</td>\n",
              "      <td>0.000000</td>\n",
              "      <td>0.000000</td>\n",
              "      <td>0.000000</td>\n",
              "      <td>0.000000</td>\n",
              "      <td>0.000000</td>\n",
              "      <td>1.562745e+05</td>\n",
              "      <td>1.489050e+05</td>\n",
              "      <td>1.401622e+05</td>\n",
              "      <td>1.269750e+05</td>\n",
              "      <td>1.169262e+05</td>\n",
              "      <td>1.144352e+05</td>\n",
              "      <td>1.160500e+04</td>\n",
              "      <td>1.155000e+04</td>\n",
              "      <td>1.062600e+04</td>\n",
              "      <td>9.360000e+03</td>\n",
              "      <td>9411.500000</td>\n",
              "      <td>9.252500e+03</td>\n",
              "      <td>0.000000</td>\n",
              "    </tr>\n",
              "    <tr>\n",
              "      <th>max</th>\n",
              "      <td>8.000000</td>\n",
              "      <td>8.000000</td>\n",
              "      <td>8.000000</td>\n",
              "      <td>8.000000</td>\n",
              "      <td>8.000000</td>\n",
              "      <td>8.000000</td>\n",
              "      <td>2.228020e+06</td>\n",
              "      <td>2.272881e+06</td>\n",
              "      <td>3.844046e+06</td>\n",
              "      <td>2.059564e+06</td>\n",
              "      <td>2.141765e+06</td>\n",
              "      <td>2.221444e+06</td>\n",
              "      <td>2.017905e+06</td>\n",
              "      <td>3.890638e+06</td>\n",
              "      <td>2.069852e+06</td>\n",
              "      <td>1.434510e+06</td>\n",
              "      <td>965557.000000</td>\n",
              "      <td>1.221218e+06</td>\n",
              "      <td>1.000000</td>\n",
              "    </tr>\n",
              "  </tbody>\n",
              "</table>\n",
              "</div>"
            ],
            "text/plain": [
              "           PAY_JULY       PAY_AUG  ...  PAID_AMT_DEC  NEXT_MONTH_DEFAULT\n",
              "count  24000.000000  24000.000000  ...  2.400000e+04        24000.000000\n",
              "mean      -0.014208     -0.130042  ...  1.230122e+04            0.222083\n",
              "std        1.124897      1.200566  ...  4.233848e+04            0.415656\n",
              "min       -2.000000     -2.000000  ...  0.000000e+00            0.000000\n",
              "25%       -1.000000     -1.000000  ...  3.070000e+02            0.000000\n",
              "50%        0.000000      0.000000  ...  3.465000e+03            0.000000\n",
              "75%        0.000000      0.000000  ...  9.252500e+03            0.000000\n",
              "max        8.000000      8.000000  ...  1.221218e+06            1.000000\n",
              "\n",
              "[8 rows x 19 columns]"
            ]
          },
          "metadata": {
            "tags": []
          },
          "execution_count": 5
        }
      ]
    },
    {
      "cell_type": "code",
      "metadata": {
        "id": "5vcSHx-kvQLN",
        "colab_type": "code",
        "colab": {}
      },
      "source": [
        "traindata=traindata.replace(['M','F'], [1,-1])\n",
        "testdata=testdata.replace(['M','F'], [1,-1])"
      ],
      "execution_count": 0,
      "outputs": []
    },
    {
      "cell_type": "code",
      "metadata": {
        "id": "Fwh76K9qwJzj",
        "colab_type": "code",
        "outputId": "b0b62719-057d-42af-e7b6-94c124ec9030",
        "colab": {
          "base_uri": "https://localhost:8080/",
          "height": 221
        }
      },
      "source": [
        "pd.to_numeric(traindata['Gender'])"
      ],
      "execution_count": 7,
      "outputs": [
        {
          "output_type": "execute_result",
          "data": {
            "text/plain": [
              "0        1\n",
              "1       -1\n",
              "2       -1\n",
              "3       -1\n",
              "4       -1\n",
              "        ..\n",
              "23995   -1\n",
              "23996   -1\n",
              "23997   -1\n",
              "23998   -1\n",
              "23999   -1\n",
              "Name: Gender, Length: 24000, dtype: int64"
            ]
          },
          "metadata": {
            "tags": []
          },
          "execution_count": 7
        }
      ]
    },
    {
      "cell_type": "code",
      "metadata": {
        "id": "qoRQ86SJztS7",
        "colab_type": "code",
        "outputId": "9c94e5c5-42fe-4b63-d1af-1fea8b6a29b1",
        "colab": {
          "base_uri": "https://localhost:8080/",
          "height": 136
        }
      },
      "source": [
        "print(traindata.groupby('EDUCATION_STATUS').count())"
      ],
      "execution_count": 8,
      "outputs": [
        {
          "output_type": "stream",
          "text": [
            "                  Client_ID  Balance_Limit_V1  ...  PAID_AMT_DEC  NEXT_MONTH_DEFAULT\n",
            "EDUCATION_STATUS                               ...                                  \n",
            "Graduate               8478              8478  ...          8478                8478\n",
            "High School            3925              3925  ...          3925                3925\n",
            "Other                 11597             11597  ...         11597               11597\n",
            "\n",
            "[3 rows x 24 columns]\n"
          ],
          "name": "stdout"
        }
      ]
    },
    {
      "cell_type": "code",
      "metadata": {
        "id": "rGvWVzvU0E8-",
        "colab_type": "code",
        "colab": {}
      },
      "source": [
        "traindata['EDUCATION_STATUS']=traindata['EDUCATION_STATUS'].replace(['Graduate','High School','Other'], [2,1,0])\n",
        "testdata['EDUCATION_STATUS']=testdata['EDUCATION_STATUS'].replace(['Graduate','High School','Other'], [2,1,0])"
      ],
      "execution_count": 0,
      "outputs": []
    },
    {
      "cell_type": "code",
      "metadata": {
        "id": "BaNVGOBz2YAF",
        "colab_type": "code",
        "outputId": "57912224-a43e-4306-8394-0227104a9af8",
        "colab": {
          "base_uri": "https://localhost:8080/",
          "height": 221
        }
      },
      "source": [
        "pd.to_numeric(traindata['EDUCATION_STATUS'])"
      ],
      "execution_count": 10,
      "outputs": [
        {
          "output_type": "execute_result",
          "data": {
            "text/plain": [
              "0        2\n",
              "1        1\n",
              "2        1\n",
              "3        2\n",
              "4        2\n",
              "        ..\n",
              "23995    1\n",
              "23996    1\n",
              "23997    0\n",
              "23998    1\n",
              "23999    0\n",
              "Name: EDUCATION_STATUS, Length: 24000, dtype: int64"
            ]
          },
          "metadata": {
            "tags": []
          },
          "execution_count": 10
        }
      ]
    },
    {
      "cell_type": "code",
      "metadata": {
        "id": "qSBJgBFc2i6a",
        "colab_type": "code",
        "outputId": "c66be72c-b1e6-4a27-8024-335b208f5643",
        "colab": {
          "base_uri": "https://localhost:8080/",
          "height": 119
        }
      },
      "source": [
        "print(traindata.groupby('MARITAL_STATUS').count())"
      ],
      "execution_count": 11,
      "outputs": [
        {
          "output_type": "stream",
          "text": [
            "                Client_ID  Balance_Limit_V1  ...  PAID_AMT_DEC  NEXT_MONTH_DEFAULT\n",
            "MARITAL_STATUS                               ...                                  \n",
            "Other               13070             13070  ...         13070               13070\n",
            "Single              10930             10930  ...         10930               10930\n",
            "\n",
            "[2 rows x 24 columns]\n"
          ],
          "name": "stdout"
        }
      ]
    },
    {
      "cell_type": "code",
      "metadata": {
        "id": "zH4QhWBp2t5J",
        "colab_type": "code",
        "colab": {}
      },
      "source": [
        "traindata['MARITAL_STATUS']=traindata['MARITAL_STATUS'].replace(['Single', 'Other'], [1,-1])\n",
        "testdata['MARITAL_STATUS']=testdata['MARITAL_STATUS'].replace(['Single', 'Other'], [1,-1])"
      ],
      "execution_count": 0,
      "outputs": []
    },
    {
      "cell_type": "code",
      "metadata": {
        "id": "sO3NIKiL29TM",
        "colab_type": "code",
        "outputId": "b97c62aa-954f-4dc8-d8dd-8f5063911573",
        "colab": {
          "base_uri": "https://localhost:8080/",
          "height": 221
        }
      },
      "source": [
        "pd.to_numeric(traindata['EDUCATION_STATUS'])"
      ],
      "execution_count": 13,
      "outputs": [
        {
          "output_type": "execute_result",
          "data": {
            "text/plain": [
              "0        2\n",
              "1        1\n",
              "2        1\n",
              "3        2\n",
              "4        2\n",
              "        ..\n",
              "23995    1\n",
              "23996    1\n",
              "23997    0\n",
              "23998    1\n",
              "23999    0\n",
              "Name: EDUCATION_STATUS, Length: 24000, dtype: int64"
            ]
          },
          "metadata": {
            "tags": []
          },
          "execution_count": 13
        }
      ]
    },
    {
      "cell_type": "code",
      "metadata": {
        "id": "LbUodKd13Kbt",
        "colab_type": "code",
        "outputId": "475260dd-7a70-41eb-800e-e7bb39780ab0",
        "colab": {
          "base_uri": "https://localhost:8080/",
          "height": 153
        }
      },
      "source": [
        "print(traindata.groupby('AGE').count())"
      ],
      "execution_count": 14,
      "outputs": [
        {
          "output_type": "stream",
          "text": [
            "              Client_ID  Balance_Limit_V1  ...  PAID_AMT_DEC  NEXT_MONTH_DEFAULT\n",
            "AGE                                        ...                                  \n",
            "31-45             12124             12124  ...         12124               12124\n",
            "46-65              4150              4150  ...          4150                4150\n",
            "Less than 30       7638              7638  ...          7638                7638\n",
            "More than 65         88                88  ...            88                  88\n",
            "\n",
            "[4 rows x 24 columns]\n"
          ],
          "name": "stdout"
        }
      ]
    },
    {
      "cell_type": "code",
      "metadata": {
        "id": "l8aXSJ9n5Pll",
        "colab_type": "code",
        "colab": {}
      },
      "source": [
        "traindata['AGE']=traindata['AGE'].replace(['Less than 30','31-45','46-65','More than 65'], [4,3,2,1])\n",
        "testdata['AGE']=testdata['AGE'].replace(['Less than 30','31-45','46-65','More than 65'], [4,3,2,1])"
      ],
      "execution_count": 0,
      "outputs": []
    },
    {
      "cell_type": "code",
      "metadata": {
        "id": "6_3PKioj90Zc",
        "colab_type": "code",
        "colab": {}
      },
      "source": [
        "traindata['Balance_Limit_V1'] = traindata['Balance_Limit_V1'].map(lambda x : float(x[0:-1])*1000 if (x[-1]=='K') else float(x[0:-1])*1000000)\n",
        "testdata['Balance_Limit_V1'] = testdata['Balance_Limit_V1'].map(lambda x : float(x[0:-1])*1000 if (x[-1]=='K') else float(x[0:-1])*1000000)"
      ],
      "execution_count": 0,
      "outputs": []
    },
    {
      "cell_type": "code",
      "metadata": {
        "id": "jtPrffow-t_2",
        "colab_type": "code",
        "outputId": "92a058e9-f8e9-4334-8674-2259f926b434",
        "colab": {
          "base_uri": "https://localhost:8080/",
          "height": 221
        }
      },
      "source": [
        "pd.to_numeric(traindata['Balance_Limit_V1'])"
      ],
      "execution_count": 17,
      "outputs": [
        {
          "output_type": "execute_result",
          "data": {
            "text/plain": [
              "0        1000000.0\n",
              "1        1000000.0\n",
              "2         100000.0\n",
              "3         200000.0\n",
              "4        1000000.0\n",
              "           ...    \n",
              "23995    1000000.0\n",
              "23996     400000.0\n",
              "23997     100000.0\n",
              "23998     200000.0\n",
              "23999     200000.0\n",
              "Name: Balance_Limit_V1, Length: 24000, dtype: float64"
            ]
          },
          "metadata": {
            "tags": []
          },
          "execution_count": 17
        }
      ]
    },
    {
      "cell_type": "code",
      "metadata": {
        "id": "k8xA-Kd9C9x3",
        "colab_type": "code",
        "outputId": "51418d49-b0d3-44c2-c9cc-9b340a3a9c91",
        "colab": {
          "base_uri": "https://localhost:8080/",
          "height": 119
        }
      },
      "source": [
        "print(traindata.groupby('NEXT_MONTH_DEFAULT').count())"
      ],
      "execution_count": 18,
      "outputs": [
        {
          "output_type": "stream",
          "text": [
            "                    Client_ID  Balance_Limit_V1  ...  PAID_AMT_NOV  PAID_AMT_DEC\n",
            "NEXT_MONTH_DEFAULT                               ...                            \n",
            "0                       18670             18670  ...         18670         18670\n",
            "1                        5330              5330  ...          5330          5330\n",
            "\n",
            "[2 rows x 24 columns]\n"
          ],
          "name": "stdout"
        }
      ]
    },
    {
      "cell_type": "code",
      "metadata": {
        "id": "NjRN7Ws4DDTp",
        "colab_type": "code",
        "colab": {}
      },
      "source": [
        "# testdata[testdata.columns[12:24]]=testdata[testdata.columns[12:24]]/traindata.max()[traindata.columns[12:24]]\n",
        "# testdata1[testdata1.columns[12:24]]=testdata1[testdata.columns[12:24]]/traindata.max()[traindata.columns[12:24]]"
      ],
      "execution_count": 0,
      "outputs": []
    },
    {
      "cell_type": "code",
      "metadata": {
        "id": "Xv9QvAnZGRcs",
        "colab_type": "code",
        "colab": {}
      },
      "source": [
        "# testdata['Balance_Limit_V1']=testdata['Balance_Limit_V1']/traindata.max()['Balance_Limit_V1']\n",
        "# testdata1['Balance_Limit_V1']=testdata1['Balance_Limit_V1']/traindata.max()['Balance_Limit_V1']"
      ],
      "execution_count": 0,
      "outputs": []
    },
    {
      "cell_type": "code",
      "metadata": {
        "id": "YdT6SNA7GwlY",
        "colab_type": "code",
        "colab": {}
      },
      "source": [
        "traindata['BIAS']=1\n",
        "testdata['BIAS']=1"
      ],
      "execution_count": 0,
      "outputs": []
    },
    {
      "cell_type": "code",
      "metadata": {
        "id": "metLq05SjqLi",
        "colab_type": "code",
        "colab": {}
      },
      "source": [
        "independentVar= ['Balance_Limit_V1',\n",
        "                 'Gender',\n",
        "                 'EDUCATION_STATUS',\n",
        "                 'MARITAL_STATUS',\n",
        "                 'AGE',\n",
        "                 'PAY_JULY','PAY_AUG','PAY_SEP','PAY_OCT','PAY_NOV','PAY_DEC',\n",
        "                 'DUE_AMT_JULY','DUE_AMT_AUG','DUE_AMT_SEP','DUE_AMT_OCT','DUE_AMT_NOV','DUE_AMT_DEC',\n",
        "                 'PAID_AMT_JULY','PAID_AMT_AUG','PAID_AMT_SEP','PAID_AMT_OCT','PAID_AMT_NOV','PAID_AMT_DEC','BIAS']"
      ],
      "execution_count": 0,
      "outputs": []
    },
    {
      "cell_type": "code",
      "metadata": {
        "id": "GVmDW-Og2zyt",
        "colab_type": "code",
        "colab": {}
      },
      "source": [
        "train_data = traindata\n",
        "train_data, test_data = train_test_split(traindata, train_size=0.8, test_size=0.2)\n",
        "test_data_all = testdata"
      ],
      "execution_count": 0,
      "outputs": []
    },
    {
      "cell_type": "code",
      "metadata": {
        "id": "RiYwRvFe3j5S",
        "colab_type": "code",
        "colab": {}
      },
      "source": [
        "X_train, y_train = train_data[independentVar], train_data['NEXT_MONTH_DEFAULT']\n",
        "X_test, y_test = test_data[independentVar], test_data['NEXT_MONTH_DEFAULT']\n",
        "X_test_all = test_data_all[independentVar]"
      ],
      "execution_count": 0,
      "outputs": []
    },
    {
      "cell_type": "code",
      "metadata": {
        "id": "MO4ZvHGZ5N8y",
        "colab_type": "code",
        "colab": {}
      },
      "source": [
        "from sklearn.preprocessing import StandardScaler\n",
        "\n",
        "scaler = StandardScaler()\n",
        "\n",
        "X_train = scaler.fit_transform(X_train)\n",
        "X_test = scaler.transform(X_test)\n",
        "X_test_all = scaler.transform(X_test_all)"
      ],
      "execution_count": 0,
      "outputs": []
    },
    {
      "cell_type": "code",
      "metadata": {
        "id": "4qxOzQEI5k0_",
        "colab_type": "code",
        "colab": {
          "base_uri": "https://localhost:8080/",
          "height": 168
        },
        "outputId": "061b39f3-dd7b-4720-a1bc-ecc13fc3343b"
      },
      "source": [
        "from sklearn import metrics\n",
        "from imblearn.over_sampling import SMOTE\n",
        "from imblearn.under_sampling import RandomUnderSampler\n",
        "from keras.models import Sequential\n",
        "from keras.layers import Dense"
      ],
      "execution_count": 26,
      "outputs": [
        {
          "output_type": "stream",
          "text": [
            "/usr/local/lib/python3.6/dist-packages/sklearn/externals/six.py:31: FutureWarning: The module is deprecated in version 0.21 and will be removed in version 0.23 since we've dropped support for Python 2.7. Please rely on the official version of six (https://pypi.org/project/six/).\n",
            "  \"(https://pypi.org/project/six/).\", FutureWarning)\n",
            "/usr/local/lib/python3.6/dist-packages/sklearn/utils/deprecation.py:144: FutureWarning: The sklearn.neighbors.base module is  deprecated in version 0.22 and will be removed in version 0.24. The corresponding classes / functions should instead be imported from sklearn.neighbors. Anything that cannot be imported from sklearn.neighbors is now part of the private API.\n",
            "  warnings.warn(message, FutureWarning)\n",
            "Using TensorFlow backend.\n"
          ],
          "name": "stderr"
        },
        {
          "output_type": "display_data",
          "data": {
            "text/html": [
              "<p style=\"color: red;\">\n",
              "The default version of TensorFlow in Colab will soon switch to TensorFlow 2.x.<br>\n",
              "We recommend you <a href=\"https://www.tensorflow.org/guide/migrate\" target=\"_blank\">upgrade</a> now \n",
              "or ensure your notebook will continue to use TensorFlow 1.x via the <code>%tensorflow_version 1.x</code> magic:\n",
              "<a href=\"https://colab.research.google.com/notebooks/tensorflow_version.ipynb\" target=\"_blank\">more info</a>.</p>\n"
            ],
            "text/plain": [
              "<IPython.core.display.HTML object>"
            ]
          },
          "metadata": {
            "tags": []
          }
        }
      ]
    },
    {
      "cell_type": "code",
      "metadata": {
        "id": "JkQ9OJoc5oTS",
        "colab_type": "code",
        "colab": {}
      },
      "source": [
        "# # define undersampling strategy\n",
        "# under = RandomUnderSampler(sampling_strategy=0.3)\n",
        "\n",
        "# # fit and apply the transform\n",
        "# X_train_res, y_train_res = under.fit_resample(X_train, y_train)\n",
        "\n",
        "# sm = SMOTE(random_state=2)\n",
        "# X_train_res, y_train_res = sm.fit_sample(X_train_res, y_train_res.ravel())"
      ],
      "execution_count": 0,
      "outputs": []
    },
    {
      "cell_type": "code",
      "metadata": {
        "id": "VrWBXqqGCSwb",
        "colab_type": "code",
        "colab": {
          "base_uri": "https://localhost:8080/",
          "height": 139
        },
        "outputId": "d1a4b36d-5b83-4e11-8559-53e11f84ccac"
      },
      "source": [
        "# define the keras model\n",
        "model = Sequential()\n",
        "model.add(Dense(128, input_dim=24, activation='relu'))\n",
        "model.add(Dense(256, activation='relu'))\n",
        "model.add(Dense(512, activation='relu'))\n",
        "model.add(Dense(1024, activation='relu'))\n",
        "model.add(Dense(2048, activation='relu'))\n",
        "model.add(Dense(1, activation='sigmoid'))"
      ],
      "execution_count": 28,
      "outputs": [
        {
          "output_type": "stream",
          "text": [
            "WARNING:tensorflow:From /usr/local/lib/python3.6/dist-packages/keras/backend/tensorflow_backend.py:66: The name tf.get_default_graph is deprecated. Please use tf.compat.v1.get_default_graph instead.\n",
            "\n",
            "WARNING:tensorflow:From /usr/local/lib/python3.6/dist-packages/keras/backend/tensorflow_backend.py:541: The name tf.placeholder is deprecated. Please use tf.compat.v1.placeholder instead.\n",
            "\n",
            "WARNING:tensorflow:From /usr/local/lib/python3.6/dist-packages/keras/backend/tensorflow_backend.py:4432: The name tf.random_uniform is deprecated. Please use tf.random.uniform instead.\n",
            "\n"
          ],
          "name": "stdout"
        }
      ]
    },
    {
      "cell_type": "code",
      "metadata": {
        "id": "Xb3enyG2D8pP",
        "colab_type": "code",
        "colab": {
          "base_uri": "https://localhost:8080/",
          "height": 156
        },
        "outputId": "a79baa5a-87ca-428c-fc54-c0a016943600"
      },
      "source": [
        "# compile the keras model\n",
        "model.compile(loss='binary_crossentropy', optimizer='adam', metrics=['accuracy'])"
      ],
      "execution_count": 29,
      "outputs": [
        {
          "output_type": "stream",
          "text": [
            "WARNING:tensorflow:From /usr/local/lib/python3.6/dist-packages/keras/optimizers.py:793: The name tf.train.Optimizer is deprecated. Please use tf.compat.v1.train.Optimizer instead.\n",
            "\n",
            "WARNING:tensorflow:From /usr/local/lib/python3.6/dist-packages/keras/backend/tensorflow_backend.py:3657: The name tf.log is deprecated. Please use tf.math.log instead.\n",
            "\n",
            "WARNING:tensorflow:From /usr/local/lib/python3.6/dist-packages/tensorflow_core/python/ops/nn_impl.py:183: where (from tensorflow.python.ops.array_ops) is deprecated and will be removed in a future version.\n",
            "Instructions for updating:\n",
            "Use tf.where in 2.0, which has the same broadcast rule as np.where\n"
          ],
          "name": "stdout"
        }
      ]
    },
    {
      "cell_type": "code",
      "metadata": {
        "id": "BG0hG9IZD-9R",
        "colab_type": "code",
        "outputId": "61850901-bf3a-47f7-cd69-66f6e32cad55",
        "colab": {
          "base_uri": "https://localhost:8080/",
          "height": 527
        }
      },
      "source": [
        "# fit the keras model on the dataset\n",
        "history = model.fit(X_train, y_train, epochs=15)"
      ],
      "execution_count": 31,
      "outputs": [
        {
          "output_type": "stream",
          "text": [
            "Epoch 1/15\n",
            "19200/19200 [==============================] - 3s 151us/step - loss: 0.4272 - acc: 0.8186\n",
            "Epoch 2/15\n",
            "19200/19200 [==============================] - 3s 148us/step - loss: 0.4239 - acc: 0.8195\n",
            "Epoch 3/15\n",
            "19200/19200 [==============================] - 3s 148us/step - loss: 0.4201 - acc: 0.8209\n",
            "Epoch 4/15\n",
            "19200/19200 [==============================] - 3s 149us/step - loss: 0.4159 - acc: 0.8209\n",
            "Epoch 5/15\n",
            "19200/19200 [==============================] - 3s 149us/step - loss: 0.4132 - acc: 0.8221\n",
            "Epoch 6/15\n",
            "19200/19200 [==============================] - 3s 148us/step - loss: 0.4113 - acc: 0.8241\n",
            "Epoch 7/15\n",
            "19200/19200 [==============================] - 3s 148us/step - loss: 0.4077 - acc: 0.8253\n",
            "Epoch 8/15\n",
            "19200/19200 [==============================] - 3s 147us/step - loss: 0.4027 - acc: 0.8225\n",
            "Epoch 9/15\n",
            "19200/19200 [==============================] - 3s 149us/step - loss: 0.3976 - acc: 0.8264\n",
            "Epoch 10/15\n",
            "19200/19200 [==============================] - 3s 148us/step - loss: 0.3912 - acc: 0.8276\n",
            "Epoch 11/15\n",
            "19200/19200 [==============================] - 3s 148us/step - loss: 0.3886 - acc: 0.8296\n",
            "Epoch 12/15\n",
            "19200/19200 [==============================] - 3s 150us/step - loss: 0.3808 - acc: 0.8336\n",
            "Epoch 13/15\n",
            "19200/19200 [==============================] - 3s 146us/step - loss: 0.3748 - acc: 0.8363\n",
            "Epoch 14/15\n",
            "19200/19200 [==============================] - 3s 148us/step - loss: 0.3706 - acc: 0.8370\n",
            "Epoch 15/15\n",
            "19200/19200 [==============================] - 3s 150us/step - loss: 0.3634 - acc: 0.8421\n"
          ],
          "name": "stdout"
        }
      ]
    },
    {
      "cell_type": "code",
      "metadata": {
        "id": "C9HapLPSqAyR",
        "colab_type": "code",
        "colab": {}
      },
      "source": [
        "# make probability predictions with the model\n",
        "y_pred_all = model.predict(X_test_all)\n",
        "\n",
        "# round predictions\n",
        "y_pred_rounded_all = [round(x[0]) for x in y_pred_all]"
      ],
      "execution_count": 0,
      "outputs": []
    },
    {
      "cell_type": "code",
      "metadata": {
        "id": "w8ACpZH637kz",
        "colab_type": "code",
        "outputId": "03332118-ca91-49b9-f976-e4e4f926c1e1",
        "colab": {
          "base_uri": "https://localhost:8080/",
          "height": 34
        }
      },
      "source": [
        "count_0 = 0\n",
        "count_1 = 0\n",
        "\n",
        "for val in y_pred_rounded_all:\n",
        "  if val == 0:\n",
        "    count_0 += 1\n",
        "  elif val == 1:\n",
        "    count_1 += 1\n",
        "\n",
        "print (count_0, count_1)"
      ],
      "execution_count": 33,
      "outputs": [
        {
          "output_type": "stream",
          "text": [
            "5212 788\n"
          ],
          "name": "stdout"
        }
      ]
    },
    {
      "cell_type": "code",
      "metadata": {
        "id": "zuxeYyym70Y3",
        "colab_type": "code",
        "colab": {}
      },
      "source": [
        "# make probability predictions with the model\n",
        "y_pred = model.predict(X_test)\n",
        "\n",
        "# round predictions\n",
        "y_pred_rounded = [round(x[0]) for x in y_pred]"
      ],
      "execution_count": 0,
      "outputs": []
    },
    {
      "cell_type": "code",
      "metadata": {
        "id": "J5GtMxksQK-N",
        "colab_type": "code",
        "outputId": "ae1ee5bb-d173-43eb-87be-3b6ef74014b9",
        "colab": {
          "base_uri": "https://localhost:8080/",
          "height": 51
        }
      },
      "source": [
        "from sklearn.metrics import confusion_matrix\n",
        "confusion_matrix = confusion_matrix(y_test, y_pred_rounded)\n",
        "print(confusion_matrix)"
      ],
      "execution_count": 35,
      "outputs": [
        {
          "output_type": "stream",
          "text": [
            "[[3464  273]\n",
            " [ 668  395]]\n"
          ],
          "name": "stdout"
        }
      ]
    },
    {
      "cell_type": "code",
      "metadata": {
        "id": "iA7J9pN5pMLR",
        "colab_type": "code",
        "outputId": "2c8ee3da-e257-4498-c6a2-f4d40d754e52",
        "colab": {
          "base_uri": "https://localhost:8080/",
          "height": 170
        }
      },
      "source": [
        "from sklearn.metrics import classification_report\n",
        "print(classification_report(y_test, y_pred_rounded))"
      ],
      "execution_count": 36,
      "outputs": [
        {
          "output_type": "stream",
          "text": [
            "              precision    recall  f1-score   support\n",
            "\n",
            "           0       0.84      0.93      0.88      3737\n",
            "           1       0.59      0.37      0.46      1063\n",
            "\n",
            "    accuracy                           0.80      4800\n",
            "   macro avg       0.71      0.65      0.67      4800\n",
            "weighted avg       0.78      0.80      0.79      4800\n",
            "\n"
          ],
          "name": "stdout"
        }
      ]
    },
    {
      "cell_type": "code",
      "metadata": {
        "id": "7-iTw3kyzrUh",
        "colab_type": "code",
        "colab": {}
      },
      "source": [
        "# y=[]\n",
        "# for i in y_pred_all:\n",
        "#   y.append([i])\n",
        "  \n",
        "# output = pd.DataFrame(\n",
        "#     y, columns = ['NEXT_MONTH_DEFAULT']\n",
        "#     )\n",
        "# output['Client_ID']=testdata['Client_ID']\n",
        "# output1=output.to_csv('out.csv')"
      ],
      "execution_count": 0,
      "outputs": []
    }
  ]
}