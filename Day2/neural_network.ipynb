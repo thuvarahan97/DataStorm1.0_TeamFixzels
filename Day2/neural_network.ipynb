{
  "nbformat": 4,
  "nbformat_minor": 0,
  "metadata": {
    "colab": {
      "name": "neural_network.ipynb",
      "provenance": [],
      "collapsed_sections": [],
      "machine_shape": "hm",
      "include_colab_link": true
    },
    "kernelspec": {
      "name": "python3",
      "display_name": "Python 3"
    },
    "accelerator": "GPU"
  },
  "cells": [
    {
      "cell_type": "markdown",
      "metadata": {
        "id": "view-in-github",
        "colab_type": "text"
      },
      "source": [
        "<a href=\"https://colab.research.google.com/github/thuvarahan97/DataStorm1.0_TeamFixzels/blob/master/Day2/neural_network.ipynb\" target=\"_parent\"><img src=\"https://colab.research.google.com/assets/colab-badge.svg\" alt=\"Open In Colab\"/></a>"
      ]
    },
    {
      "cell_type": "code",
      "metadata": {
        "id": "rT8zFjDeRd8R",
        "colab_type": "code",
        "colab": {}
      },
      "source": [
        "import pandas as pd             #to use read_csv(), crosstab()\n",
        "import numpy as np              #to use exponentiation : exp()\n",
        "import statsmodels.api as sm    #to use the Logit()\n",
        "import matplotlib.pyplot as plt\n",
        "%matplotlib inline\n",
        "\n",
        "from sklearn.model_selection import train_test_split"
      ],
      "execution_count": 0,
      "outputs": []
    },
    {
      "cell_type": "code",
      "metadata": {
        "id": "tzRIvEoZOk4a",
        "colab_type": "code",
        "colab": {}
      },
      "source": [
        "# from google.colab import drive\n",
        "# drive.mount('/content/drive')"
      ],
      "execution_count": 0,
      "outputs": []
    },
    {
      "cell_type": "code",
      "metadata": {
        "id": "HK2InDRricgC",
        "colab_type": "code",
        "colab": {}
      },
      "source": [
        "#import the dataset\n",
        "traindatainput = pd.read_csv('/content/drive/My Drive/Colab Notebooks/DataStorm1.0 - Team Fixzels/credit_card_default_train.csv',sep=\",\")\n",
        "testdatainput = pd.read_csv('/content/drive/My Drive/Colab Notebooks/DataStorm1.0 - Team Fixzels/credit_card_default_test.csv',sep=\",\")"
      ],
      "execution_count": 0,
      "outputs": []
    },
    {
      "cell_type": "code",
      "metadata": {
        "id": "pBU9T_0AZSGJ",
        "colab_type": "code",
        "colab": {}
      },
      "source": [
        "traindata, testdata = train_test_split(traindatainput, train_size=0.8, test_size=0.2)"
      ],
      "execution_count": 0,
      "outputs": []
    },
    {
      "cell_type": "code",
      "metadata": {
        "id": "Rl-d_nZQjAFl",
        "colab_type": "code",
        "outputId": "e512e8ae-6bd9-44ff-e980-aac710e82b2e",
        "colab": {
          "base_uri": "https://localhost:8080/",
          "height": 309
        }
      },
      "source": [
        "traindata.head()"
      ],
      "execution_count": 428,
      "outputs": [
        {
          "output_type": "execute_result",
          "data": {
            "text/html": [
              "<div>\n",
              "<style scoped>\n",
              "    .dataframe tbody tr th:only-of-type {\n",
              "        vertical-align: middle;\n",
              "    }\n",
              "\n",
              "    .dataframe tbody tr th {\n",
              "        vertical-align: top;\n",
              "    }\n",
              "\n",
              "    .dataframe thead th {\n",
              "        text-align: right;\n",
              "    }\n",
              "</style>\n",
              "<table border=\"1\" class=\"dataframe\">\n",
              "  <thead>\n",
              "    <tr style=\"text-align: right;\">\n",
              "      <th></th>\n",
              "      <th>Client_ID</th>\n",
              "      <th>Balance_Limit_V1</th>\n",
              "      <th>Gender</th>\n",
              "      <th>EDUCATION_STATUS</th>\n",
              "      <th>MARITAL_STATUS</th>\n",
              "      <th>AGE</th>\n",
              "      <th>PAY_JULY</th>\n",
              "      <th>PAY_AUG</th>\n",
              "      <th>PAY_SEP</th>\n",
              "      <th>PAY_OCT</th>\n",
              "      <th>PAY_NOV</th>\n",
              "      <th>PAY_DEC</th>\n",
              "      <th>DUE_AMT_JULY</th>\n",
              "      <th>DUE_AMT_AUG</th>\n",
              "      <th>DUE_AMT_SEP</th>\n",
              "      <th>DUE_AMT_OCT</th>\n",
              "      <th>DUE_AMT_NOV</th>\n",
              "      <th>DUE_AMT_DEC</th>\n",
              "      <th>PAID_AMT_JULY</th>\n",
              "      <th>PAID_AMT_AUG</th>\n",
              "      <th>PAID_AMT_SEP</th>\n",
              "      <th>PAID_AMT_OCT</th>\n",
              "      <th>PAID_AMT_NOV</th>\n",
              "      <th>PAID_AMT_DEC</th>\n",
              "      <th>NEXT_MONTH_DEFAULT</th>\n",
              "    </tr>\n",
              "  </thead>\n",
              "  <tbody>\n",
              "    <tr>\n",
              "      <th>1040</th>\n",
              "      <td>A1303</td>\n",
              "      <td>200K</td>\n",
              "      <td>M</td>\n",
              "      <td>High School</td>\n",
              "      <td>Single</td>\n",
              "      <td>31-45</td>\n",
              "      <td>0</td>\n",
              "      <td>0</td>\n",
              "      <td>0</td>\n",
              "      <td>0</td>\n",
              "      <td>0</td>\n",
              "      <td>0</td>\n",
              "      <td>115364</td>\n",
              "      <td>118302</td>\n",
              "      <td>27960</td>\n",
              "      <td>29794</td>\n",
              "      <td>31617</td>\n",
              "      <td>33398</td>\n",
              "      <td>5544</td>\n",
              "      <td>2786</td>\n",
              "      <td>2310</td>\n",
              "      <td>2310</td>\n",
              "      <td>2310</td>\n",
              "      <td>2310</td>\n",
              "      <td>0</td>\n",
              "    </tr>\n",
              "    <tr>\n",
              "      <th>21987</th>\n",
              "      <td>A27529</td>\n",
              "      <td>1M</td>\n",
              "      <td>F</td>\n",
              "      <td>Other</td>\n",
              "      <td>Single</td>\n",
              "      <td>46-65</td>\n",
              "      <td>-1</td>\n",
              "      <td>-1</td>\n",
              "      <td>-1</td>\n",
              "      <td>-1</td>\n",
              "      <td>0</td>\n",
              "      <td>0</td>\n",
              "      <td>32555</td>\n",
              "      <td>24428</td>\n",
              "      <td>17729</td>\n",
              "      <td>42971</td>\n",
              "      <td>47265</td>\n",
              "      <td>77163</td>\n",
              "      <td>24428</td>\n",
              "      <td>17752</td>\n",
              "      <td>42989</td>\n",
              "      <td>18480</td>\n",
              "      <td>48519</td>\n",
              "      <td>0</td>\n",
              "      <td>0</td>\n",
              "    </tr>\n",
              "    <tr>\n",
              "      <th>21617</th>\n",
              "      <td>A27073</td>\n",
              "      <td>400K</td>\n",
              "      <td>F</td>\n",
              "      <td>High School</td>\n",
              "      <td>Other</td>\n",
              "      <td>31-45</td>\n",
              "      <td>-2</td>\n",
              "      <td>-2</td>\n",
              "      <td>-2</td>\n",
              "      <td>-2</td>\n",
              "      <td>-2</td>\n",
              "      <td>-2</td>\n",
              "      <td>3650</td>\n",
              "      <td>6757</td>\n",
              "      <td>-1273</td>\n",
              "      <td>-4491</td>\n",
              "      <td>-10233</td>\n",
              "      <td>-13428</td>\n",
              "      <td>6780</td>\n",
              "      <td>9</td>\n",
              "      <td>16</td>\n",
              "      <td>9</td>\n",
              "      <td>16</td>\n",
              "      <td>23109</td>\n",
              "      <td>0</td>\n",
              "    </tr>\n",
              "    <tr>\n",
              "      <th>14621</th>\n",
              "      <td>A18298</td>\n",
              "      <td>1M</td>\n",
              "      <td>M</td>\n",
              "      <td>Other</td>\n",
              "      <td>Single</td>\n",
              "      <td>46-65</td>\n",
              "      <td>0</td>\n",
              "      <td>0</td>\n",
              "      <td>0</td>\n",
              "      <td>0</td>\n",
              "      <td>0</td>\n",
              "      <td>0</td>\n",
              "      <td>670387</td>\n",
              "      <td>685476</td>\n",
              "      <td>701515</td>\n",
              "      <td>523458</td>\n",
              "      <td>519604</td>\n",
              "      <td>528787</td>\n",
              "      <td>25385</td>\n",
              "      <td>27951</td>\n",
              "      <td>18480</td>\n",
              "      <td>18480</td>\n",
              "      <td>20790</td>\n",
              "      <td>17718</td>\n",
              "      <td>0</td>\n",
              "    </tr>\n",
              "    <tr>\n",
              "      <th>11366</th>\n",
              "      <td>A14199</td>\n",
              "      <td>200K</td>\n",
              "      <td>F</td>\n",
              "      <td>Other</td>\n",
              "      <td>Single</td>\n",
              "      <td>46-65</td>\n",
              "      <td>-1</td>\n",
              "      <td>-1</td>\n",
              "      <td>0</td>\n",
              "      <td>0</td>\n",
              "      <td>0</td>\n",
              "      <td>0</td>\n",
              "      <td>44031</td>\n",
              "      <td>114895</td>\n",
              "      <td>115468</td>\n",
              "      <td>20261</td>\n",
              "      <td>19931</td>\n",
              "      <td>17242</td>\n",
              "      <td>121270</td>\n",
              "      <td>4403</td>\n",
              "      <td>642</td>\n",
              "      <td>813</td>\n",
              "      <td>1035</td>\n",
              "      <td>462</td>\n",
              "      <td>0</td>\n",
              "    </tr>\n",
              "  </tbody>\n",
              "</table>\n",
              "</div>"
            ],
            "text/plain": [
              "      Client_ID Balance_Limit_V1  ... PAID_AMT_DEC NEXT_MONTH_DEFAULT\n",
              "1040      A1303             200K  ...         2310                  0\n",
              "21987    A27529               1M  ...            0                  0\n",
              "21617    A27073             400K  ...        23109                  0\n",
              "14621    A18298               1M  ...        17718                  0\n",
              "11366    A14199             200K  ...          462                  0\n",
              "\n",
              "[5 rows x 25 columns]"
            ]
          },
          "metadata": {
            "tags": []
          },
          "execution_count": 428
        }
      ]
    },
    {
      "cell_type": "code",
      "metadata": {
        "id": "y0NrnmaIjTDy",
        "colab_type": "code",
        "outputId": "48de77f1-a9ca-4c87-a5cd-10ed5445399d",
        "colab": {
          "base_uri": "https://localhost:8080/",
          "height": 317
        }
      },
      "source": [
        "traindata.describe()"
      ],
      "execution_count": 429,
      "outputs": [
        {
          "output_type": "execute_result",
          "data": {
            "text/html": [
              "<div>\n",
              "<style scoped>\n",
              "    .dataframe tbody tr th:only-of-type {\n",
              "        vertical-align: middle;\n",
              "    }\n",
              "\n",
              "    .dataframe tbody tr th {\n",
              "        vertical-align: top;\n",
              "    }\n",
              "\n",
              "    .dataframe thead th {\n",
              "        text-align: right;\n",
              "    }\n",
              "</style>\n",
              "<table border=\"1\" class=\"dataframe\">\n",
              "  <thead>\n",
              "    <tr style=\"text-align: right;\">\n",
              "      <th></th>\n",
              "      <th>PAY_JULY</th>\n",
              "      <th>PAY_AUG</th>\n",
              "      <th>PAY_SEP</th>\n",
              "      <th>PAY_OCT</th>\n",
              "      <th>PAY_NOV</th>\n",
              "      <th>PAY_DEC</th>\n",
              "      <th>DUE_AMT_JULY</th>\n",
              "      <th>DUE_AMT_AUG</th>\n",
              "      <th>DUE_AMT_SEP</th>\n",
              "      <th>DUE_AMT_OCT</th>\n",
              "      <th>DUE_AMT_NOV</th>\n",
              "      <th>DUE_AMT_DEC</th>\n",
              "      <th>PAID_AMT_JULY</th>\n",
              "      <th>PAID_AMT_AUG</th>\n",
              "      <th>PAID_AMT_SEP</th>\n",
              "      <th>PAID_AMT_OCT</th>\n",
              "      <th>PAID_AMT_NOV</th>\n",
              "      <th>PAID_AMT_DEC</th>\n",
              "      <th>NEXT_MONTH_DEFAULT</th>\n",
              "    </tr>\n",
              "  </thead>\n",
              "  <tbody>\n",
              "    <tr>\n",
              "      <th>count</th>\n",
              "      <td>19200.000000</td>\n",
              "      <td>19200.000000</td>\n",
              "      <td>19200.000000</td>\n",
              "      <td>19200.000000</td>\n",
              "      <td>19200.000000</td>\n",
              "      <td>19200.000000</td>\n",
              "      <td>1.920000e+04</td>\n",
              "      <td>1.920000e+04</td>\n",
              "      <td>1.920000e+04</td>\n",
              "      <td>1.920000e+04</td>\n",
              "      <td>1.920000e+04</td>\n",
              "      <td>1.920000e+04</td>\n",
              "      <td>1.920000e+04</td>\n",
              "      <td>1.920000e+04</td>\n",
              "      <td>1.920000e+04</td>\n",
              "      <td>1.920000e+04</td>\n",
              "      <td>19200.000000</td>\n",
              "      <td>1.920000e+04</td>\n",
              "      <td>19200.000000</td>\n",
              "    </tr>\n",
              "    <tr>\n",
              "      <th>mean</th>\n",
              "      <td>-0.015833</td>\n",
              "      <td>-0.131615</td>\n",
              "      <td>-0.161354</td>\n",
              "      <td>-0.214531</td>\n",
              "      <td>-0.260885</td>\n",
              "      <td>-0.287135</td>\n",
              "      <td>1.184254e+05</td>\n",
              "      <td>1.133854e+05</td>\n",
              "      <td>1.084892e+05</td>\n",
              "      <td>9.982352e+04</td>\n",
              "      <td>9.334551e+04</td>\n",
              "      <td>8.987581e+04</td>\n",
              "      <td>1.325928e+04</td>\n",
              "      <td>1.371325e+04</td>\n",
              "      <td>1.218679e+04</td>\n",
              "      <td>1.132695e+04</td>\n",
              "      <td>11123.981042</td>\n",
              "      <td>1.230892e+04</td>\n",
              "      <td>0.223125</td>\n",
              "    </tr>\n",
              "    <tr>\n",
              "      <th>std</th>\n",
              "      <td>1.120371</td>\n",
              "      <td>1.197085</td>\n",
              "      <td>1.197514</td>\n",
              "      <td>1.167724</td>\n",
              "      <td>1.135908</td>\n",
              "      <td>1.150121</td>\n",
              "      <td>1.707639e+05</td>\n",
              "      <td>1.646757e+05</td>\n",
              "      <td>1.610800e+05</td>\n",
              "      <td>1.488087e+05</td>\n",
              "      <td>1.417009e+05</td>\n",
              "      <td>1.386388e+05</td>\n",
              "      <td>3.857097e+04</td>\n",
              "      <td>5.582665e+04</td>\n",
              "      <td>4.238030e+04</td>\n",
              "      <td>3.673800e+04</td>\n",
              "      <td>36403.088815</td>\n",
              "      <td>4.260300e+04</td>\n",
              "      <td>0.416352</td>\n",
              "    </tr>\n",
              "    <tr>\n",
              "      <th>min</th>\n",
              "      <td>-2.000000</td>\n",
              "      <td>-2.000000</td>\n",
              "      <td>-2.000000</td>\n",
              "      <td>-2.000000</td>\n",
              "      <td>-2.000000</td>\n",
              "      <td>-2.000000</td>\n",
              "      <td>-3.536100e+04</td>\n",
              "      <td>-1.611850e+05</td>\n",
              "      <td>-1.065530e+05</td>\n",
              "      <td>-3.927000e+05</td>\n",
              "      <td>-1.878820e+05</td>\n",
              "      <td>-7.844830e+05</td>\n",
              "      <td>0.000000e+00</td>\n",
              "      <td>0.000000e+00</td>\n",
              "      <td>0.000000e+00</td>\n",
              "      <td>0.000000e+00</td>\n",
              "      <td>0.000000</td>\n",
              "      <td>0.000000e+00</td>\n",
              "      <td>0.000000</td>\n",
              "    </tr>\n",
              "    <tr>\n",
              "      <th>25%</th>\n",
              "      <td>-1.000000</td>\n",
              "      <td>-1.000000</td>\n",
              "      <td>-1.000000</td>\n",
              "      <td>-1.000000</td>\n",
              "      <td>-1.000000</td>\n",
              "      <td>-1.000000</td>\n",
              "      <td>8.405500e+03</td>\n",
              "      <td>6.905750e+03</td>\n",
              "      <td>6.237000e+03</td>\n",
              "      <td>5.380000e+03</td>\n",
              "      <td>4.092000e+03</td>\n",
              "      <td>2.943250e+03</td>\n",
              "      <td>2.310000e+03</td>\n",
              "      <td>1.931000e+03</td>\n",
              "      <td>9.010000e+02</td>\n",
              "      <td>6.650000e+02</td>\n",
              "      <td>596.000000</td>\n",
              "      <td>2.820000e+02</td>\n",
              "      <td>0.000000</td>\n",
              "    </tr>\n",
              "    <tr>\n",
              "      <th>50%</th>\n",
              "      <td>0.000000</td>\n",
              "      <td>0.000000</td>\n",
              "      <td>0.000000</td>\n",
              "      <td>0.000000</td>\n",
              "      <td>0.000000</td>\n",
              "      <td>0.000000</td>\n",
              "      <td>5.137200e+04</td>\n",
              "      <td>4.825250e+04</td>\n",
              "      <td>4.608150e+04</td>\n",
              "      <td>4.404700e+04</td>\n",
              "      <td>4.173850e+04</td>\n",
              "      <td>3.919700e+04</td>\n",
              "      <td>4.900000e+03</td>\n",
              "      <td>4.637000e+03</td>\n",
              "      <td>4.159000e+03</td>\n",
              "      <td>3.465000e+03</td>\n",
              "      <td>3465.000000</td>\n",
              "      <td>3.465000e+03</td>\n",
              "      <td>0.000000</td>\n",
              "    </tr>\n",
              "    <tr>\n",
              "      <th>75%</th>\n",
              "      <td>0.000000</td>\n",
              "      <td>0.000000</td>\n",
              "      <td>0.000000</td>\n",
              "      <td>0.000000</td>\n",
              "      <td>0.000000</td>\n",
              "      <td>0.000000</td>\n",
              "      <td>1.547355e+05</td>\n",
              "      <td>1.475445e+05</td>\n",
              "      <td>1.389655e+05</td>\n",
              "      <td>1.260680e+05</td>\n",
              "      <td>1.163722e+05</td>\n",
              "      <td>1.139262e+05</td>\n",
              "      <td>1.157350e+04</td>\n",
              "      <td>1.155000e+04</td>\n",
              "      <td>1.062600e+04</td>\n",
              "      <td>9.449250e+03</td>\n",
              "      <td>9388.500000</td>\n",
              "      <td>9.247000e+03</td>\n",
              "      <td>0.000000</td>\n",
              "    </tr>\n",
              "    <tr>\n",
              "      <th>max</th>\n",
              "      <td>8.000000</td>\n",
              "      <td>8.000000</td>\n",
              "      <td>8.000000</td>\n",
              "      <td>8.000000</td>\n",
              "      <td>8.000000</td>\n",
              "      <td>8.000000</td>\n",
              "      <td>2.228020e+06</td>\n",
              "      <td>2.272881e+06</td>\n",
              "      <td>3.844046e+06</td>\n",
              "      <td>2.059564e+06</td>\n",
              "      <td>2.141765e+06</td>\n",
              "      <td>2.221444e+06</td>\n",
              "      <td>2.017905e+06</td>\n",
              "      <td>3.890638e+06</td>\n",
              "      <td>2.069852e+06</td>\n",
              "      <td>1.434510e+06</td>\n",
              "      <td>965557.000000</td>\n",
              "      <td>1.221218e+06</td>\n",
              "      <td>1.000000</td>\n",
              "    </tr>\n",
              "  </tbody>\n",
              "</table>\n",
              "</div>"
            ],
            "text/plain": [
              "           PAY_JULY       PAY_AUG  ...  PAID_AMT_DEC  NEXT_MONTH_DEFAULT\n",
              "count  19200.000000  19200.000000  ...  1.920000e+04        19200.000000\n",
              "mean      -0.015833     -0.131615  ...  1.230892e+04            0.223125\n",
              "std        1.120371      1.197085  ...  4.260300e+04            0.416352\n",
              "min       -2.000000     -2.000000  ...  0.000000e+00            0.000000\n",
              "25%       -1.000000     -1.000000  ...  2.820000e+02            0.000000\n",
              "50%        0.000000      0.000000  ...  3.465000e+03            0.000000\n",
              "75%        0.000000      0.000000  ...  9.247000e+03            0.000000\n",
              "max        8.000000      8.000000  ...  1.221218e+06            1.000000\n",
              "\n",
              "[8 rows x 19 columns]"
            ]
          },
          "metadata": {
            "tags": []
          },
          "execution_count": 429
        }
      ]
    },
    {
      "cell_type": "code",
      "metadata": {
        "id": "5vcSHx-kvQLN",
        "colab_type": "code",
        "colab": {}
      },
      "source": [
        "traindata=traindata.replace(['M','F'], [1,-1]) "
      ],
      "execution_count": 0,
      "outputs": []
    },
    {
      "cell_type": "code",
      "metadata": {
        "id": "Fwh76K9qwJzj",
        "colab_type": "code",
        "outputId": "944019d3-74fd-4854-a540-700c2a47aba3",
        "colab": {
          "base_uri": "https://localhost:8080/",
          "height": 221
        }
      },
      "source": [
        "pd.to_numeric(traindata['Gender'])"
      ],
      "execution_count": 431,
      "outputs": [
        {
          "output_type": "execute_result",
          "data": {
            "text/plain": [
              "1040     1\n",
              "21987   -1\n",
              "21617   -1\n",
              "14621    1\n",
              "11366   -1\n",
              "        ..\n",
              "16743   -1\n",
              "1686     1\n",
              "17512    1\n",
              "16881   -1\n",
              "8189     1\n",
              "Name: Gender, Length: 19200, dtype: int64"
            ]
          },
          "metadata": {
            "tags": []
          },
          "execution_count": 431
        }
      ]
    },
    {
      "cell_type": "code",
      "metadata": {
        "id": "qoRQ86SJztS7",
        "colab_type": "code",
        "outputId": "7fb1a648-b33a-47b7-9824-d7aa0f504643",
        "colab": {
          "base_uri": "https://localhost:8080/",
          "height": 136
        }
      },
      "source": [
        "print(traindata.groupby('EDUCATION_STATUS').count())"
      ],
      "execution_count": 432,
      "outputs": [
        {
          "output_type": "stream",
          "text": [
            "                  Client_ID  Balance_Limit_V1  ...  PAID_AMT_DEC  NEXT_MONTH_DEFAULT\n",
            "EDUCATION_STATUS                               ...                                  \n",
            "Graduate               6749              6749  ...          6749                6749\n",
            "High School            3130              3130  ...          3130                3130\n",
            "Other                  9321              9321  ...          9321                9321\n",
            "\n",
            "[3 rows x 24 columns]\n"
          ],
          "name": "stdout"
        }
      ]
    },
    {
      "cell_type": "code",
      "metadata": {
        "id": "rGvWVzvU0E8-",
        "colab_type": "code",
        "colab": {}
      },
      "source": [
        "traindata=traindata.replace(['Graduate','High School','Other'], [2,1,0]) "
      ],
      "execution_count": 0,
      "outputs": []
    },
    {
      "cell_type": "code",
      "metadata": {
        "id": "BaNVGOBz2YAF",
        "colab_type": "code",
        "outputId": "559a66ec-080c-4098-fbca-a281e73081d4",
        "colab": {
          "base_uri": "https://localhost:8080/",
          "height": 221
        }
      },
      "source": [
        "pd.to_numeric(traindata['EDUCATION_STATUS'])"
      ],
      "execution_count": 434,
      "outputs": [
        {
          "output_type": "execute_result",
          "data": {
            "text/plain": [
              "1040     1\n",
              "21987    0\n",
              "21617    1\n",
              "14621    0\n",
              "11366    0\n",
              "        ..\n",
              "16743    1\n",
              "1686     0\n",
              "17512    0\n",
              "16881    0\n",
              "8189     2\n",
              "Name: EDUCATION_STATUS, Length: 19200, dtype: int64"
            ]
          },
          "metadata": {
            "tags": []
          },
          "execution_count": 434
        }
      ]
    },
    {
      "cell_type": "code",
      "metadata": {
        "id": "qSBJgBFc2i6a",
        "colab_type": "code",
        "outputId": "ac69df72-205c-4757-a753-1db6699348cf",
        "colab": {
          "base_uri": "https://localhost:8080/",
          "height": 119
        }
      },
      "source": [
        "print(traindata.groupby('MARITAL_STATUS').count())"
      ],
      "execution_count": 435,
      "outputs": [
        {
          "output_type": "stream",
          "text": [
            "                Client_ID  Balance_Limit_V1  ...  PAID_AMT_DEC  NEXT_MONTH_DEFAULT\n",
            "MARITAL_STATUS                               ...                                  \n",
            "0                   10463             10463  ...         10463               10463\n",
            "Single               8737              8737  ...          8737                8737\n",
            "\n",
            "[2 rows x 24 columns]\n"
          ],
          "name": "stdout"
        }
      ]
    },
    {
      "cell_type": "code",
      "metadata": {
        "id": "zH4QhWBp2t5J",
        "colab_type": "code",
        "colab": {}
      },
      "source": [
        "traindata=traindata.replace(['Single'], [1]) "
      ],
      "execution_count": 0,
      "outputs": []
    },
    {
      "cell_type": "code",
      "metadata": {
        "id": "sO3NIKiL29TM",
        "colab_type": "code",
        "outputId": "58103b67-b457-4aab-cf56-ae95358c3768",
        "colab": {
          "base_uri": "https://localhost:8080/",
          "height": 221
        }
      },
      "source": [
        "pd.to_numeric(traindata['EDUCATION_STATUS'])"
      ],
      "execution_count": 437,
      "outputs": [
        {
          "output_type": "execute_result",
          "data": {
            "text/plain": [
              "1040     1\n",
              "21987    0\n",
              "21617    1\n",
              "14621    0\n",
              "11366    0\n",
              "        ..\n",
              "16743    1\n",
              "1686     0\n",
              "17512    0\n",
              "16881    0\n",
              "8189     2\n",
              "Name: EDUCATION_STATUS, Length: 19200, dtype: int64"
            ]
          },
          "metadata": {
            "tags": []
          },
          "execution_count": 437
        }
      ]
    },
    {
      "cell_type": "code",
      "metadata": {
        "id": "LbUodKd13Kbt",
        "colab_type": "code",
        "outputId": "964a3825-6cb7-47b0-d5f6-a613c5f476dc",
        "colab": {
          "base_uri": "https://localhost:8080/",
          "height": 153
        }
      },
      "source": [
        "print(traindata.groupby('AGE').count())"
      ],
      "execution_count": 438,
      "outputs": [
        {
          "output_type": "stream",
          "text": [
            "              Client_ID  Balance_Limit_V1  ...  PAID_AMT_DEC  NEXT_MONTH_DEFAULT\n",
            "AGE                                        ...                                  \n",
            "31-45              9683              9683  ...          9683                9683\n",
            "46-65              3351              3351  ...          3351                3351\n",
            "Less than 30       6096              6096  ...          6096                6096\n",
            "More than 65         70                70  ...            70                  70\n",
            "\n",
            "[4 rows x 24 columns]\n"
          ],
          "name": "stdout"
        }
      ]
    },
    {
      "cell_type": "code",
      "metadata": {
        "id": "l8aXSJ9n5Pll",
        "colab_type": "code",
        "colab": {}
      },
      "source": [
        "traindata['AGE']=traindata['AGE'].replace(['Less than 30','31-45','46-65','More than 65'], [1,2,3,4]) "
      ],
      "execution_count": 0,
      "outputs": []
    },
    {
      "cell_type": "code",
      "metadata": {
        "id": "6_3PKioj90Zc",
        "colab_type": "code",
        "colab": {}
      },
      "source": [
        "traindata['Balance_Limit_V1'] = traindata['Balance_Limit_V1'].map(lambda x : float(x[0:-1])*1000 if (x[-1]=='K') else float(x[0:-1])*1000000)"
      ],
      "execution_count": 0,
      "outputs": []
    },
    {
      "cell_type": "code",
      "metadata": {
        "id": "jtPrffow-t_2",
        "colab_type": "code",
        "outputId": "9aa1417f-4ad3-4221-d7fd-877633089d37",
        "colab": {
          "base_uri": "https://localhost:8080/",
          "height": 221
        }
      },
      "source": [
        "pd.to_numeric(traindata['Balance_Limit_V1'])"
      ],
      "execution_count": 441,
      "outputs": [
        {
          "output_type": "execute_result",
          "data": {
            "text/plain": [
              "1040      200000.0\n",
              "21987    1000000.0\n",
              "21617     400000.0\n",
              "14621    1000000.0\n",
              "11366     200000.0\n",
              "           ...    \n",
              "16743     100000.0\n",
              "1686      300000.0\n",
              "17512    1000000.0\n",
              "16881     100000.0\n",
              "8189      200000.0\n",
              "Name: Balance_Limit_V1, Length: 19200, dtype: float64"
            ]
          },
          "metadata": {
            "tags": []
          },
          "execution_count": 441
        }
      ]
    },
    {
      "cell_type": "code",
      "metadata": {
        "id": "k8xA-Kd9C9x3",
        "colab_type": "code",
        "outputId": "d13b9adb-9ffb-4719-8834-5511348f5530",
        "colab": {
          "base_uri": "https://localhost:8080/",
          "height": 119
        }
      },
      "source": [
        "print(traindata.groupby('NEXT_MONTH_DEFAULT').count())"
      ],
      "execution_count": 442,
      "outputs": [
        {
          "output_type": "stream",
          "text": [
            "                    Client_ID  Balance_Limit_V1  ...  PAID_AMT_NOV  PAID_AMT_DEC\n",
            "NEXT_MONTH_DEFAULT                               ...                            \n",
            "0                       14916             14916  ...         14916         14916\n",
            "1                        4284              4284  ...          4284          4284\n",
            "\n",
            "[2 rows x 24 columns]\n"
          ],
          "name": "stdout"
        }
      ]
    },
    {
      "cell_type": "code",
      "metadata": {
        "id": "NjRN7Ws4DDTp",
        "colab_type": "code",
        "colab": {}
      },
      "source": [
        "traindata[traindata.columns[12:24]]=traindata[traindata.columns[12:24]]/traindata.max()[traindata.columns[12:24]]"
      ],
      "execution_count": 0,
      "outputs": []
    },
    {
      "cell_type": "code",
      "metadata": {
        "id": "Xv9QvAnZGRcs",
        "colab_type": "code",
        "colab": {}
      },
      "source": [
        "traindata['Balance_Limit_V1']=traindata['Balance_Limit_V1']/traindata.max()['Balance_Limit_V1']"
      ],
      "execution_count": 0,
      "outputs": []
    },
    {
      "cell_type": "code",
      "metadata": {
        "id": "YdT6SNA7GwlY",
        "colab_type": "code",
        "colab": {}
      },
      "source": [
        "traindata['BIAS']=1"
      ],
      "execution_count": 0,
      "outputs": []
    },
    {
      "cell_type": "code",
      "metadata": {
        "id": "GygXxGbpnZn4",
        "colab_type": "code",
        "colab": {}
      },
      "source": [
        "testdata=testdata.replace(['M','F'], [1,-1])\n",
        "testdata=testdata.replace(['Graduate','High School','Other'], [2,1,0])\n",
        "testdata=testdata.replace(['Single'], [1])\n",
        "testdata['AGE']=testdata['AGE'].replace(['Less than 30','31-45','46-65','More than 65'], [1,2,3,4]) \n",
        "testdata['Balance_Limit_V1'] = testdata['Balance_Limit_V1'].map(lambda x : float(x[0:-1])*1000 if (x[-1]=='K') else float(x[0:-1])*1000000)\n",
        "testdata[testdata.columns[12:24]]=testdata[testdata.columns[12:24]]/testdata.max()[testdata.columns[12:24]]\n",
        "testdata['BIAS']=1\n",
        "testdata['Balance_Limit_V1']=testdata['Balance_Limit_V1']/testdata.max()['Balance_Limit_V1']"
      ],
      "execution_count": 0,
      "outputs": []
    },
    {
      "cell_type": "code",
      "metadata": {
        "id": "metLq05SjqLi",
        "colab_type": "code",
        "colab": {}
      },
      "source": [
        "independentVar= ['Balance_Limit_V1',\n",
        "                 'Gender',\n",
        "                 'EDUCATION_STATUS',\n",
        "                 'MARITAL_STATUS',\n",
        "                 'AGE',\n",
        "                 'PAY_JULY','PAY_AUG','PAY_SEP','PAY_OCT','PAY_NOV','PAY_DEC',\n",
        "                 'DUE_AMT_JULY','DUE_AMT_AUG','DUE_AMT_SEP','DUE_AMT_OCT','DUE_AMT_NOV','DUE_AMT_DEC',\n",
        "                 'PAID_AMT_JULY','PAID_AMT_AUG','PAID_AMT_SEP','PAID_AMT_OCT','PAID_AMT_NOV','PAID_AMT_DEC','BIAS']"
      ],
      "execution_count": 0,
      "outputs": []
    },
    {
      "cell_type": "code",
      "metadata": {
        "id": "B2zauo1Ql-8a",
        "colab_type": "code",
        "colab": {}
      },
      "source": [
        "X_train, y_train = traindata[independentVar], traindata['NEXT_MONTH_DEFAULT']\n",
        "X_test, y_test = testdata[independentVar], testdata['NEXT_MONTH_DEFAULT']"
      ],
      "execution_count": 0,
      "outputs": []
    },
    {
      "cell_type": "code",
      "metadata": {
        "id": "4qxOzQEI5k0_",
        "colab_type": "code",
        "colab": {}
      },
      "source": [
        "from sklearn import metrics\n",
        "from imblearn.over_sampling import SMOTE\n",
        "from imblearn.under_sampling import RandomUnderSampler\n",
        "from keras.models import Sequential\n",
        "from keras.layers import Dense"
      ],
      "execution_count": 0,
      "outputs": []
    },
    {
      "cell_type": "code",
      "metadata": {
        "id": "JkQ9OJoc5oTS",
        "colab_type": "code",
        "outputId": "fa368668-c808-4cb0-be2e-9fd5da3fdb31",
        "colab": {
          "base_uri": "https://localhost:8080/",
          "height": 105
        }
      },
      "source": [
        "# define undersampling strategy\n",
        "under = RandomUnderSampler(sampling_strategy=0.4)\n",
        "# fit and apply the transform\n",
        "X_train_res, y_train_res = under.fit_resample(X_train, y_train)\n",
        "\n",
        "sm = SMOTE(random_state=2)\n",
        "X_train_res, y_train_res = sm.fit_sample(X_train_res, y_train_res.ravel())"
      ],
      "execution_count": 450,
      "outputs": [
        {
          "output_type": "stream",
          "text": [
            "/usr/local/lib/python3.6/dist-packages/sklearn/utils/deprecation.py:87: FutureWarning: Function safe_indexing is deprecated; safe_indexing is deprecated in version 0.22 and will be removed in version 0.24.\n",
            "  warnings.warn(msg, category=FutureWarning)\n",
            "/usr/local/lib/python3.6/dist-packages/sklearn/utils/deprecation.py:87: FutureWarning: Function safe_indexing is deprecated; safe_indexing is deprecated in version 0.22 and will be removed in version 0.24.\n",
            "  warnings.warn(msg, category=FutureWarning)\n"
          ],
          "name": "stderr"
        }
      ]
    },
    {
      "cell_type": "code",
      "metadata": {
        "id": "XiOV3Nr4_Qfl",
        "colab_type": "code",
        "colab": {}
      },
      "source": [
        "# define the keras model\n",
        "model = Sequential()\n",
        "model.add(Dense(256, input_dim=24, activation='relu'))\n",
        "model.add(Dense(512, activation='relu'))\n",
        "model.add(Dense(1024, activation='relu'))\n",
        "model.add(Dense(2048, activation='relu'))\n",
        "model.add(Dense(1, activation='sigmoid'))"
      ],
      "execution_count": 0,
      "outputs": []
    },
    {
      "cell_type": "code",
      "metadata": {
        "id": "LslQB9QG_ibA",
        "colab_type": "code",
        "colab": {}
      },
      "source": [
        "# compile the keras model\n",
        "model.compile(loss='binary_crossentropy', optimizer='adam', metrics=['accuracy'])"
      ],
      "execution_count": 0,
      "outputs": []
    },
    {
      "cell_type": "code",
      "metadata": {
        "id": "V5rdwVV3_zA8",
        "colab_type": "code",
        "colab": {
          "base_uri": "https://localhost:8080/",
          "height": 1000
        },
        "outputId": "19114d8e-de78-4347-d36b-d33ddffd8ecd"
      },
      "source": [
        "# fit the keras model on the dataset\n",
        "history = model.fit(X_train_res, y_train_res, epochs=50)"
      ],
      "execution_count": 453,
      "outputs": [
        {
          "output_type": "stream",
          "text": [
            "Epoch 1/50\n",
            "21420/21420 [==============================] - 5s 239us/step - loss: 0.5888 - acc: 0.6977\n",
            "Epoch 2/50\n",
            "21420/21420 [==============================] - 3s 159us/step - loss: 0.5667 - acc: 0.7107\n",
            "Epoch 3/50\n",
            "21420/21420 [==============================] - 3s 158us/step - loss: 0.5590 - acc: 0.7145\n",
            "Epoch 4/50\n",
            "21420/21420 [==============================] - 3s 159us/step - loss: 0.5522 - acc: 0.7180\n",
            "Epoch 5/50\n",
            "21420/21420 [==============================] - 3s 159us/step - loss: 0.5460 - acc: 0.7212\n",
            "Epoch 6/50\n",
            "21420/21420 [==============================] - 3s 159us/step - loss: 0.5382 - acc: 0.7233\n",
            "Epoch 7/50\n",
            "21420/21420 [==============================] - 3s 160us/step - loss: 0.5323 - acc: 0.7278\n",
            "Epoch 8/50\n",
            "21420/21420 [==============================] - 3s 159us/step - loss: 0.5261 - acc: 0.7310\n",
            "Epoch 9/50\n",
            "21420/21420 [==============================] - 3s 158us/step - loss: 0.5190 - acc: 0.7345\n",
            "Epoch 10/50\n",
            "21420/21420 [==============================] - 3s 159us/step - loss: 0.5114 - acc: 0.7413\n",
            "Epoch 11/50\n",
            "21420/21420 [==============================] - 3s 157us/step - loss: 0.5050 - acc: 0.7447\n",
            "Epoch 12/50\n",
            "21420/21420 [==============================] - 3s 158us/step - loss: 0.4995 - acc: 0.7479\n",
            "Epoch 13/50\n",
            "21420/21420 [==============================] - 3s 159us/step - loss: 0.4903 - acc: 0.7507\n",
            "Epoch 14/50\n",
            "21420/21420 [==============================] - 3s 160us/step - loss: 0.4843 - acc: 0.7540\n",
            "Epoch 15/50\n",
            "21420/21420 [==============================] - 3s 157us/step - loss: 0.4768 - acc: 0.7604\n",
            "Epoch 16/50\n",
            "21420/21420 [==============================] - 3s 159us/step - loss: 0.4712 - acc: 0.7614\n",
            "Epoch 17/50\n",
            "21420/21420 [==============================] - 3s 160us/step - loss: 0.4627 - acc: 0.7687\n",
            "Epoch 18/50\n",
            "21420/21420 [==============================] - 3s 158us/step - loss: 0.4556 - acc: 0.7724\n",
            "Epoch 19/50\n",
            "21420/21420 [==============================] - 3s 157us/step - loss: 0.4467 - acc: 0.7804\n",
            "Epoch 20/50\n",
            "21420/21420 [==============================] - 3s 159us/step - loss: 0.4401 - acc: 0.7826\n",
            "Epoch 21/50\n",
            "21420/21420 [==============================] - 3s 158us/step - loss: 0.4318 - acc: 0.7864\n",
            "Epoch 22/50\n",
            "21420/21420 [==============================] - 3s 158us/step - loss: 0.4262 - acc: 0.7892\n",
            "Epoch 23/50\n",
            "21420/21420 [==============================] - 3s 157us/step - loss: 0.4203 - acc: 0.7899\n",
            "Epoch 24/50\n",
            "21420/21420 [==============================] - 3s 162us/step - loss: 0.4099 - acc: 0.7975\n",
            "Epoch 25/50\n",
            "21420/21420 [==============================] - 4s 165us/step - loss: 0.4061 - acc: 0.8014\n",
            "Epoch 26/50\n",
            "21420/21420 [==============================] - 3s 159us/step - loss: 0.3998 - acc: 0.8035\n",
            "Epoch 27/50\n",
            "21420/21420 [==============================] - 3s 158us/step - loss: 0.3918 - acc: 0.8077\n",
            "Epoch 28/50\n",
            "21420/21420 [==============================] - 3s 157us/step - loss: 0.3864 - acc: 0.8089\n",
            "Epoch 29/50\n",
            "21420/21420 [==============================] - 3s 157us/step - loss: 0.3803 - acc: 0.8125\n",
            "Epoch 30/50\n",
            "21420/21420 [==============================] - 3s 159us/step - loss: 0.3742 - acc: 0.8146\n",
            "Epoch 31/50\n",
            "21420/21420 [==============================] - 3s 160us/step - loss: 0.3752 - acc: 0.8166\n",
            "Epoch 32/50\n",
            "21420/21420 [==============================] - 3s 158us/step - loss: 0.3702 - acc: 0.8153\n",
            "Epoch 33/50\n",
            "21420/21420 [==============================] - 3s 161us/step - loss: 0.3597 - acc: 0.8242\n",
            "Epoch 34/50\n",
            "21420/21420 [==============================] - 3s 161us/step - loss: 0.3624 - acc: 0.8223\n",
            "Epoch 35/50\n",
            "21420/21420 [==============================] - 3s 157us/step - loss: 0.3530 - acc: 0.8264\n",
            "Epoch 36/50\n",
            "21420/21420 [==============================] - 3s 157us/step - loss: 0.3514 - acc: 0.8251\n",
            "Epoch 37/50\n",
            "21420/21420 [==============================] - 3s 158us/step - loss: 0.3529 - acc: 0.8268\n",
            "Epoch 38/50\n",
            "21420/21420 [==============================] - 3s 159us/step - loss: 0.3456 - acc: 0.8302\n",
            "Epoch 39/50\n",
            "21420/21420 [==============================] - 3s 158us/step - loss: 0.3415 - acc: 0.8328\n",
            "Epoch 40/50\n",
            "21420/21420 [==============================] - 3s 158us/step - loss: 0.3341 - acc: 0.8380\n",
            "Epoch 41/50\n",
            "21420/21420 [==============================] - 3s 159us/step - loss: 0.3369 - acc: 0.8335\n",
            "Epoch 42/50\n",
            "21420/21420 [==============================] - 3s 158us/step - loss: 0.3324 - acc: 0.8368\n",
            "Epoch 43/50\n",
            "21420/21420 [==============================] - 3s 158us/step - loss: 0.3263 - acc: 0.8430\n",
            "Epoch 44/50\n",
            "21420/21420 [==============================] - 3s 157us/step - loss: 0.3217 - acc: 0.8408\n",
            "Epoch 45/50\n",
            "21420/21420 [==============================] - 3s 159us/step - loss: 0.3301 - acc: 0.8402\n",
            "Epoch 46/50\n",
            "21420/21420 [==============================] - 3s 157us/step - loss: 0.3166 - acc: 0.8411\n",
            "Epoch 47/50\n",
            "21420/21420 [==============================] - 3s 160us/step - loss: 0.3173 - acc: 0.8438\n",
            "Epoch 48/50\n",
            "21420/21420 [==============================] - 3s 160us/step - loss: 0.3156 - acc: 0.8449\n",
            "Epoch 49/50\n",
            "21420/21420 [==============================] - 3s 160us/step - loss: 0.3109 - acc: 0.8465\n",
            "Epoch 50/50\n",
            "21420/21420 [==============================] - 3s 159us/step - loss: 0.3088 - acc: 0.8479\n"
          ],
          "name": "stdout"
        }
      ]
    },
    {
      "cell_type": "code",
      "metadata": {
        "id": "C9HapLPSqAyR",
        "colab_type": "code",
        "colab": {}
      },
      "source": [
        "# make probability predictions with the model\n",
        "y_pred = model.predict(X_test)\n",
        "\n",
        "# round predictions\n",
        "y_pred_rounded = [round(x[0]) for x in y_pred]"
      ],
      "execution_count": 0,
      "outputs": []
    },
    {
      "cell_type": "code",
      "metadata": {
        "id": "J5GtMxksQK-N",
        "colab_type": "code",
        "colab": {
          "base_uri": "https://localhost:8080/",
          "height": 51
        },
        "outputId": "0b6a536d-a1b9-4d9a-9b6b-f5fcd3dddec2"
      },
      "source": [
        "from sklearn.metrics import confusion_matrix\n",
        "confusion_matrix = confusion_matrix(y_test, y_pred_rounded)\n",
        "print(confusion_matrix)"
      ],
      "execution_count": 455,
      "outputs": [
        {
          "output_type": "stream",
          "text": [
            "[[2828  926]\n",
            " [ 477  569]]\n"
          ],
          "name": "stdout"
        }
      ]
    },
    {
      "cell_type": "code",
      "metadata": {
        "id": "iA7J9pN5pMLR",
        "colab_type": "code",
        "outputId": "50689e76-4691-4f3d-db4e-d6595711d30a",
        "colab": {
          "base_uri": "https://localhost:8080/",
          "height": 170
        }
      },
      "source": [
        "from sklearn.metrics import classification_report\n",
        "print(classification_report(y_test, y_pred_rounded))"
      ],
      "execution_count": 456,
      "outputs": [
        {
          "output_type": "stream",
          "text": [
            "              precision    recall  f1-score   support\n",
            "\n",
            "           0       0.86      0.75      0.80      3754\n",
            "           1       0.38      0.54      0.45      1046\n",
            "\n",
            "    accuracy                           0.71      4800\n",
            "   macro avg       0.62      0.65      0.62      4800\n",
            "weighted avg       0.75      0.71      0.72      4800\n",
            "\n"
          ],
          "name": "stdout"
        }
      ]
    },
    {
      "cell_type": "code",
      "metadata": {
        "id": "iwQ7U-xeeY38",
        "colab_type": "code",
        "colab": {
          "base_uri": "https://localhost:8080/",
          "height": 262
        },
        "outputId": "98b48007-2ff6-4d8d-a305-4b483c505122"
      },
      "source": [
        "acc = history.history['acc']\n",
        "# val_acc = history.history['val_acc']\n",
        "\n",
        "loss = history.history['loss']\n",
        "# val_loss = history.history['val_loss']\n",
        "\n",
        "plt.figure(figsize=(8, 8))\n",
        "plt.subplot(2, 1, 1)\n",
        "plt.plot(acc, label='Training Accuracy')\n",
        "# plt.plot(val_acc, label='Validation Accuracy')\n",
        "plt.legend(loc='lower right')\n",
        "plt.ylabel('Accuracy')\n",
        "plt.ylim([min(plt.ylim()),1])\n",
        "plt.title('Training and Validation Accuracy')\n",
        "plt.show()"
      ],
      "execution_count": 457,
      "outputs": [
        {
          "output_type": "display_data",
          "data": {
            "image/png": "[encoded data removed]",
            "text/plain": [
              "<Figure size 576x576 with 1 Axes>"
            ]
          },
          "metadata": {
            "tags": []
          }
        }
      ]
    }
  ]
}