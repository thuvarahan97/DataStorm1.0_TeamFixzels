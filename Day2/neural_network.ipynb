{
  "nbformat": 4,
  "nbformat_minor": 0,
  "metadata": {
    "colab": {
      "name": "neural_network.ipynb",
      "provenance": [],
      "collapsed_sections": [],
      "machine_shape": "hm",
      "include_colab_link": true
    },
    "kernelspec": {
      "name": "python3",
      "display_name": "Python 3"
    },
    "accelerator": "GPU"
  },
  "cells": [
    {
      "cell_type": "markdown",
      "metadata": {
        "id": "view-in-github",
        "colab_type": "text"
      },
      "source": [
        "<a href=\"https://colab.research.google.com/github/thuvarahan97/DataStorm1.0_TeamFixzels/blob/master/Day2/neural_network.ipynb\" target=\"_parent\"><img src=\"https://colab.research.google.com/assets/colab-badge.svg\" alt=\"Open In Colab\"/></a>"
      ]
    },
    {
      "cell_type": "code",
      "metadata": {
        "id": "rT8zFjDeRd8R",
        "colab_type": "code",
        "colab": {}
      },
      "source": [
        "import pandas as pd             #to use read_csv(), crosstab()\n",
        "import numpy as np              #to use exponentiation : exp()\n",
        "import statsmodels.api as sm    #to use the Logit()\n",
        "import matplotlib.pyplot as plt\n",
        "%matplotlib inline\n",
        "\n",
        "from sklearn.model_selection import train_test_split"
      ],
      "execution_count": 0,
      "outputs": []
    },
    {
      "cell_type": "code",
      "metadata": {
        "id": "tzRIvEoZOk4a",
        "colab_type": "code",
        "colab": {}
      },
      "source": [
        "# from google.colab import drive\n",
        "# drive.mount('/content/drive')"
      ],
      "execution_count": 0,
      "outputs": []
    },
    {
      "cell_type": "code",
      "metadata": {
        "id": "HK2InDRricgC",
        "colab_type": "code",
        "colab": {}
      },
      "source": [
        "#import the dataset\n",
        "traindatainput = pd.read_csv('/content/drive/My Drive/Colab Notebooks/DataStorm1.0 - Team Fixzels/credit_card_default_train.csv',sep=\",\")\n",
        "testdatainput = pd.read_csv('/content/drive/My Drive/Colab Notebooks/DataStorm1.0 - Team Fixzels/credit_card_default_test.csv',sep=\",\")"
      ],
      "execution_count": 0,
      "outputs": []
    },
    {
      "cell_type": "code",
      "metadata": {
        "id": "pBU9T_0AZSGJ",
        "colab_type": "code",
        "colab": {}
      },
      "source": [
        "traindata, testdata1 = train_test_split(traindatainput, train_size=0.8, test_size=0.2)\n",
        "# traindata = traindatainput\n",
        "testdata = testdatainput"
      ],
      "execution_count": 0,
      "outputs": []
    },
    {
      "cell_type": "code",
      "metadata": {
        "id": "Rl-d_nZQjAFl",
        "colab_type": "code",
        "outputId": "813ade29-2152-4db7-eab0-378e209ad826",
        "colab": {
          "base_uri": "https://localhost:8080/",
          "height": 343
        }
      },
      "source": [
        "traindata.head()"
      ],
      "execution_count": 0,
      "outputs": [
        {
          "output_type": "execute_result",
          "data": {
            "text/html": [
              "<div>\n",
              "<style scoped>\n",
              "    .dataframe tbody tr th:only-of-type {\n",
              "        vertical-align: middle;\n",
              "    }\n",
              "\n",
              "    .dataframe tbody tr th {\n",
              "        vertical-align: top;\n",
              "    }\n",
              "\n",
              "    .dataframe thead th {\n",
              "        text-align: right;\n",
              "    }\n",
              "</style>\n",
              "<table border=\"1\" class=\"dataframe\">\n",
              "  <thead>\n",
              "    <tr style=\"text-align: right;\">\n",
              "      <th></th>\n",
              "      <th>Client_ID</th>\n",
              "      <th>Balance_Limit_V1</th>\n",
              "      <th>Gender</th>\n",
              "      <th>EDUCATION_STATUS</th>\n",
              "      <th>MARITAL_STATUS</th>\n",
              "      <th>AGE</th>\n",
              "      <th>PAY_JULY</th>\n",
              "      <th>PAY_AUG</th>\n",
              "      <th>PAY_SEP</th>\n",
              "      <th>PAY_OCT</th>\n",
              "      <th>PAY_NOV</th>\n",
              "      <th>PAY_DEC</th>\n",
              "      <th>DUE_AMT_JULY</th>\n",
              "      <th>DUE_AMT_AUG</th>\n",
              "      <th>DUE_AMT_SEP</th>\n",
              "      <th>DUE_AMT_OCT</th>\n",
              "      <th>DUE_AMT_NOV</th>\n",
              "      <th>DUE_AMT_DEC</th>\n",
              "      <th>PAID_AMT_JULY</th>\n",
              "      <th>PAID_AMT_AUG</th>\n",
              "      <th>PAID_AMT_SEP</th>\n",
              "      <th>PAID_AMT_OCT</th>\n",
              "      <th>PAID_AMT_NOV</th>\n",
              "      <th>PAID_AMT_DEC</th>\n",
              "      <th>NEXT_MONTH_DEFAULT</th>\n",
              "    </tr>\n",
              "  </thead>\n",
              "  <tbody>\n",
              "    <tr>\n",
              "      <th>10831</th>\n",
              "      <td>A13538</td>\n",
              "      <td>400K</td>\n",
              "      <td>F</td>\n",
              "      <td>Other</td>\n",
              "      <td>Single</td>\n",
              "      <td>31-45</td>\n",
              "      <td>-1</td>\n",
              "      <td>-1</td>\n",
              "      <td>-1</td>\n",
              "      <td>0</td>\n",
              "      <td>0</td>\n",
              "      <td>-1</td>\n",
              "      <td>9228</td>\n",
              "      <td>14553</td>\n",
              "      <td>35322</td>\n",
              "      <td>20986</td>\n",
              "      <td>13400</td>\n",
              "      <td>15253</td>\n",
              "      <td>14738</td>\n",
              "      <td>35322</td>\n",
              "      <td>420</td>\n",
              "      <td>268</td>\n",
              "      <td>15253</td>\n",
              "      <td>9240</td>\n",
              "      <td>0</td>\n",
              "    </tr>\n",
              "    <tr>\n",
              "      <th>14908</th>\n",
              "      <td>A18669</td>\n",
              "      <td>200K</td>\n",
              "      <td>M</td>\n",
              "      <td>Other</td>\n",
              "      <td>Other</td>\n",
              "      <td>Less than 30</td>\n",
              "      <td>0</td>\n",
              "      <td>0</td>\n",
              "      <td>0</td>\n",
              "      <td>0</td>\n",
              "      <td>0</td>\n",
              "      <td>0</td>\n",
              "      <td>18609</td>\n",
              "      <td>13853</td>\n",
              "      <td>12941</td>\n",
              "      <td>14964</td>\n",
              "      <td>12596</td>\n",
              "      <td>5223</td>\n",
              "      <td>3465</td>\n",
              "      <td>3465</td>\n",
              "      <td>2335</td>\n",
              "      <td>2310</td>\n",
              "      <td>2310</td>\n",
              "      <td>2310</td>\n",
              "      <td>1</td>\n",
              "    </tr>\n",
              "    <tr>\n",
              "      <th>7897</th>\n",
              "      <td>A9830</td>\n",
              "      <td>1M</td>\n",
              "      <td>F</td>\n",
              "      <td>Graduate</td>\n",
              "      <td>Other</td>\n",
              "      <td>46-65</td>\n",
              "      <td>-2</td>\n",
              "      <td>-2</td>\n",
              "      <td>-2</td>\n",
              "      <td>-2</td>\n",
              "      <td>-2</td>\n",
              "      <td>-2</td>\n",
              "      <td>1795</td>\n",
              "      <td>-7</td>\n",
              "      <td>1783</td>\n",
              "      <td>-18</td>\n",
              "      <td>-18</td>\n",
              "      <td>3987</td>\n",
              "      <td>0</td>\n",
              "      <td>1790</td>\n",
              "      <td>0</td>\n",
              "      <td>0</td>\n",
              "      <td>4006</td>\n",
              "      <td>0</td>\n",
              "      <td>0</td>\n",
              "    </tr>\n",
              "    <tr>\n",
              "      <th>5075</th>\n",
              "      <td>A6271</td>\n",
              "      <td>200K</td>\n",
              "      <td>M</td>\n",
              "      <td>Graduate</td>\n",
              "      <td>Single</td>\n",
              "      <td>46-65</td>\n",
              "      <td>0</td>\n",
              "      <td>0</td>\n",
              "      <td>0</td>\n",
              "      <td>0</td>\n",
              "      <td>0</td>\n",
              "      <td>0</td>\n",
              "      <td>57849</td>\n",
              "      <td>61009</td>\n",
              "      <td>63412</td>\n",
              "      <td>44886</td>\n",
              "      <td>45823</td>\n",
              "      <td>46736</td>\n",
              "      <td>4100</td>\n",
              "      <td>4193</td>\n",
              "      <td>1605</td>\n",
              "      <td>1661</td>\n",
              "      <td>1672</td>\n",
              "      <td>1733</td>\n",
              "      <td>0</td>\n",
              "    </tr>\n",
              "    <tr>\n",
              "      <th>2164</th>\n",
              "      <td>A2660</td>\n",
              "      <td>100K</td>\n",
              "      <td>M</td>\n",
              "      <td>High School</td>\n",
              "      <td>Other</td>\n",
              "      <td>Less than 30</td>\n",
              "      <td>0</td>\n",
              "      <td>0</td>\n",
              "      <td>0</td>\n",
              "      <td>0</td>\n",
              "      <td>-1</td>\n",
              "      <td>-1</td>\n",
              "      <td>33638</td>\n",
              "      <td>13839</td>\n",
              "      <td>15870</td>\n",
              "      <td>0</td>\n",
              "      <td>6316</td>\n",
              "      <td>0</td>\n",
              "      <td>2590</td>\n",
              "      <td>2310</td>\n",
              "      <td>0</td>\n",
              "      <td>3158</td>\n",
              "      <td>0</td>\n",
              "      <td>0</td>\n",
              "      <td>0</td>\n",
              "    </tr>\n",
              "  </tbody>\n",
              "</table>\n",
              "</div>"
            ],
            "text/plain": [
              "      Client_ID Balance_Limit_V1  ... PAID_AMT_DEC NEXT_MONTH_DEFAULT\n",
              "10831    A13538             400K  ...         9240                  0\n",
              "14908    A18669             200K  ...         2310                  1\n",
              "7897      A9830               1M  ...            0                  0\n",
              "5075      A6271             200K  ...         1733                  0\n",
              "2164      A2660             100K  ...            0                  0\n",
              "\n",
              "[5 rows x 25 columns]"
            ]
          },
          "metadata": {
            "tags": []
          },
          "execution_count": 69
        }
      ]
    },
    {
      "cell_type": "code",
      "metadata": {
        "id": "y0NrnmaIjTDy",
        "colab_type": "code",
        "outputId": "548f98ba-2b17-422c-9838-5184ea47cda3",
        "colab": {
          "base_uri": "https://localhost:8080/",
          "height": 317
        }
      },
      "source": [
        "traindata.describe()"
      ],
      "execution_count": 0,
      "outputs": [
        {
          "output_type": "execute_result",
          "data": {
            "text/html": [
              "<div>\n",
              "<style scoped>\n",
              "    .dataframe tbody tr th:only-of-type {\n",
              "        vertical-align: middle;\n",
              "    }\n",
              "\n",
              "    .dataframe tbody tr th {\n",
              "        vertical-align: top;\n",
              "    }\n",
              "\n",
              "    .dataframe thead th {\n",
              "        text-align: right;\n",
              "    }\n",
              "</style>\n",
              "<table border=\"1\" class=\"dataframe\">\n",
              "  <thead>\n",
              "    <tr style=\"text-align: right;\">\n",
              "      <th></th>\n",
              "      <th>PAY_JULY</th>\n",
              "      <th>PAY_AUG</th>\n",
              "      <th>PAY_SEP</th>\n",
              "      <th>PAY_OCT</th>\n",
              "      <th>PAY_NOV</th>\n",
              "      <th>PAY_DEC</th>\n",
              "      <th>DUE_AMT_JULY</th>\n",
              "      <th>DUE_AMT_AUG</th>\n",
              "      <th>DUE_AMT_SEP</th>\n",
              "      <th>DUE_AMT_OCT</th>\n",
              "      <th>DUE_AMT_NOV</th>\n",
              "      <th>DUE_AMT_DEC</th>\n",
              "      <th>PAID_AMT_JULY</th>\n",
              "      <th>PAID_AMT_AUG</th>\n",
              "      <th>PAID_AMT_SEP</th>\n",
              "      <th>PAID_AMT_OCT</th>\n",
              "      <th>PAID_AMT_NOV</th>\n",
              "      <th>PAID_AMT_DEC</th>\n",
              "      <th>NEXT_MONTH_DEFAULT</th>\n",
              "    </tr>\n",
              "  </thead>\n",
              "  <tbody>\n",
              "    <tr>\n",
              "      <th>count</th>\n",
              "      <td>19200.000000</td>\n",
              "      <td>19200.000000</td>\n",
              "      <td>19200.000000</td>\n",
              "      <td>19200.000000</td>\n",
              "      <td>19200.000000</td>\n",
              "      <td>19200.000000</td>\n",
              "      <td>1.920000e+04</td>\n",
              "      <td>1.920000e+04</td>\n",
              "      <td>1.920000e+04</td>\n",
              "      <td>1.920000e+04</td>\n",
              "      <td>1.920000e+04</td>\n",
              "      <td>1.920000e+04</td>\n",
              "      <td>1.920000e+04</td>\n",
              "      <td>1.920000e+04</td>\n",
              "      <td>1.920000e+04</td>\n",
              "      <td>1.920000e+04</td>\n",
              "      <td>19200.000000</td>\n",
              "      <td>1.920000e+04</td>\n",
              "      <td>19200.000000</td>\n",
              "    </tr>\n",
              "    <tr>\n",
              "      <th>mean</th>\n",
              "      <td>-0.010521</td>\n",
              "      <td>-0.129427</td>\n",
              "      <td>-0.158698</td>\n",
              "      <td>-0.215938</td>\n",
              "      <td>-0.261510</td>\n",
              "      <td>-0.290260</td>\n",
              "      <td>1.189963e+05</td>\n",
              "      <td>1.144551e+05</td>\n",
              "      <td>1.095037e+05</td>\n",
              "      <td>1.003954e+05</td>\n",
              "      <td>9.385689e+04</td>\n",
              "      <td>9.027535e+04</td>\n",
              "      <td>1.333991e+04</td>\n",
              "      <td>1.394780e+04</td>\n",
              "      <td>1.217717e+04</td>\n",
              "      <td>1.136083e+04</td>\n",
              "      <td>11197.756042</td>\n",
              "      <td>1.245225e+04</td>\n",
              "      <td>0.223646</td>\n",
              "    </tr>\n",
              "    <tr>\n",
              "      <th>std</th>\n",
              "      <td>1.125813</td>\n",
              "      <td>1.199844</td>\n",
              "      <td>1.194712</td>\n",
              "      <td>1.164539</td>\n",
              "      <td>1.129326</td>\n",
              "      <td>1.142427</td>\n",
              "      <td>1.712258e+05</td>\n",
              "      <td>1.657902e+05</td>\n",
              "      <td>1.623658e+05</td>\n",
              "      <td>1.489692e+05</td>\n",
              "      <td>1.419737e+05</td>\n",
              "      <td>1.387761e+05</td>\n",
              "      <td>3.999373e+04</td>\n",
              "      <td>5.955531e+04</td>\n",
              "      <td>4.170083e+04</td>\n",
              "      <td>3.759176e+04</td>\n",
              "      <td>36739.526010</td>\n",
              "      <td>4.388406e+04</td>\n",
              "      <td>0.416698</td>\n",
              "    </tr>\n",
              "    <tr>\n",
              "      <th>min</th>\n",
              "      <td>-2.000000</td>\n",
              "      <td>-2.000000</td>\n",
              "      <td>-2.000000</td>\n",
              "      <td>-2.000000</td>\n",
              "      <td>-2.000000</td>\n",
              "      <td>-2.000000</td>\n",
              "      <td>-3.824900e+05</td>\n",
              "      <td>-1.611850e+05</td>\n",
              "      <td>-1.420790e+05</td>\n",
              "      <td>-3.927000e+05</td>\n",
              "      <td>-1.878820e+05</td>\n",
              "      <td>-7.844830e+05</td>\n",
              "      <td>0.000000e+00</td>\n",
              "      <td>0.000000e+00</td>\n",
              "      <td>0.000000e+00</td>\n",
              "      <td>0.000000e+00</td>\n",
              "      <td>0.000000</td>\n",
              "      <td>0.000000e+00</td>\n",
              "      <td>0.000000</td>\n",
              "    </tr>\n",
              "    <tr>\n",
              "      <th>25%</th>\n",
              "      <td>-1.000000</td>\n",
              "      <td>-1.000000</td>\n",
              "      <td>-1.000000</td>\n",
              "      <td>-1.000000</td>\n",
              "      <td>-1.000000</td>\n",
              "      <td>-1.000000</td>\n",
              "      <td>8.405500e+03</td>\n",
              "      <td>6.975500e+03</td>\n",
              "      <td>6.412250e+03</td>\n",
              "      <td>5.380000e+03</td>\n",
              "      <td>4.110250e+03</td>\n",
              "      <td>2.892500e+03</td>\n",
              "      <td>2.310000e+03</td>\n",
              "      <td>1.936250e+03</td>\n",
              "      <td>9.010000e+02</td>\n",
              "      <td>6.930000e+02</td>\n",
              "      <td>610.000000</td>\n",
              "      <td>3.420000e+02</td>\n",
              "      <td>0.000000</td>\n",
              "    </tr>\n",
              "    <tr>\n",
              "      <th>50%</th>\n",
              "      <td>0.000000</td>\n",
              "      <td>0.000000</td>\n",
              "      <td>0.000000</td>\n",
              "      <td>0.000000</td>\n",
              "      <td>0.000000</td>\n",
              "      <td>0.000000</td>\n",
              "      <td>5.173700e+04</td>\n",
              "      <td>4.915350e+04</td>\n",
              "      <td>4.656050e+04</td>\n",
              "      <td>4.419500e+04</td>\n",
              "      <td>4.199300e+04</td>\n",
              "      <td>3.956450e+04</td>\n",
              "      <td>4.930000e+03</td>\n",
              "      <td>4.675000e+03</td>\n",
              "      <td>4.197000e+03</td>\n",
              "      <td>3.465000e+03</td>\n",
              "      <td>3477.000000</td>\n",
              "      <td>3.465000e+03</td>\n",
              "      <td>0.000000</td>\n",
              "    </tr>\n",
              "    <tr>\n",
              "      <th>75%</th>\n",
              "      <td>0.000000</td>\n",
              "      <td>0.000000</td>\n",
              "      <td>0.000000</td>\n",
              "      <td>0.000000</td>\n",
              "      <td>0.000000</td>\n",
              "      <td>0.000000</td>\n",
              "      <td>1.567970e+05</td>\n",
              "      <td>1.499995e+05</td>\n",
              "      <td>1.411898e+05</td>\n",
              "      <td>1.285898e+05</td>\n",
              "      <td>1.174418e+05</td>\n",
              "      <td>1.145078e+05</td>\n",
              "      <td>1.159600e+04</td>\n",
              "      <td>1.155000e+04</td>\n",
              "      <td>1.058100e+04</td>\n",
              "      <td>9.275500e+03</td>\n",
              "      <td>9411.500000</td>\n",
              "      <td>9.268000e+03</td>\n",
              "      <td>0.000000</td>\n",
              "    </tr>\n",
              "    <tr>\n",
              "      <th>max</th>\n",
              "      <td>8.000000</td>\n",
              "      <td>8.000000</td>\n",
              "      <td>8.000000</td>\n",
              "      <td>8.000000</td>\n",
              "      <td>7.000000</td>\n",
              "      <td>8.000000</td>\n",
              "      <td>2.228020e+06</td>\n",
              "      <td>2.272881e+06</td>\n",
              "      <td>3.844046e+06</td>\n",
              "      <td>2.059564e+06</td>\n",
              "      <td>2.141765e+06</td>\n",
              "      <td>2.221444e+06</td>\n",
              "      <td>2.017905e+06</td>\n",
              "      <td>3.890638e+06</td>\n",
              "      <td>2.069852e+06</td>\n",
              "      <td>1.434510e+06</td>\n",
              "      <td>965557.000000</td>\n",
              "      <td>1.221218e+06</td>\n",
              "      <td>1.000000</td>\n",
              "    </tr>\n",
              "  </tbody>\n",
              "</table>\n",
              "</div>"
            ],
            "text/plain": [
              "           PAY_JULY       PAY_AUG  ...  PAID_AMT_DEC  NEXT_MONTH_DEFAULT\n",
              "count  19200.000000  19200.000000  ...  1.920000e+04        19200.000000\n",
              "mean      -0.010521     -0.129427  ...  1.245225e+04            0.223646\n",
              "std        1.125813      1.199844  ...  4.388406e+04            0.416698\n",
              "min       -2.000000     -2.000000  ...  0.000000e+00            0.000000\n",
              "25%       -1.000000     -1.000000  ...  3.420000e+02            0.000000\n",
              "50%        0.000000      0.000000  ...  3.465000e+03            0.000000\n",
              "75%        0.000000      0.000000  ...  9.268000e+03            0.000000\n",
              "max        8.000000      8.000000  ...  1.221218e+06            1.000000\n",
              "\n",
              "[8 rows x 19 columns]"
            ]
          },
          "metadata": {
            "tags": []
          },
          "execution_count": 70
        }
      ]
    },
    {
      "cell_type": "code",
      "metadata": {
        "id": "5vcSHx-kvQLN",
        "colab_type": "code",
        "colab": {}
      },
      "source": [
        "traindata=traindata.replace(['M','F'], [1,-1])\n",
        "testdata=testdata.replace(['M','F'], [1,-1])\n",
        "testdata1=testdata1.replace(['M','F'], [1,-1])"
      ],
      "execution_count": 0,
      "outputs": []
    },
    {
      "cell_type": "code",
      "metadata": {
        "id": "Fwh76K9qwJzj",
        "colab_type": "code",
        "outputId": "6ba4a579-f695-4deb-c56f-4f9bc3746e81",
        "colab": {
          "base_uri": "https://localhost:8080/",
          "height": 221
        }
      },
      "source": [
        "pd.to_numeric(traindata['Gender'])"
      ],
      "execution_count": 0,
      "outputs": [
        {
          "output_type": "execute_result",
          "data": {
            "text/plain": [
              "10831   -1\n",
              "14908    1\n",
              "7897    -1\n",
              "5075     1\n",
              "2164     1\n",
              "        ..\n",
              "3413    -1\n",
              "21154    1\n",
              "1737    -1\n",
              "13869    1\n",
              "3405     1\n",
              "Name: Gender, Length: 19200, dtype: int64"
            ]
          },
          "metadata": {
            "tags": []
          },
          "execution_count": 72
        }
      ]
    },
    {
      "cell_type": "code",
      "metadata": {
        "id": "qoRQ86SJztS7",
        "colab_type": "code",
        "outputId": "6b305d42-132d-40fa-a7b2-904faa539796",
        "colab": {
          "base_uri": "https://localhost:8080/",
          "height": 136
        }
      },
      "source": [
        "print(traindata.groupby('EDUCATION_STATUS').count())"
      ],
      "execution_count": 0,
      "outputs": [
        {
          "output_type": "stream",
          "text": [
            "                  Client_ID  Balance_Limit_V1  ...  PAID_AMT_DEC  NEXT_MONTH_DEFAULT\n",
            "EDUCATION_STATUS                               ...                                  \n",
            "Graduate               6832              6832  ...          6832                6832\n",
            "High School            3157              3157  ...          3157                3157\n",
            "Other                  9211              9211  ...          9211                9211\n",
            "\n",
            "[3 rows x 24 columns]\n"
          ],
          "name": "stdout"
        }
      ]
    },
    {
      "cell_type": "code",
      "metadata": {
        "id": "rGvWVzvU0E8-",
        "colab_type": "code",
        "colab": {}
      },
      "source": [
        "traindata=traindata.replace(['Graduate','High School','Other'], [2,1,0])\n",
        "testdata=testdata.replace(['Graduate','High School','Other'], [2,1,0])\n",
        "testdata1=testdata1.replace(['Graduate','High School','Other'], [2,1,0])"
      ],
      "execution_count": 0,
      "outputs": []
    },
    {
      "cell_type": "code",
      "metadata": {
        "id": "BaNVGOBz2YAF",
        "colab_type": "code",
        "outputId": "1ade845a-ff09-400a-fc48-807db7721902",
        "colab": {
          "base_uri": "https://localhost:8080/",
          "height": 221
        }
      },
      "source": [
        "pd.to_numeric(traindata['EDUCATION_STATUS'])"
      ],
      "execution_count": 0,
      "outputs": [
        {
          "output_type": "execute_result",
          "data": {
            "text/plain": [
              "10831    0\n",
              "14908    0\n",
              "7897     2\n",
              "5075     2\n",
              "2164     1\n",
              "        ..\n",
              "3413     0\n",
              "21154    1\n",
              "1737     0\n",
              "13869    2\n",
              "3405     0\n",
              "Name: EDUCATION_STATUS, Length: 19200, dtype: int64"
            ]
          },
          "metadata": {
            "tags": []
          },
          "execution_count": 75
        }
      ]
    },
    {
      "cell_type": "code",
      "metadata": {
        "id": "qSBJgBFc2i6a",
        "colab_type": "code",
        "outputId": "67c0541a-04c1-4571-eef3-f11adf4d3aa7",
        "colab": {
          "base_uri": "https://localhost:8080/",
          "height": 119
        }
      },
      "source": [
        "print(traindata.groupby('MARITAL_STATUS').count())"
      ],
      "execution_count": 0,
      "outputs": [
        {
          "output_type": "stream",
          "text": [
            "                Client_ID  Balance_Limit_V1  ...  PAID_AMT_DEC  NEXT_MONTH_DEFAULT\n",
            "MARITAL_STATUS                               ...                                  \n",
            "0                   10500             10500  ...         10500               10500\n",
            "Single               8700              8700  ...          8700                8700\n",
            "\n",
            "[2 rows x 24 columns]\n"
          ],
          "name": "stdout"
        }
      ]
    },
    {
      "cell_type": "code",
      "metadata": {
        "id": "zH4QhWBp2t5J",
        "colab_type": "code",
        "colab": {}
      },
      "source": [
        "traindata=traindata.replace(['Single'], [1])\n",
        "testdata=testdata.replace(['Single'], [1])\n",
        "testdata1=testdata1.replace(['Single'], [1])"
      ],
      "execution_count": 0,
      "outputs": []
    },
    {
      "cell_type": "code",
      "metadata": {
        "id": "sO3NIKiL29TM",
        "colab_type": "code",
        "outputId": "0a320907-30e4-40e6-9aad-21e0d1c88627",
        "colab": {
          "base_uri": "https://localhost:8080/",
          "height": 221
        }
      },
      "source": [
        "pd.to_numeric(traindata['EDUCATION_STATUS'])"
      ],
      "execution_count": 0,
      "outputs": [
        {
          "output_type": "execute_result",
          "data": {
            "text/plain": [
              "10831    0\n",
              "14908    0\n",
              "7897     2\n",
              "5075     2\n",
              "2164     1\n",
              "        ..\n",
              "3413     0\n",
              "21154    1\n",
              "1737     0\n",
              "13869    2\n",
              "3405     0\n",
              "Name: EDUCATION_STATUS, Length: 19200, dtype: int64"
            ]
          },
          "metadata": {
            "tags": []
          },
          "execution_count": 78
        }
      ]
    },
    {
      "cell_type": "code",
      "metadata": {
        "id": "LbUodKd13Kbt",
        "colab_type": "code",
        "outputId": "c579a4e9-0a02-4e36-9a48-2a30e5e8bd54",
        "colab": {
          "base_uri": "https://localhost:8080/",
          "height": 153
        }
      },
      "source": [
        "print(traindata.groupby('AGE').count())"
      ],
      "execution_count": 0,
      "outputs": [
        {
          "output_type": "stream",
          "text": [
            "              Client_ID  Balance_Limit_V1  ...  PAID_AMT_DEC  NEXT_MONTH_DEFAULT\n",
            "AGE                                        ...                                  \n",
            "31-45              9648              9648  ...          9648                9648\n",
            "46-65              3329              3329  ...          3329                3329\n",
            "Less than 30       6152              6152  ...          6152                6152\n",
            "More than 65         71                71  ...            71                  71\n",
            "\n",
            "[4 rows x 24 columns]\n"
          ],
          "name": "stdout"
        }
      ]
    },
    {
      "cell_type": "code",
      "metadata": {
        "id": "l8aXSJ9n5Pll",
        "colab_type": "code",
        "colab": {}
      },
      "source": [
        "traindata['AGE']=traindata['AGE'].replace(['Less than 30','31-45','46-65','More than 65'], [1,2,3,4])\n",
        "testdata['AGE']=testdata['AGE'].replace(['Less than 30','31-45','46-65','More than 65'], [1,2,3,4])\n",
        "testdata1['AGE']=testdata1['AGE'].replace(['Less than 30','31-45','46-65','More than 65'], [1,2,3,4])"
      ],
      "execution_count": 0,
      "outputs": []
    },
    {
      "cell_type": "code",
      "metadata": {
        "id": "6_3PKioj90Zc",
        "colab_type": "code",
        "colab": {}
      },
      "source": [
        "traindata['Balance_Limit_V1'] = traindata['Balance_Limit_V1'].map(lambda x : float(x[0:-1])*1000 if (x[-1]=='K') else float(x[0:-1])*1000000)\n",
        "testdata['Balance_Limit_V1'] = testdata['Balance_Limit_V1'].map(lambda x : float(x[0:-1])*1000 if (x[-1]=='K') else float(x[0:-1])*1000000)\n",
        "testdata1['Balance_Limit_V1'] = testdata1['Balance_Limit_V1'].map(lambda x : float(x[0:-1])*1000 if (x[-1]=='K') else float(x[0:-1])*1000000)"
      ],
      "execution_count": 0,
      "outputs": []
    },
    {
      "cell_type": "code",
      "metadata": {
        "id": "jtPrffow-t_2",
        "colab_type": "code",
        "outputId": "b6a69e4e-f5b5-4d10-e29d-770c54df5cf7",
        "colab": {
          "base_uri": "https://localhost:8080/",
          "height": 221
        }
      },
      "source": [
        "pd.to_numeric(traindata['Balance_Limit_V1'])"
      ],
      "execution_count": 0,
      "outputs": [
        {
          "output_type": "execute_result",
          "data": {
            "text/plain": [
              "10831     400000.0\n",
              "14908     200000.0\n",
              "7897     1000000.0\n",
              "5075      200000.0\n",
              "2164      100000.0\n",
              "           ...    \n",
              "3413      500000.0\n",
              "21154    1000000.0\n",
              "1737      200000.0\n",
              "13869     500000.0\n",
              "3405      300000.0\n",
              "Name: Balance_Limit_V1, Length: 19200, dtype: float64"
            ]
          },
          "metadata": {
            "tags": []
          },
          "execution_count": 82
        }
      ]
    },
    {
      "cell_type": "code",
      "metadata": {
        "id": "k8xA-Kd9C9x3",
        "colab_type": "code",
        "outputId": "aa7798a0-8e5a-4ef9-98d6-c2df5bf7f50b",
        "colab": {
          "base_uri": "https://localhost:8080/",
          "height": 119
        }
      },
      "source": [
        "print(traindata.groupby('NEXT_MONTH_DEFAULT').count())"
      ],
      "execution_count": 0,
      "outputs": [
        {
          "output_type": "stream",
          "text": [
            "                    Client_ID  Balance_Limit_V1  ...  PAID_AMT_NOV  PAID_AMT_DEC\n",
            "NEXT_MONTH_DEFAULT                               ...                            \n",
            "0                       14906             14906  ...         14906         14906\n",
            "1                        4294              4294  ...          4294          4294\n",
            "\n",
            "[2 rows x 24 columns]\n"
          ],
          "name": "stdout"
        }
      ]
    },
    {
      "cell_type": "code",
      "metadata": {
        "id": "NjRN7Ws4DDTp",
        "colab_type": "code",
        "colab": {}
      },
      "source": [
        "testdata[testdata.columns[12:24]]=testdata[testdata.columns[12:24]]/traindata.max()[traindata.columns[12:24]]\n",
        "testdata1[testdata1.columns[12:24]]=testdata1[testdata.columns[12:24]]/traindata.max()[traindata.columns[12:24]]\n",
        "traindata[traindata.columns[12:24]]=traindata[traindata.columns[12:24]]/traindata.max()[traindata.columns[12:24]]"
      ],
      "execution_count": 0,
      "outputs": []
    },
    {
      "cell_type": "code",
      "metadata": {
        "id": "Xv9QvAnZGRcs",
        "colab_type": "code",
        "colab": {}
      },
      "source": [
        "testdata['Balance_Limit_V1']=testdata['Balance_Limit_V1']/traindata.max()['Balance_Limit_V1']\n",
        "testdata1['Balance_Limit_V1']=testdata1['Balance_Limit_V1']/traindata.max()['Balance_Limit_V1']\n",
        "traindata['Balance_Limit_V1']=traindata['Balance_Limit_V1']/traindata.max()['Balance_Limit_V1']"
      ],
      "execution_count": 0,
      "outputs": []
    },
    {
      "cell_type": "code",
      "metadata": {
        "id": "YdT6SNA7GwlY",
        "colab_type": "code",
        "colab": {}
      },
      "source": [
        "traindata['BIAS']=1\n",
        "testdata['BIAS']=1\n",
        "testdata1['BIAS']=1"
      ],
      "execution_count": 0,
      "outputs": []
    },
    {
      "cell_type": "code",
      "metadata": {
        "id": "metLq05SjqLi",
        "colab_type": "code",
        "colab": {}
      },
      "source": [
        "independentVar= ['Balance_Limit_V1',\n",
        "                 'Gender',\n",
        "                 'EDUCATION_STATUS',\n",
        "                 'MARITAL_STATUS',\n",
        "                 'AGE',\n",
        "                 'PAY_JULY','PAY_AUG','PAY_SEP','PAY_OCT','PAY_NOV','PAY_DEC',\n",
        "                 'DUE_AMT_JULY','DUE_AMT_AUG','DUE_AMT_SEP','DUE_AMT_OCT','DUE_AMT_NOV','DUE_AMT_DEC',\n",
        "                 'PAID_AMT_JULY','PAID_AMT_AUG','PAID_AMT_SEP','PAID_AMT_OCT','PAID_AMT_NOV','PAID_AMT_DEC','BIAS']"
      ],
      "execution_count": 0,
      "outputs": []
    },
    {
      "cell_type": "code",
      "metadata": {
        "id": "B2zauo1Ql-8a",
        "colab_type": "code",
        "colab": {}
      },
      "source": [
        "X_train, y_train = traindata[independentVar], traindata['NEXT_MONTH_DEFAULT']\n",
        "X_test1, y_test1 = testdata1[independentVar], testdata1['NEXT_MONTH_DEFAULT']\n",
        "X_test = testdata[independentVar]"
      ],
      "execution_count": 0,
      "outputs": []
    },
    {
      "cell_type": "code",
      "metadata": {
        "id": "4qxOzQEI5k0_",
        "colab_type": "code",
        "colab": {}
      },
      "source": [
        "from sklearn import metrics\n",
        "from imblearn.over_sampling import SMOTE\n",
        "from imblearn.under_sampling import RandomUnderSampler\n",
        "from keras.models import Sequential\n",
        "from keras.layers import Dense"
      ],
      "execution_count": 0,
      "outputs": []
    },
    {
      "cell_type": "code",
      "metadata": {
        "id": "JkQ9OJoc5oTS",
        "colab_type": "code",
        "outputId": "a4f7987e-22bd-4e90-91e1-0ba77121e3a0",
        "colab": {
          "base_uri": "https://localhost:8080/",
          "height": 105
        }
      },
      "source": [
        "# define undersampling strategy\n",
        "under = RandomUnderSampler(sampling_strategy=0.4)\n",
        "# fit and apply the transform\n",
        "X_train_res, y_train_res = under.fit_resample(X_train, y_train)\n",
        "\n",
        "sm = SMOTE(random_state=2)\n",
        "X_train_res, y_train_res = sm.fit_sample(X_train_res, y_train_res.ravel())"
      ],
      "execution_count": 0,
      "outputs": [
        {
          "output_type": "stream",
          "text": [
            "/usr/local/lib/python3.6/dist-packages/sklearn/utils/deprecation.py:87: FutureWarning: Function safe_indexing is deprecated; safe_indexing is deprecated in version 0.22 and will be removed in version 0.24.\n",
            "  warnings.warn(msg, category=FutureWarning)\n",
            "/usr/local/lib/python3.6/dist-packages/sklearn/utils/deprecation.py:87: FutureWarning: Function safe_indexing is deprecated; safe_indexing is deprecated in version 0.22 and will be removed in version 0.24.\n",
            "  warnings.warn(msg, category=FutureWarning)\n"
          ],
          "name": "stderr"
        }
      ]
    },
    {
      "cell_type": "code",
      "metadata": {
        "id": "XiOV3Nr4_Qfl",
        "colab_type": "code",
        "colab": {}
      },
      "source": [
        "# define the keras model\n",
        "model = Sequential()\n",
        "model.add(Dense(128, input_dim=24, activation='relu'))\n",
        "model.add(Dense(256, activation='relu'))\n",
        "model.add(Dense(512, activation='relu'))\n",
        "model.add(Dense(1024, activation='relu'))\n",
        "model.add(Dense(1, activation='sigmoid'))"
      ],
      "execution_count": 0,
      "outputs": []
    },
    {
      "cell_type": "code",
      "metadata": {
        "id": "LslQB9QG_ibA",
        "colab_type": "code",
        "colab": {}
      },
      "source": [
        "# compile the keras model\n",
        "model.compile(loss='binary_crossentropy', optimizer='adam', metrics=['accuracy'])"
      ],
      "execution_count": 0,
      "outputs": []
    },
    {
      "cell_type": "code",
      "metadata": {
        "id": "V5rdwVV3_zA8",
        "colab_type": "code",
        "outputId": "254fb1ea-6f23-4952-f074-be31ab5e101e",
        "colab": {
          "base_uri": "https://localhost:8080/",
          "height": 1000
        }
      },
      "source": [
        "# fit the keras model on the dataset\n",
        "history = model.fit(X_train_res, y_train_res, epochs=50)"
      ],
      "execution_count": 132,
      "outputs": [
        {
          "output_type": "stream",
          "text": [
            "Epoch 1/50\n",
            "21470/21470 [==============================] - 4s 183us/step - loss: 0.5851 - acc: 0.6971\n",
            "Epoch 2/50\n",
            "21470/21470 [==============================] - 3s 145us/step - loss: 0.5721 - acc: 0.7067\n",
            "Epoch 3/50\n",
            "21470/21470 [==============================] - 3s 158us/step - loss: 0.5626 - acc: 0.7101\n",
            "Epoch 4/50\n",
            "21470/21470 [==============================] - 3s 162us/step - loss: 0.5575 - acc: 0.7133\n",
            "Epoch 5/50\n",
            "21470/21470 [==============================] - 3s 156us/step - loss: 0.5501 - acc: 0.7179\n",
            "Epoch 6/50\n",
            "21470/21470 [==============================] - 3s 149us/step - loss: 0.5451 - acc: 0.7201\n",
            "Epoch 7/50\n",
            "21470/21470 [==============================] - 3s 151us/step - loss: 0.5396 - acc: 0.7241\n",
            "Epoch 8/50\n",
            "21470/21470 [==============================] - 3s 149us/step - loss: 0.5321 - acc: 0.7301\n",
            "Epoch 9/50\n",
            "21470/21470 [==============================] - 3s 146us/step - loss: 0.5261 - acc: 0.7332\n",
            "Epoch 10/50\n",
            "21470/21470 [==============================] - 3s 150us/step - loss: 0.5179 - acc: 0.7389\n",
            "Epoch 11/50\n",
            "21470/21470 [==============================] - 3s 148us/step - loss: 0.5112 - acc: 0.7443\n",
            "Epoch 12/50\n",
            "21470/21470 [==============================] - 3s 148us/step - loss: 0.5029 - acc: 0.7474\n",
            "Epoch 13/50\n",
            "21470/21470 [==============================] - 3s 146us/step - loss: 0.4964 - acc: 0.7528\n",
            "Epoch 14/50\n",
            "21470/21470 [==============================] - 3s 151us/step - loss: 0.4873 - acc: 0.7581\n",
            "Epoch 15/50\n",
            "21470/21470 [==============================] - 3s 153us/step - loss: 0.4815 - acc: 0.7619\n",
            "Epoch 16/50\n",
            "21470/21470 [==============================] - 3s 144us/step - loss: 0.4726 - acc: 0.7634\n",
            "Epoch 17/50\n",
            "21470/21470 [==============================] - 3s 148us/step - loss: 0.4657 - acc: 0.7678\n",
            "Epoch 18/50\n",
            "21470/21470 [==============================] - 3s 145us/step - loss: 0.4581 - acc: 0.7714\n",
            "Epoch 19/50\n",
            "21470/21470 [==============================] - 3s 147us/step - loss: 0.4495 - acc: 0.7757\n",
            "Epoch 20/50\n",
            "21470/21470 [==============================] - 3s 151us/step - loss: 0.4435 - acc: 0.7789\n",
            "Epoch 21/50\n",
            "21470/21470 [==============================] - 3s 145us/step - loss: 0.4371 - acc: 0.7851\n",
            "Epoch 22/50\n",
            "21470/21470 [==============================] - 3s 152us/step - loss: 0.4309 - acc: 0.7867\n",
            "Epoch 23/50\n",
            "21470/21470 [==============================] - 3s 143us/step - loss: 0.4245 - acc: 0.7900\n",
            "Epoch 24/50\n",
            "21470/21470 [==============================] - 3s 145us/step - loss: 0.4187 - acc: 0.7940\n",
            "Epoch 25/50\n",
            "21470/21470 [==============================] - 3s 151us/step - loss: 0.4122 - acc: 0.7971\n",
            "Epoch 26/50\n",
            "21470/21470 [==============================] - 3s 150us/step - loss: 0.4044 - acc: 0.7988\n",
            "Epoch 27/50\n",
            "21470/21470 [==============================] - 3s 148us/step - loss: 0.4037 - acc: 0.8009\n",
            "Epoch 28/50\n",
            "21470/21470 [==============================] - 3s 144us/step - loss: 0.3969 - acc: 0.8057\n",
            "Epoch 29/50\n",
            "21470/21470 [==============================] - 3s 144us/step - loss: 0.3878 - acc: 0.8099\n",
            "Epoch 30/50\n",
            "21470/21470 [==============================] - 3s 151us/step - loss: 0.3841 - acc: 0.8116\n",
            "Epoch 31/50\n",
            "21470/21470 [==============================] - 3s 150us/step - loss: 0.3799 - acc: 0.8125\n",
            "Epoch 32/50\n",
            "21470/21470 [==============================] - 3s 148us/step - loss: 0.3754 - acc: 0.8147\n",
            "Epoch 33/50\n",
            "21470/21470 [==============================] - 3s 147us/step - loss: 0.3686 - acc: 0.8174\n",
            "Epoch 34/50\n",
            "21470/21470 [==============================] - 3s 153us/step - loss: 0.3652 - acc: 0.8198\n",
            "Epoch 35/50\n",
            "21470/21470 [==============================] - 3s 151us/step - loss: 0.3635 - acc: 0.8229\n",
            "Epoch 36/50\n",
            "21470/21470 [==============================] - 3s 149us/step - loss: 0.3627 - acc: 0.8212\n",
            "Epoch 37/50\n",
            "21470/21470 [==============================] - 3s 153us/step - loss: 0.3566 - acc: 0.8233\n",
            "Epoch 38/50\n",
            "21470/21470 [==============================] - 3s 152us/step - loss: 0.3529 - acc: 0.8274\n",
            "Epoch 39/50\n",
            "21470/21470 [==============================] - 3s 145us/step - loss: 0.3509 - acc: 0.8257\n",
            "Epoch 40/50\n",
            "21470/21470 [==============================] - 3s 153us/step - loss: 0.3436 - acc: 0.8306\n",
            "Epoch 41/50\n",
            "21470/21470 [==============================] - 3s 149us/step - loss: 0.3422 - acc: 0.8306\n",
            "Epoch 42/50\n",
            "21470/21470 [==============================] - 3s 144us/step - loss: 0.3387 - acc: 0.8334\n",
            "Epoch 43/50\n",
            "21470/21470 [==============================] - 3s 148us/step - loss: 0.3354 - acc: 0.8342\n",
            "Epoch 44/50\n",
            "21470/21470 [==============================] - 3s 148us/step - loss: 0.3331 - acc: 0.8354\n",
            "Epoch 45/50\n",
            "21470/21470 [==============================] - 3s 147us/step - loss: 0.3264 - acc: 0.8374\n",
            "Epoch 46/50\n",
            "21470/21470 [==============================] - 3s 150us/step - loss: 0.3303 - acc: 0.8378\n",
            "Epoch 47/50\n",
            "21470/21470 [==============================] - 3s 148us/step - loss: 0.3220 - acc: 0.8415\n",
            "Epoch 48/50\n",
            "21470/21470 [==============================] - 3s 146us/step - loss: 0.3212 - acc: 0.8419\n",
            "Epoch 49/50\n",
            "21470/21470 [==============================] - 3s 151us/step - loss: 0.3222 - acc: 0.8445\n",
            "Epoch 50/50\n",
            "21470/21470 [==============================] - 3s 149us/step - loss: 0.3163 - acc: 0.8437\n"
          ],
          "name": "stdout"
        }
      ]
    },
    {
      "cell_type": "code",
      "metadata": {
        "id": "C9HapLPSqAyR",
        "colab_type": "code",
        "colab": {}
      },
      "source": [
        "# make probability predictions with the model\n",
        "y_pred = model.predict(X_test)\n",
        "\n",
        "# round predictions\n",
        "y_pred_rounded = [round(x[0]) for x in y_pred]"
      ],
      "execution_count": 0,
      "outputs": []
    },
    {
      "cell_type": "code",
      "metadata": {
        "id": "w8ACpZH637kz",
        "colab_type": "code",
        "colab": {
          "base_uri": "https://localhost:8080/",
          "height": 34
        },
        "outputId": "c2dea49b-9c73-4977-a614-e1a6642ef0a6"
      },
      "source": [
        "count_0 = 0\n",
        "count_1 = 0\n",
        "\n",
        "for val in y_pred_rounded:\n",
        "  if val == 0:\n",
        "    count_0 += 1\n",
        "  elif val == 1:\n",
        "    count_1 += 1\n",
        "\n",
        "print (count_0, count_1)"
      ],
      "execution_count": 134,
      "outputs": [
        {
          "output_type": "stream",
          "text": [
            "4258 1742\n"
          ],
          "name": "stdout"
        }
      ]
    },
    {
      "cell_type": "code",
      "metadata": {
        "id": "zuxeYyym70Y3",
        "colab_type": "code",
        "colab": {}
      },
      "source": [
        "# make probability predictions with the model\n",
        "y_pred1 = model.predict(X_test1)\n",
        "\n",
        "# round predictions\n",
        "y_pred_rounded1 = [round(x[0]) for x in y_pred1]"
      ],
      "execution_count": 0,
      "outputs": []
    },
    {
      "cell_type": "code",
      "metadata": {
        "id": "J5GtMxksQK-N",
        "colab_type": "code",
        "colab": {
          "base_uri": "https://localhost:8080/",
          "height": 51
        },
        "outputId": "c77f7100-1947-41e9-c76a-432105d060ca"
      },
      "source": [
        "from sklearn.metrics import confusion_matrix\n",
        "confusion_matrix = confusion_matrix(y_test1, y_pred_rounded1)\n",
        "print(confusion_matrix)"
      ],
      "execution_count": 136,
      "outputs": [
        {
          "output_type": "stream",
          "text": [
            "[[2959  805]\n",
            " [ 503  533]]\n"
          ],
          "name": "stdout"
        }
      ]
    },
    {
      "cell_type": "code",
      "metadata": {
        "id": "iA7J9pN5pMLR",
        "colab_type": "code",
        "colab": {
          "base_uri": "https://localhost:8080/",
          "height": 170
        },
        "outputId": "711259dd-8c47-45c8-b041-36b7b65c2203"
      },
      "source": [
        "from sklearn.metrics import classification_report\n",
        "print(classification_report(y_test1, y_pred_rounded1))"
      ],
      "execution_count": 137,
      "outputs": [
        {
          "output_type": "stream",
          "text": [
            "              precision    recall  f1-score   support\n",
            "\n",
            "           0       0.85      0.79      0.82      3764\n",
            "           1       0.40      0.51      0.45      1036\n",
            "\n",
            "    accuracy                           0.73      4800\n",
            "   macro avg       0.63      0.65      0.63      4800\n",
            "weighted avg       0.76      0.73      0.74      4800\n",
            "\n"
          ],
          "name": "stdout"
        }
      ]
    },
    {
      "cell_type": "code",
      "metadata": {
        "id": "iwQ7U-xeeY38",
        "colab_type": "code",
        "colab": {
          "base_uri": "https://localhost:8080/",
          "height": 262
        },
        "outputId": "032567d6-8b8f-48a2-e7e7-8afc7b1bb964"
      },
      "source": [
        "acc = history.history['acc']\n",
        "# val_acc = history.history['val_acc']\n",
        "\n",
        "loss = history.history['loss']\n",
        "# val_loss = history.history['val_loss']\n",
        "\n",
        "plt.figure(figsize=(8, 8))\n",
        "plt.subplot(2, 1, 1)\n",
        "plt.plot(acc, label='Training Accuracy')\n",
        "# plt.plot(val_acc, label='Validation Accuracy')\n",
        "plt.legend(loc='lower right')\n",
        "plt.ylabel('Accuracy')\n",
        "plt.ylim([min(plt.ylim()),1])\n",
        "plt.title('Training and Validation Accuracy')\n",
        "plt.show()"
      ],
      "execution_count": 138,
      "outputs": [
        {
          "output_type": "display_data",
          "data": {
            "image/png": "[encoded data removed]",
            "text/plain": [
              "<Figure size 576x576 with 1 Axes>"
            ]
          },
          "metadata": {
            "tags": []
          }
        }
      ]
    },
    {
      "cell_type": "code",
      "metadata": {
        "id": "7-iTw3kyzrUh",
        "colab_type": "code",
        "colab": {}
      },
      "source": [
        ""
      ],
      "execution_count": 0,
      "outputs": []
    }
  ]
}