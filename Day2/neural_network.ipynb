{
  "nbformat": 4,
  "nbformat_minor": 0,
  "metadata": {
    "colab": {
      "name": "neural_network.ipynb",
      "provenance": [],
      "collapsed_sections": [],
      "machine_shape": "hm",
      "include_colab_link": true
    },
    "kernelspec": {
      "name": "python3",
      "display_name": "Python 3"
    },
    "accelerator": "GPU"
  },
  "cells": [
    {
      "cell_type": "markdown",
      "metadata": {
        "id": "view-in-github",
        "colab_type": "text"
      },
      "source": [
        "<a href=\"https://colab.research.google.com/github/thuvarahan97/DataStorm1.0_TeamFixzels/blob/master/Day2/neural_network.ipynb\" target=\"_parent\"><img src=\"https://colab.research.google.com/assets/colab-badge.svg\" alt=\"Open In Colab\"/></a>"
      ]
    },
    {
      "cell_type": "code",
      "metadata": {
        "id": "rT8zFjDeRd8R",
        "colab_type": "code",
        "colab": {}
      },
      "source": [
        "import pandas as pd             #to use read_csv(), crosstab()\n",
        "import numpy as np              #to use exponentiation : exp()\n",
        "import statsmodels.api as sm    #to use the Logit()\n",
        "import matplotlib.pyplot as plt\n",
        "%matplotlib inline\n",
        "\n",
        "from sklearn.model_selection import train_test_split\n",
        "from sklearn.metrics import confusion_matrix\n",
        "from sklearn.metrics import classification_report"
      ],
      "execution_count": 0,
      "outputs": []
    },
    {
      "cell_type": "code",
      "metadata": {
        "id": "tzRIvEoZOk4a",
        "colab_type": "code",
        "colab": {}
      },
      "source": [
        "# from google.colab import drive\n",
        "# drive.mount('/content/drive')"
      ],
      "execution_count": 0,
      "outputs": []
    },
    {
      "cell_type": "code",
      "metadata": {
        "id": "HK2InDRricgC",
        "colab_type": "code",
        "colab": {}
      },
      "source": [
        "#import the dataset\n",
        "traindatainput = pd.read_csv('/content/drive/My Drive/Colab Notebooks/DataStorm1.0 - Team Fixzels/credit_card_default_train.csv',sep=\",\")\n",
        "testdatainput = pd.read_csv('/content/drive/My Drive/Colab Notebooks/DataStorm1.0 - Team Fixzels/credit_card_default_test.csv',sep=\",\")"
      ],
      "execution_count": 0,
      "outputs": []
    },
    {
      "cell_type": "code",
      "metadata": {
        "id": "pBU9T_0AZSGJ",
        "colab_type": "code",
        "colab": {}
      },
      "source": [
        "traindata, testdata1 = train_test_split(traindatainput, train_size=0.8, test_size=0.2)\n",
        "# traindata = traindatainput\n",
        "testdata = testdatainput"
      ],
      "execution_count": 0,
      "outputs": []
    },
    {
      "cell_type": "code",
      "metadata": {
        "id": "Rl-d_nZQjAFl",
        "colab_type": "code",
        "outputId": "1e754172-10e5-4433-85fa-944049827555",
        "colab": {
          "base_uri": "https://localhost:8080/",
          "height": 343
        }
      },
      "source": [
        "traindata.head()"
      ],
      "execution_count": 771,
      "outputs": [
        {
          "output_type": "execute_result",
          "data": {
            "text/html": [
              "<div>\n",
              "<style scoped>\n",
              "    .dataframe tbody tr th:only-of-type {\n",
              "        vertical-align: middle;\n",
              "    }\n",
              "\n",
              "    .dataframe tbody tr th {\n",
              "        vertical-align: top;\n",
              "    }\n",
              "\n",
              "    .dataframe thead th {\n",
              "        text-align: right;\n",
              "    }\n",
              "</style>\n",
              "<table border=\"1\" class=\"dataframe\">\n",
              "  <thead>\n",
              "    <tr style=\"text-align: right;\">\n",
              "      <th></th>\n",
              "      <th>Client_ID</th>\n",
              "      <th>Balance_Limit_V1</th>\n",
              "      <th>Gender</th>\n",
              "      <th>EDUCATION_STATUS</th>\n",
              "      <th>MARITAL_STATUS</th>\n",
              "      <th>AGE</th>\n",
              "      <th>PAY_JULY</th>\n",
              "      <th>PAY_AUG</th>\n",
              "      <th>PAY_SEP</th>\n",
              "      <th>PAY_OCT</th>\n",
              "      <th>PAY_NOV</th>\n",
              "      <th>PAY_DEC</th>\n",
              "      <th>DUE_AMT_JULY</th>\n",
              "      <th>DUE_AMT_AUG</th>\n",
              "      <th>DUE_AMT_SEP</th>\n",
              "      <th>DUE_AMT_OCT</th>\n",
              "      <th>DUE_AMT_NOV</th>\n",
              "      <th>DUE_AMT_DEC</th>\n",
              "      <th>PAID_AMT_JULY</th>\n",
              "      <th>PAID_AMT_AUG</th>\n",
              "      <th>PAID_AMT_SEP</th>\n",
              "      <th>PAID_AMT_OCT</th>\n",
              "      <th>PAID_AMT_NOV</th>\n",
              "      <th>PAID_AMT_DEC</th>\n",
              "      <th>NEXT_MONTH_DEFAULT</th>\n",
              "    </tr>\n",
              "  </thead>\n",
              "  <tbody>\n",
              "    <tr>\n",
              "      <th>6572</th>\n",
              "      <td>A8181</td>\n",
              "      <td>400K</td>\n",
              "      <td>F</td>\n",
              "      <td>Other</td>\n",
              "      <td>Single</td>\n",
              "      <td>Less than 30</td>\n",
              "      <td>0</td>\n",
              "      <td>0</td>\n",
              "      <td>0</td>\n",
              "      <td>0</td>\n",
              "      <td>0</td>\n",
              "      <td>0</td>\n",
              "      <td>254987</td>\n",
              "      <td>245759</td>\n",
              "      <td>226329</td>\n",
              "      <td>228360</td>\n",
              "      <td>233920</td>\n",
              "      <td>239140</td>\n",
              "      <td>8614</td>\n",
              "      <td>8175</td>\n",
              "      <td>8173</td>\n",
              "      <td>9240</td>\n",
              "      <td>9464</td>\n",
              "      <td>8388</td>\n",
              "      <td>1</td>\n",
              "    </tr>\n",
              "    <tr>\n",
              "      <th>6292</th>\n",
              "      <td>A7811</td>\n",
              "      <td>1M</td>\n",
              "      <td>F</td>\n",
              "      <td>Other</td>\n",
              "      <td>Single</td>\n",
              "      <td>46-65</td>\n",
              "      <td>2</td>\n",
              "      <td>2</td>\n",
              "      <td>2</td>\n",
              "      <td>2</td>\n",
              "      <td>2</td>\n",
              "      <td>2</td>\n",
              "      <td>488865</td>\n",
              "      <td>484666</td>\n",
              "      <td>507805</td>\n",
              "      <td>496176</td>\n",
              "      <td>526874</td>\n",
              "      <td>537491</td>\n",
              "      <td>6930</td>\n",
              "      <td>34650</td>\n",
              "      <td>0</td>\n",
              "      <td>39270</td>\n",
              "      <td>19635</td>\n",
              "      <td>0</td>\n",
              "      <td>1</td>\n",
              "    </tr>\n",
              "    <tr>\n",
              "      <th>13030</th>\n",
              "      <td>A16287</td>\n",
              "      <td>400K</td>\n",
              "      <td>M</td>\n",
              "      <td>Other</td>\n",
              "      <td>Single</td>\n",
              "      <td>31-45</td>\n",
              "      <td>2</td>\n",
              "      <td>2</td>\n",
              "      <td>2</td>\n",
              "      <td>2</td>\n",
              "      <td>0</td>\n",
              "      <td>0</td>\n",
              "      <td>325042</td>\n",
              "      <td>341494</td>\n",
              "      <td>342032</td>\n",
              "      <td>328397</td>\n",
              "      <td>312023</td>\n",
              "      <td>312564</td>\n",
              "      <td>28681</td>\n",
              "      <td>14160</td>\n",
              "      <td>62</td>\n",
              "      <td>10649</td>\n",
              "      <td>11550</td>\n",
              "      <td>11550</td>\n",
              "      <td>0</td>\n",
              "    </tr>\n",
              "    <tr>\n",
              "      <th>14122</th>\n",
              "      <td>A17669</td>\n",
              "      <td>500K</td>\n",
              "      <td>M</td>\n",
              "      <td>Graduate</td>\n",
              "      <td>Single</td>\n",
              "      <td>31-45</td>\n",
              "      <td>1</td>\n",
              "      <td>-2</td>\n",
              "      <td>-1</td>\n",
              "      <td>-1</td>\n",
              "      <td>-2</td>\n",
              "      <td>-1</td>\n",
              "      <td>-65</td>\n",
              "      <td>-65</td>\n",
              "      <td>7692</td>\n",
              "      <td>0</td>\n",
              "      <td>0</td>\n",
              "      <td>693</td>\n",
              "      <td>0</td>\n",
              "      <td>7757</td>\n",
              "      <td>0</td>\n",
              "      <td>0</td>\n",
              "      <td>693</td>\n",
              "      <td>0</td>\n",
              "      <td>0</td>\n",
              "    </tr>\n",
              "    <tr>\n",
              "      <th>14780</th>\n",
              "      <td>A18506</td>\n",
              "      <td>1M</td>\n",
              "      <td>M</td>\n",
              "      <td>Other</td>\n",
              "      <td>Other</td>\n",
              "      <td>Less than 30</td>\n",
              "      <td>0</td>\n",
              "      <td>0</td>\n",
              "      <td>0</td>\n",
              "      <td>0</td>\n",
              "      <td>0</td>\n",
              "      <td>0</td>\n",
              "      <td>140199</td>\n",
              "      <td>147073</td>\n",
              "      <td>158494</td>\n",
              "      <td>169649</td>\n",
              "      <td>286361</td>\n",
              "      <td>295581</td>\n",
              "      <td>9240</td>\n",
              "      <td>13860</td>\n",
              "      <td>13860</td>\n",
              "      <td>120120</td>\n",
              "      <td>13860</td>\n",
              "      <td>12705</td>\n",
              "      <td>0</td>\n",
              "    </tr>\n",
              "  </tbody>\n",
              "</table>\n",
              "</div>"
            ],
            "text/plain": [
              "      Client_ID Balance_Limit_V1  ... PAID_AMT_DEC NEXT_MONTH_DEFAULT\n",
              "6572      A8181             400K  ...         8388                  1\n",
              "6292      A7811               1M  ...            0                  1\n",
              "13030    A16287             400K  ...        11550                  0\n",
              "14122    A17669             500K  ...            0                  0\n",
              "14780    A18506               1M  ...        12705                  0\n",
              "\n",
              "[5 rows x 25 columns]"
            ]
          },
          "metadata": {
            "tags": []
          },
          "execution_count": 771
        }
      ]
    },
    {
      "cell_type": "code",
      "metadata": {
        "id": "y0NrnmaIjTDy",
        "colab_type": "code",
        "outputId": "bc17d4f9-169a-4587-db70-686807ddd796",
        "colab": {
          "base_uri": "https://localhost:8080/",
          "height": 317
        }
      },
      "source": [
        "traindata.describe()"
      ],
      "execution_count": 772,
      "outputs": [
        {
          "output_type": "execute_result",
          "data": {
            "text/html": [
              "<div>\n",
              "<style scoped>\n",
              "    .dataframe tbody tr th:only-of-type {\n",
              "        vertical-align: middle;\n",
              "    }\n",
              "\n",
              "    .dataframe tbody tr th {\n",
              "        vertical-align: top;\n",
              "    }\n",
              "\n",
              "    .dataframe thead th {\n",
              "        text-align: right;\n",
              "    }\n",
              "</style>\n",
              "<table border=\"1\" class=\"dataframe\">\n",
              "  <thead>\n",
              "    <tr style=\"text-align: right;\">\n",
              "      <th></th>\n",
              "      <th>PAY_JULY</th>\n",
              "      <th>PAY_AUG</th>\n",
              "      <th>PAY_SEP</th>\n",
              "      <th>PAY_OCT</th>\n",
              "      <th>PAY_NOV</th>\n",
              "      <th>PAY_DEC</th>\n",
              "      <th>DUE_AMT_JULY</th>\n",
              "      <th>DUE_AMT_AUG</th>\n",
              "      <th>DUE_AMT_SEP</th>\n",
              "      <th>DUE_AMT_OCT</th>\n",
              "      <th>DUE_AMT_NOV</th>\n",
              "      <th>DUE_AMT_DEC</th>\n",
              "      <th>PAID_AMT_JULY</th>\n",
              "      <th>PAID_AMT_AUG</th>\n",
              "      <th>PAID_AMT_SEP</th>\n",
              "      <th>PAID_AMT_OCT</th>\n",
              "      <th>PAID_AMT_NOV</th>\n",
              "      <th>PAID_AMT_DEC</th>\n",
              "      <th>NEXT_MONTH_DEFAULT</th>\n",
              "    </tr>\n",
              "  </thead>\n",
              "  <tbody>\n",
              "    <tr>\n",
              "      <th>count</th>\n",
              "      <td>19200.000000</td>\n",
              "      <td>19200.000000</td>\n",
              "      <td>19200.000000</td>\n",
              "      <td>19200.000000</td>\n",
              "      <td>19200.000000</td>\n",
              "      <td>19200.000000</td>\n",
              "      <td>1.920000e+04</td>\n",
              "      <td>1.920000e+04</td>\n",
              "      <td>1.920000e+04</td>\n",
              "      <td>1.920000e+04</td>\n",
              "      <td>1.920000e+04</td>\n",
              "      <td>1.920000e+04</td>\n",
              "      <td>1.920000e+04</td>\n",
              "      <td>1.920000e+04</td>\n",
              "      <td>1.920000e+04</td>\n",
              "      <td>1.920000e+04</td>\n",
              "      <td>19200.000000</td>\n",
              "      <td>1.920000e+04</td>\n",
              "      <td>19200.000000</td>\n",
              "    </tr>\n",
              "    <tr>\n",
              "      <th>mean</th>\n",
              "      <td>-0.014167</td>\n",
              "      <td>-0.131146</td>\n",
              "      <td>-0.158281</td>\n",
              "      <td>-0.217188</td>\n",
              "      <td>-0.262604</td>\n",
              "      <td>-0.290990</td>\n",
              "      <td>1.186087e+05</td>\n",
              "      <td>1.138506e+05</td>\n",
              "      <td>1.087446e+05</td>\n",
              "      <td>1.000329e+05</td>\n",
              "      <td>9.353857e+04</td>\n",
              "      <td>9.012315e+04</td>\n",
              "      <td>1.337597e+04</td>\n",
              "      <td>1.368288e+04</td>\n",
              "      <td>1.214985e+04</td>\n",
              "      <td>1.115532e+04</td>\n",
              "      <td>11110.011198</td>\n",
              "      <td>1.241020e+04</td>\n",
              "      <td>0.222552</td>\n",
              "    </tr>\n",
              "    <tr>\n",
              "      <th>std</th>\n",
              "      <td>1.128084</td>\n",
              "      <td>1.204143</td>\n",
              "      <td>1.203022</td>\n",
              "      <td>1.169083</td>\n",
              "      <td>1.134801</td>\n",
              "      <td>1.149197</td>\n",
              "      <td>1.708026e+05</td>\n",
              "      <td>1.652660e+05</td>\n",
              "      <td>1.614520e+05</td>\n",
              "      <td>1.483527e+05</td>\n",
              "      <td>1.409190e+05</td>\n",
              "      <td>1.388234e+05</td>\n",
              "      <td>3.989635e+04</td>\n",
              "      <td>5.479218e+04</td>\n",
              "      <td>4.104016e+04</td>\n",
              "      <td>3.542472e+04</td>\n",
              "      <td>36020.535051</td>\n",
              "      <td>4.311185e+04</td>\n",
              "      <td>0.415971</td>\n",
              "    </tr>\n",
              "    <tr>\n",
              "      <th>min</th>\n",
              "      <td>-2.000000</td>\n",
              "      <td>-2.000000</td>\n",
              "      <td>-2.000000</td>\n",
              "      <td>-2.000000</td>\n",
              "      <td>-2.000000</td>\n",
              "      <td>-2.000000</td>\n",
              "      <td>-3.824900e+05</td>\n",
              "      <td>-1.559850e+05</td>\n",
              "      <td>-1.420790e+05</td>\n",
              "      <td>-1.878820e+05</td>\n",
              "      <td>-1.224460e+05</td>\n",
              "      <td>-7.844830e+05</td>\n",
              "      <td>0.000000e+00</td>\n",
              "      <td>0.000000e+00</td>\n",
              "      <td>0.000000e+00</td>\n",
              "      <td>0.000000e+00</td>\n",
              "      <td>0.000000</td>\n",
              "      <td>0.000000e+00</td>\n",
              "      <td>0.000000</td>\n",
              "    </tr>\n",
              "    <tr>\n",
              "      <th>25%</th>\n",
              "      <td>-1.000000</td>\n",
              "      <td>-1.000000</td>\n",
              "      <td>-1.000000</td>\n",
              "      <td>-1.000000</td>\n",
              "      <td>-1.000000</td>\n",
              "      <td>-1.000000</td>\n",
              "      <td>8.243000e+03</td>\n",
              "      <td>6.736000e+03</td>\n",
              "      <td>6.166250e+03</td>\n",
              "      <td>5.371000e+03</td>\n",
              "      <td>4.170000e+03</td>\n",
              "      <td>2.828250e+03</td>\n",
              "      <td>2.310000e+03</td>\n",
              "      <td>1.906750e+03</td>\n",
              "      <td>9.090000e+02</td>\n",
              "      <td>6.930000e+02</td>\n",
              "      <td>597.500000</td>\n",
              "      <td>2.680000e+02</td>\n",
              "      <td>0.000000</td>\n",
              "    </tr>\n",
              "    <tr>\n",
              "      <th>50%</th>\n",
              "      <td>0.000000</td>\n",
              "      <td>0.000000</td>\n",
              "      <td>0.000000</td>\n",
              "      <td>0.000000</td>\n",
              "      <td>0.000000</td>\n",
              "      <td>0.000000</td>\n",
              "      <td>5.157750e+04</td>\n",
              "      <td>4.849850e+04</td>\n",
              "      <td>4.621950e+04</td>\n",
              "      <td>4.396300e+04</td>\n",
              "      <td>4.174550e+04</td>\n",
              "      <td>3.910500e+04</td>\n",
              "      <td>4.917000e+03</td>\n",
              "      <td>4.639500e+03</td>\n",
              "      <td>4.195000e+03</td>\n",
              "      <td>3.465000e+03</td>\n",
              "      <td>3474.000000</td>\n",
              "      <td>3.465000e+03</td>\n",
              "      <td>0.000000</td>\n",
              "    </tr>\n",
              "    <tr>\n",
              "      <th>75%</th>\n",
              "      <td>0.000000</td>\n",
              "      <td>0.000000</td>\n",
              "      <td>0.000000</td>\n",
              "      <td>0.000000</td>\n",
              "      <td>0.000000</td>\n",
              "      <td>0.000000</td>\n",
              "      <td>1.561495e+05</td>\n",
              "      <td>1.487458e+05</td>\n",
              "      <td>1.402765e+05</td>\n",
              "      <td>1.264112e+05</td>\n",
              "      <td>1.168080e+05</td>\n",
              "      <td>1.141935e+05</td>\n",
              "      <td>1.160350e+04</td>\n",
              "      <td>1.155000e+04</td>\n",
              "      <td>1.062225e+04</td>\n",
              "      <td>9.300500e+03</td>\n",
              "      <td>9418.500000</td>\n",
              "      <td>9.252000e+03</td>\n",
              "      <td>0.000000</td>\n",
              "    </tr>\n",
              "    <tr>\n",
              "      <th>max</th>\n",
              "      <td>8.000000</td>\n",
              "      <td>8.000000</td>\n",
              "      <td>8.000000</td>\n",
              "      <td>8.000000</td>\n",
              "      <td>8.000000</td>\n",
              "      <td>8.000000</td>\n",
              "      <td>2.228020e+06</td>\n",
              "      <td>2.272881e+06</td>\n",
              "      <td>3.844046e+06</td>\n",
              "      <td>2.059564e+06</td>\n",
              "      <td>2.141765e+06</td>\n",
              "      <td>2.221444e+06</td>\n",
              "      <td>2.017905e+06</td>\n",
              "      <td>3.890638e+06</td>\n",
              "      <td>2.069852e+06</td>\n",
              "      <td>1.434510e+06</td>\n",
              "      <td>965557.000000</td>\n",
              "      <td>1.221218e+06</td>\n",
              "      <td>1.000000</td>\n",
              "    </tr>\n",
              "  </tbody>\n",
              "</table>\n",
              "</div>"
            ],
            "text/plain": [
              "           PAY_JULY       PAY_AUG  ...  PAID_AMT_DEC  NEXT_MONTH_DEFAULT\n",
              "count  19200.000000  19200.000000  ...  1.920000e+04        19200.000000\n",
              "mean      -0.014167     -0.131146  ...  1.241020e+04            0.222552\n",
              "std        1.128084      1.204143  ...  4.311185e+04            0.415971\n",
              "min       -2.000000     -2.000000  ...  0.000000e+00            0.000000\n",
              "25%       -1.000000     -1.000000  ...  2.680000e+02            0.000000\n",
              "50%        0.000000      0.000000  ...  3.465000e+03            0.000000\n",
              "75%        0.000000      0.000000  ...  9.252000e+03            0.000000\n",
              "max        8.000000      8.000000  ...  1.221218e+06            1.000000\n",
              "\n",
              "[8 rows x 19 columns]"
            ]
          },
          "metadata": {
            "tags": []
          },
          "execution_count": 772
        }
      ]
    },
    {
      "cell_type": "code",
      "metadata": {
        "id": "5vcSHx-kvQLN",
        "colab_type": "code",
        "colab": {}
      },
      "source": [
        "traindata=traindata.replace(['M','F'], [1,-1])\n",
        "testdata=testdata.replace(['M','F'], [1,-1])\n",
        "testdata1=testdata1.replace(['M','F'], [1,-1])"
      ],
      "execution_count": 0,
      "outputs": []
    },
    {
      "cell_type": "code",
      "metadata": {
        "id": "Fwh76K9qwJzj",
        "colab_type": "code",
        "outputId": "996cc5af-3a33-49fb-cad5-46fadc3db7fe",
        "colab": {
          "base_uri": "https://localhost:8080/",
          "height": 221
        }
      },
      "source": [
        "pd.to_numeric(traindata['Gender'])"
      ],
      "execution_count": 774,
      "outputs": [
        {
          "output_type": "execute_result",
          "data": {
            "text/plain": [
              "6572    -1\n",
              "6292    -1\n",
              "13030    1\n",
              "14122    1\n",
              "14780    1\n",
              "        ..\n",
              "23850   -1\n",
              "1504    -1\n",
              "18981    1\n",
              "8077    -1\n",
              "9430    -1\n",
              "Name: Gender, Length: 19200, dtype: int64"
            ]
          },
          "metadata": {
            "tags": []
          },
          "execution_count": 774
        }
      ]
    },
    {
      "cell_type": "code",
      "metadata": {
        "id": "qoRQ86SJztS7",
        "colab_type": "code",
        "outputId": "64c95a66-6a66-4419-feb5-03bdabcfe8b1",
        "colab": {
          "base_uri": "https://localhost:8080/",
          "height": 136
        }
      },
      "source": [
        "print(traindata.groupby('EDUCATION_STATUS').count())"
      ],
      "execution_count": 775,
      "outputs": [
        {
          "output_type": "stream",
          "text": [
            "                  Client_ID  Balance_Limit_V1  ...  PAID_AMT_DEC  NEXT_MONTH_DEFAULT\n",
            "EDUCATION_STATUS                               ...                                  \n",
            "Graduate               6809              6809  ...          6809                6809\n",
            "High School            3130              3130  ...          3130                3130\n",
            "Other                  9261              9261  ...          9261                9261\n",
            "\n",
            "[3 rows x 24 columns]\n"
          ],
          "name": "stdout"
        }
      ]
    },
    {
      "cell_type": "code",
      "metadata": {
        "id": "rGvWVzvU0E8-",
        "colab_type": "code",
        "colab": {}
      },
      "source": [
        "traindata=traindata.replace(['Graduate','High School','Other'], [2,1,0])\n",
        "testdata=testdata.replace(['Graduate','High School','Other'], [2,1,0])\n",
        "testdata1=testdata1.replace(['Graduate','High School','Other'], [2,1,0])"
      ],
      "execution_count": 0,
      "outputs": []
    },
    {
      "cell_type": "code",
      "metadata": {
        "id": "BaNVGOBz2YAF",
        "colab_type": "code",
        "outputId": "7affc5c7-43ee-4a87-a91a-df54f14d34f4",
        "colab": {
          "base_uri": "https://localhost:8080/",
          "height": 221
        }
      },
      "source": [
        "pd.to_numeric(traindata['EDUCATION_STATUS'])"
      ],
      "execution_count": 777,
      "outputs": [
        {
          "output_type": "execute_result",
          "data": {
            "text/plain": [
              "6572     0\n",
              "6292     0\n",
              "13030    0\n",
              "14122    2\n",
              "14780    0\n",
              "        ..\n",
              "23850    0\n",
              "1504     2\n",
              "18981    1\n",
              "8077     2\n",
              "9430     0\n",
              "Name: EDUCATION_STATUS, Length: 19200, dtype: int64"
            ]
          },
          "metadata": {
            "tags": []
          },
          "execution_count": 777
        }
      ]
    },
    {
      "cell_type": "code",
      "metadata": {
        "id": "qSBJgBFc2i6a",
        "colab_type": "code",
        "outputId": "44151d60-29f0-4932-c1a0-dd6e6c606fde",
        "colab": {
          "base_uri": "https://localhost:8080/",
          "height": 119
        }
      },
      "source": [
        "print(traindata.groupby('MARITAL_STATUS').count())"
      ],
      "execution_count": 778,
      "outputs": [
        {
          "output_type": "stream",
          "text": [
            "                Client_ID  Balance_Limit_V1  ...  PAID_AMT_DEC  NEXT_MONTH_DEFAULT\n",
            "MARITAL_STATUS                               ...                                  \n",
            "0                   10429             10429  ...         10429               10429\n",
            "Single               8771              8771  ...          8771                8771\n",
            "\n",
            "[2 rows x 24 columns]\n"
          ],
          "name": "stdout"
        }
      ]
    },
    {
      "cell_type": "code",
      "metadata": {
        "id": "zH4QhWBp2t5J",
        "colab_type": "code",
        "colab": {}
      },
      "source": [
        "traindata=traindata.replace(['Single'], [1])\n",
        "testdata=testdata.replace(['Single'], [1])\n",
        "testdata1=testdata1.replace(['Single'], [1])"
      ],
      "execution_count": 0,
      "outputs": []
    },
    {
      "cell_type": "code",
      "metadata": {
        "id": "sO3NIKiL29TM",
        "colab_type": "code",
        "outputId": "b212a060-bc91-421c-f46e-2f2f33968732",
        "colab": {
          "base_uri": "https://localhost:8080/",
          "height": 221
        }
      },
      "source": [
        "pd.to_numeric(traindata['EDUCATION_STATUS'])"
      ],
      "execution_count": 780,
      "outputs": [
        {
          "output_type": "execute_result",
          "data": {
            "text/plain": [
              "6572     0\n",
              "6292     0\n",
              "13030    0\n",
              "14122    2\n",
              "14780    0\n",
              "        ..\n",
              "23850    0\n",
              "1504     2\n",
              "18981    1\n",
              "8077     2\n",
              "9430     0\n",
              "Name: EDUCATION_STATUS, Length: 19200, dtype: int64"
            ]
          },
          "metadata": {
            "tags": []
          },
          "execution_count": 780
        }
      ]
    },
    {
      "cell_type": "code",
      "metadata": {
        "id": "LbUodKd13Kbt",
        "colab_type": "code",
        "outputId": "b3ca6935-f4d2-4e5f-bf04-4e578c52eff3",
        "colab": {
          "base_uri": "https://localhost:8080/",
          "height": 153
        }
      },
      "source": [
        "print(traindata.groupby('AGE').count())"
      ],
      "execution_count": 781,
      "outputs": [
        {
          "output_type": "stream",
          "text": [
            "              Client_ID  Balance_Limit_V1  ...  PAID_AMT_DEC  NEXT_MONTH_DEFAULT\n",
            "AGE                                        ...                                  \n",
            "31-45              9709              9709  ...          9709                9709\n",
            "46-65              3281              3281  ...          3281                3281\n",
            "Less than 30       6137              6137  ...          6137                6137\n",
            "More than 65         73                73  ...            73                  73\n",
            "\n",
            "[4 rows x 24 columns]\n"
          ],
          "name": "stdout"
        }
      ]
    },
    {
      "cell_type": "code",
      "metadata": {
        "id": "l8aXSJ9n5Pll",
        "colab_type": "code",
        "colab": {}
      },
      "source": [
        "traindata['AGE']=traindata['AGE'].replace(['Less than 30','31-45','46-65','More than 65'], [1,2,3,4])\n",
        "testdata['AGE']=testdata['AGE'].replace(['Less than 30','31-45','46-65','More than 65'], [1,2,3,4])\n",
        "testdata1['AGE']=testdata1['AGE'].replace(['Less than 30','31-45','46-65','More than 65'], [1,2,3,4])"
      ],
      "execution_count": 0,
      "outputs": []
    },
    {
      "cell_type": "code",
      "metadata": {
        "id": "6_3PKioj90Zc",
        "colab_type": "code",
        "colab": {}
      },
      "source": [
        "traindata['Balance_Limit_V1'] = traindata['Balance_Limit_V1'].map(lambda x : float(x[0:-1])*1000 if (x[-1]=='K') else float(x[0:-1])*1000000)\n",
        "testdata['Balance_Limit_V1'] = testdata['Balance_Limit_V1'].map(lambda x : float(x[0:-1])*1000 if (x[-1]=='K') else float(x[0:-1])*1000000)\n",
        "testdata1['Balance_Limit_V1'] = testdata1['Balance_Limit_V1'].map(lambda x : float(x[0:-1])*1000 if (x[-1]=='K') else float(x[0:-1])*1000000)"
      ],
      "execution_count": 0,
      "outputs": []
    },
    {
      "cell_type": "code",
      "metadata": {
        "id": "jtPrffow-t_2",
        "colab_type": "code",
        "outputId": "927e3470-156e-42b1-bbb3-824db99cce96",
        "colab": {
          "base_uri": "https://localhost:8080/",
          "height": 221
        }
      },
      "source": [
        "pd.to_numeric(traindata['Balance_Limit_V1'])"
      ],
      "execution_count": 784,
      "outputs": [
        {
          "output_type": "execute_result",
          "data": {
            "text/plain": [
              "6572      400000.0\n",
              "6292     1000000.0\n",
              "13030     400000.0\n",
              "14122     500000.0\n",
              "14780    1000000.0\n",
              "           ...    \n",
              "23850     200000.0\n",
              "1504      500000.0\n",
              "18981     200000.0\n",
              "8077      300000.0\n",
              "9430     1500000.0\n",
              "Name: Balance_Limit_V1, Length: 19200, dtype: float64"
            ]
          },
          "metadata": {
            "tags": []
          },
          "execution_count": 784
        }
      ]
    },
    {
      "cell_type": "code",
      "metadata": {
        "id": "k8xA-Kd9C9x3",
        "colab_type": "code",
        "outputId": "05c78e76-b59d-467a-831a-0de098f8390f",
        "colab": {
          "base_uri": "https://localhost:8080/",
          "height": 119
        }
      },
      "source": [
        "print(traindata.groupby('NEXT_MONTH_DEFAULT').count())"
      ],
      "execution_count": 785,
      "outputs": [
        {
          "output_type": "stream",
          "text": [
            "                    Client_ID  Balance_Limit_V1  ...  PAID_AMT_NOV  PAID_AMT_DEC\n",
            "NEXT_MONTH_DEFAULT                               ...                            \n",
            "0                       14927             14927  ...         14927         14927\n",
            "1                        4273              4273  ...          4273          4273\n",
            "\n",
            "[2 rows x 24 columns]\n"
          ],
          "name": "stdout"
        }
      ]
    },
    {
      "cell_type": "code",
      "metadata": {
        "id": "NjRN7Ws4DDTp",
        "colab_type": "code",
        "colab": {}
      },
      "source": [
        "testdata[testdata.columns[12:24]]=testdata[testdata.columns[12:24]]/traindata.max()[testdata.columns[12:24]]\n",
        "testdata1[testdata1.columns[12:24]]=testdata1[testdata.columns[12:24]]/traindata.max()[testdata1.columns[12:24]]\n",
        "traindata[traindata.columns[12:24]]=traindata[traindata.columns[12:24]]/traindata.max()[traindata.columns[12:24]]"
      ],
      "execution_count": 0,
      "outputs": []
    },
    {
      "cell_type": "code",
      "metadata": {
        "id": "Xv9QvAnZGRcs",
        "colab_type": "code",
        "colab": {}
      },
      "source": [
        "testdata['Balance_Limit_V1']=testdata['Balance_Limit_V1']/traindata.max()['Balance_Limit_V1']\n",
        "testdata1['Balance_Limit_V1']=testdata1['Balance_Limit_V1']/traindata.max()['Balance_Limit_V1']\n",
        "traindata['Balance_Limit_V1']=traindata['Balance_Limit_V1']/traindata.max()['Balance_Limit_V1']"
      ],
      "execution_count": 0,
      "outputs": []
    },
    {
      "cell_type": "code",
      "metadata": {
        "id": "YdT6SNA7GwlY",
        "colab_type": "code",
        "colab": {}
      },
      "source": [
        "traindata['BIAS']=1\n",
        "testdata['BIAS']=1\n",
        "testdata1['BIAS']=1"
      ],
      "execution_count": 0,
      "outputs": []
    },
    {
      "cell_type": "code",
      "metadata": {
        "id": "metLq05SjqLi",
        "colab_type": "code",
        "colab": {}
      },
      "source": [
        "independentVar= ['Balance_Limit_V1',\n",
        "                 'Gender',\n",
        "                 'EDUCATION_STATUS',\n",
        "                 'MARITAL_STATUS',\n",
        "                 'AGE',\n",
        "                 'PAY_JULY','PAY_AUG','PAY_SEP','PAY_OCT','PAY_NOV','PAY_DEC',\n",
        "                 'DUE_AMT_JULY','DUE_AMT_AUG','DUE_AMT_SEP','DUE_AMT_OCT','DUE_AMT_NOV','DUE_AMT_DEC',\n",
        "                 'PAID_AMT_JULY','PAID_AMT_AUG','PAID_AMT_SEP','PAID_AMT_OCT','PAID_AMT_NOV','PAID_AMT_DEC','BIAS']"
      ],
      "execution_count": 0,
      "outputs": []
    },
    {
      "cell_type": "code",
      "metadata": {
        "id": "B2zauo1Ql-8a",
        "colab_type": "code",
        "colab": {}
      },
      "source": [
        "X_train, y_train = traindata[independentVar], traindata['NEXT_MONTH_DEFAULT']\n",
        "X_test1, y_test1 = testdata1[independentVar], testdata1['NEXT_MONTH_DEFAULT']\n",
        "X_test = testdata[independentVar]"
      ],
      "execution_count": 0,
      "outputs": []
    },
    {
      "cell_type": "code",
      "metadata": {
        "id": "4qxOzQEI5k0_",
        "colab_type": "code",
        "colab": {}
      },
      "source": [
        "from sklearn import metrics\n",
        "from imblearn.over_sampling import SMOTE\n",
        "from imblearn.under_sampling import RandomUnderSampler\n",
        "from keras.models import Sequential\n",
        "from keras.layers import Dense"
      ],
      "execution_count": 0,
      "outputs": []
    },
    {
      "cell_type": "code",
      "metadata": {
        "id": "JkQ9OJoc5oTS",
        "colab_type": "code",
        "outputId": "70337286-a7cf-4335-86f0-6fdcd9a3cf14",
        "colab": {
          "base_uri": "https://localhost:8080/",
          "height": 105
        }
      },
      "source": [
        "# define undersampling strategy\n",
        "under = RandomUnderSampler(sampling_strategy=0.4)\n",
        "# fit and apply the transform\n",
        "X_train_res, y_train_res = under.fit_resample(X_train, y_train)\n",
        "\n",
        "sm = SMOTE(random_state=2)\n",
        "X_train_res, y_train_res = sm.fit_sample(X_train_res, y_train_res.ravel())"
      ],
      "execution_count": 792,
      "outputs": [
        {
          "output_type": "stream",
          "text": [
            "/usr/local/lib/python3.6/dist-packages/sklearn/utils/deprecation.py:87: FutureWarning: Function safe_indexing is deprecated; safe_indexing is deprecated in version 0.22 and will be removed in version 0.24.\n",
            "  warnings.warn(msg, category=FutureWarning)\n",
            "/usr/local/lib/python3.6/dist-packages/sklearn/utils/deprecation.py:87: FutureWarning: Function safe_indexing is deprecated; safe_indexing is deprecated in version 0.22 and will be removed in version 0.24.\n",
            "  warnings.warn(msg, category=FutureWarning)\n"
          ],
          "name": "stderr"
        }
      ]
    },
    {
      "cell_type": "code",
      "metadata": {
        "id": "XiOV3Nr4_Qfl",
        "colab_type": "code",
        "colab": {}
      },
      "source": [
        "# define the keras model\n",
        "model = Sequential()\n",
        "model.add(Dense(256, input_dim=24, activation='relu'))\n",
        "model.add(Dense(512, activation='relu'))\n",
        "model.add(Dense(1024, activation='softmax'))\n",
        "model.add(Dense(2048, activation='relu'))\n",
        "model.add(Dense(1, activation='sigmoid'))"
      ],
      "execution_count": 0,
      "outputs": []
    },
    {
      "cell_type": "code",
      "metadata": {
        "id": "LslQB9QG_ibA",
        "colab_type": "code",
        "colab": {}
      },
      "source": [
        "# compile the keras model\n",
        "model.compile(loss='binary_crossentropy', optimizer='adam', metrics=['accuracy'])"
      ],
      "execution_count": 0,
      "outputs": []
    },
    {
      "cell_type": "code",
      "metadata": {
        "id": "V5rdwVV3_zA8",
        "colab_type": "code",
        "outputId": "64b50e32-28ba-4706-b71d-6beb6286a240",
        "colab": {
          "base_uri": "https://localhost:8080/",
          "height": 1000
        }
      },
      "source": [
        "# fit the keras model on the dataset\n",
        "history = model.fit(X_train_res, y_train_res, epochs=65)"
      ],
      "execution_count": 795,
      "outputs": [
        {
          "output_type": "stream",
          "text": [
            "Epoch 1/65\n",
            "21364/21364 [==============================] - 7s 307us/step - loss: 0.6023 - acc: 0.6851\n",
            "Epoch 2/65\n",
            "21364/21364 [==============================] - 4s 172us/step - loss: 0.5790 - acc: 0.7018\n",
            "Epoch 3/65\n",
            "21364/21364 [==============================] - 4s 172us/step - loss: 0.5702 - acc: 0.7038\n",
            "Epoch 4/65\n",
            "21364/21364 [==============================] - 4s 171us/step - loss: 0.5637 - acc: 0.7082\n",
            "Epoch 5/65\n",
            "21364/21364 [==============================] - 4s 171us/step - loss: 0.5597 - acc: 0.7093\n",
            "Epoch 6/65\n",
            "21364/21364 [==============================] - 4s 173us/step - loss: 0.5544 - acc: 0.7097\n",
            "Epoch 7/65\n",
            "21364/21364 [==============================] - 4s 172us/step - loss: 0.5497 - acc: 0.7116\n",
            "Epoch 8/65\n",
            "21364/21364 [==============================] - 4s 172us/step - loss: 0.5450 - acc: 0.7199\n",
            "Epoch 9/65\n",
            "21364/21364 [==============================] - 4s 171us/step - loss: 0.5396 - acc: 0.7221\n",
            "Epoch 10/65\n",
            "21364/21364 [==============================] - 4s 173us/step - loss: 0.5359 - acc: 0.7256\n",
            "Epoch 11/65\n",
            "21364/21364 [==============================] - 4s 172us/step - loss: 0.5301 - acc: 0.7271\n",
            "Epoch 12/65\n",
            "21364/21364 [==============================] - 4s 172us/step - loss: 0.5238 - acc: 0.7332\n",
            "Epoch 13/65\n",
            "21364/21364 [==============================] - 4s 173us/step - loss: 0.5201 - acc: 0.7365\n",
            "Epoch 14/65\n",
            "21364/21364 [==============================] - 4s 171us/step - loss: 0.5138 - acc: 0.7405\n",
            "Epoch 15/65\n",
            "21364/21364 [==============================] - 4s 174us/step - loss: 0.5072 - acc: 0.7458\n",
            "Epoch 16/65\n",
            "21364/21364 [==============================] - 4s 172us/step - loss: 0.5026 - acc: 0.7457\n",
            "Epoch 17/65\n",
            "21364/21364 [==============================] - 4s 172us/step - loss: 0.4961 - acc: 0.7541\n",
            "Epoch 18/65\n",
            "21364/21364 [==============================] - 4s 171us/step - loss: 0.4895 - acc: 0.7568\n",
            "Epoch 19/65\n",
            "21364/21364 [==============================] - 4s 173us/step - loss: 0.4844 - acc: 0.7602\n",
            "Epoch 20/65\n",
            "21364/21364 [==============================] - 4s 172us/step - loss: 0.4754 - acc: 0.7659\n",
            "Epoch 21/65\n",
            "21364/21364 [==============================] - 4s 172us/step - loss: 0.4702 - acc: 0.7654\n",
            "Epoch 22/65\n",
            "21364/21364 [==============================] - 4s 173us/step - loss: 0.4629 - acc: 0.7728\n",
            "Epoch 23/65\n",
            "21364/21364 [==============================] - 4s 171us/step - loss: 0.4582 - acc: 0.7750\n",
            "Epoch 24/65\n",
            "21364/21364 [==============================] - 4s 171us/step - loss: 0.4479 - acc: 0.7797\n",
            "Epoch 25/65\n",
            "21364/21364 [==============================] - 4s 173us/step - loss: 0.4451 - acc: 0.7815\n",
            "Epoch 26/65\n",
            "21364/21364 [==============================] - 4s 171us/step - loss: 0.4415 - acc: 0.7832\n",
            "Epoch 27/65\n",
            "21364/21364 [==============================] - 4s 170us/step - loss: 0.4333 - acc: 0.7874\n",
            "Epoch 28/65\n",
            "21364/21364 [==============================] - 4s 173us/step - loss: 0.4277 - acc: 0.7915\n",
            "Epoch 29/65\n",
            "21364/21364 [==============================] - 4s 172us/step - loss: 0.4247 - acc: 0.7903\n",
            "Epoch 30/65\n",
            "21364/21364 [==============================] - 4s 172us/step - loss: 0.4180 - acc: 0.7952\n",
            "Epoch 31/65\n",
            "21364/21364 [==============================] - 4s 172us/step - loss: 0.4133 - acc: 0.7984\n",
            "Epoch 32/65\n",
            "21364/21364 [==============================] - 4s 172us/step - loss: 0.4055 - acc: 0.8024\n",
            "Epoch 33/65\n",
            "21364/21364 [==============================] - 4s 171us/step - loss: 0.4034 - acc: 0.8033\n",
            "Epoch 34/65\n",
            "21364/21364 [==============================] - 4s 171us/step - loss: 0.3976 - acc: 0.8065\n",
            "Epoch 35/65\n",
            "21364/21364 [==============================] - 4s 172us/step - loss: 0.3932 - acc: 0.8087\n",
            "Epoch 36/65\n",
            "21364/21364 [==============================] - 4s 172us/step - loss: 0.3879 - acc: 0.8119\n",
            "Epoch 37/65\n",
            "21364/21364 [==============================] - 4s 171us/step - loss: 0.3871 - acc: 0.8114\n",
            "Epoch 38/65\n",
            "21364/21364 [==============================] - 4s 172us/step - loss: 0.3824 - acc: 0.8138\n",
            "Epoch 39/65\n",
            "21364/21364 [==============================] - 4s 172us/step - loss: 0.3794 - acc: 0.8160\n",
            "Epoch 40/65\n",
            "21364/21364 [==============================] - 4s 173us/step - loss: 0.3740 - acc: 0.8193\n",
            "Epoch 41/65\n",
            "21364/21364 [==============================] - 4s 171us/step - loss: 0.3700 - acc: 0.8192\n",
            "Epoch 42/65\n",
            "21364/21364 [==============================] - 4s 172us/step - loss: 0.3677 - acc: 0.8197\n",
            "Epoch 43/65\n",
            "21364/21364 [==============================] - 4s 173us/step - loss: 0.3660 - acc: 0.8214\n",
            "Epoch 44/65\n",
            "21364/21364 [==============================] - 4s 172us/step - loss: 0.3609 - acc: 0.8224\n",
            "Epoch 45/65\n",
            "21364/21364 [==============================] - 4s 173us/step - loss: 0.3604 - acc: 0.8249\n",
            "Epoch 46/65\n",
            "21364/21364 [==============================] - 4s 172us/step - loss: 0.3556 - acc: 0.8264\n",
            "Epoch 47/65\n",
            "21364/21364 [==============================] - 4s 173us/step - loss: 0.3515 - acc: 0.8297\n",
            "Epoch 48/65\n",
            "21364/21364 [==============================] - 4s 172us/step - loss: 0.3491 - acc: 0.8303\n",
            "Epoch 49/65\n",
            "21364/21364 [==============================] - 4s 172us/step - loss: 0.3508 - acc: 0.8299\n",
            "Epoch 50/65\n",
            "21364/21364 [==============================] - 4s 171us/step - loss: 0.3427 - acc: 0.8330\n",
            "Epoch 51/65\n",
            "21364/21364 [==============================] - 4s 174us/step - loss: 0.3424 - acc: 0.8341\n",
            "Epoch 52/65\n",
            "21364/21364 [==============================] - 4s 170us/step - loss: 0.3358 - acc: 0.8360\n",
            "Epoch 53/65\n",
            "21364/21364 [==============================] - 4s 173us/step - loss: 0.3352 - acc: 0.8385\n",
            "Epoch 54/65\n",
            "21364/21364 [==============================] - 4s 172us/step - loss: 0.3332 - acc: 0.8373\n",
            "Epoch 55/65\n",
            "21364/21364 [==============================] - 4s 173us/step - loss: 0.3328 - acc: 0.8381\n",
            "Epoch 56/65\n",
            "21364/21364 [==============================] - 4s 175us/step - loss: 0.3278 - acc: 0.8395\n",
            "Epoch 57/65\n",
            "21364/21364 [==============================] - 4s 178us/step - loss: 0.3257 - acc: 0.8426\n",
            "Epoch 58/65\n",
            "21364/21364 [==============================] - 4s 177us/step - loss: 0.3256 - acc: 0.8414\n",
            "Epoch 59/65\n",
            "21364/21364 [==============================] - 4s 175us/step - loss: 0.3215 - acc: 0.8416\n",
            "Epoch 60/65\n",
            "21364/21364 [==============================] - 4s 172us/step - loss: 0.3213 - acc: 0.8450\n",
            "Epoch 61/65\n",
            "21364/21364 [==============================] - 4s 173us/step - loss: 0.3187 - acc: 0.8436\n",
            "Epoch 62/65\n",
            "21364/21364 [==============================] - 4s 173us/step - loss: 0.3171 - acc: 0.8459\n",
            "Epoch 63/65\n",
            "21364/21364 [==============================] - 4s 172us/step - loss: 0.3159 - acc: 0.8456\n",
            "Epoch 64/65\n",
            "21364/21364 [==============================] - 4s 172us/step - loss: 0.3130 - acc: 0.8484\n",
            "Epoch 65/65\n",
            "21364/21364 [==============================] - 4s 173us/step - loss: 0.3129 - acc: 0.8474\n"
          ],
          "name": "stdout"
        }
      ]
    },
    {
      "cell_type": "code",
      "metadata": {
        "id": "C9HapLPSqAyR",
        "colab_type": "code",
        "colab": {}
      },
      "source": [
        "# make probability predictions with the model\n",
        "y_pred = model.predict(X_test)\n",
        "\n",
        "# round predictions\n",
        "y_pred_rounded = [round(x[0]) for x in y_pred]"
      ],
      "execution_count": 0,
      "outputs": []
    },
    {
      "cell_type": "code",
      "metadata": {
        "id": "w8ACpZH637kz",
        "colab_type": "code",
        "colab": {
          "base_uri": "https://localhost:8080/",
          "height": 34
        },
        "outputId": "f2c41dd5-1a35-466e-eccb-6427f4cca347"
      },
      "source": [
        "count_0 = 0\n",
        "count_1 = 0\n",
        "\n",
        "for val in y_pred_rounded:\n",
        "  if val == 0:\n",
        "    count_0 += 1\n",
        "  elif val == 1:\n",
        "    count_1 += 1\n",
        "\n",
        "print (count_0, count_1)"
      ],
      "execution_count": 797,
      "outputs": [
        {
          "output_type": "stream",
          "text": [
            "4101 1899\n"
          ],
          "name": "stdout"
        }
      ]
    },
    {
      "cell_type": "code",
      "metadata": {
        "id": "zuxeYyym70Y3",
        "colab_type": "code",
        "colab": {}
      },
      "source": [
        "# make probability predictions with the model\n",
        "y_pred1 = model.predict(X_test1)\n",
        "\n",
        "# round predictions\n",
        "y_pred_rounded1 = [round(x[0]) for x in y_pred1]"
      ],
      "execution_count": 0,
      "outputs": []
    },
    {
      "cell_type": "code",
      "metadata": {
        "id": "J5GtMxksQK-N",
        "colab_type": "code",
        "outputId": "40399fc4-3b4e-45f1-e822-12a3222ce0fc",
        "colab": {
          "base_uri": "https://localhost:8080/",
          "height": 51
        }
      },
      "source": [
        "confusion_matrix = confusion_matrix(y_test1, y_pred_rounded1)\n",
        "print(confusion_matrix)"
      ],
      "execution_count": 799,
      "outputs": [
        {
          "output_type": "stream",
          "text": [
            "[[2801  942]\n",
            " [ 472  585]]\n"
          ],
          "name": "stdout"
        }
      ]
    },
    {
      "cell_type": "code",
      "metadata": {
        "id": "iA7J9pN5pMLR",
        "colab_type": "code",
        "outputId": "5654f3c3-796d-46f4-a592-92e3bc8d32a7",
        "colab": {
          "base_uri": "https://localhost:8080/",
          "height": 170
        }
      },
      "source": [
        "print(classification_report(y_test1, y_pred_rounded1))"
      ],
      "execution_count": 800,
      "outputs": [
        {
          "output_type": "stream",
          "text": [
            "              precision    recall  f1-score   support\n",
            "\n",
            "           0       0.86      0.75      0.80      3743\n",
            "           1       0.38      0.55      0.45      1057\n",
            "\n",
            "    accuracy                           0.71      4800\n",
            "   macro avg       0.62      0.65      0.63      4800\n",
            "weighted avg       0.75      0.71      0.72      4800\n",
            "\n"
          ],
          "name": "stdout"
        }
      ]
    },
    {
      "cell_type": "code",
      "metadata": {
        "id": "iwQ7U-xeeY38",
        "colab_type": "code",
        "outputId": "526d208f-fb5f-4637-ec5e-76b558008b03",
        "colab": {
          "base_uri": "https://localhost:8080/",
          "height": 262
        }
      },
      "source": [
        "acc = history.history['acc']\n",
        "# val_acc = history.history['val_acc']\n",
        "\n",
        "loss = history.history['loss']\n",
        "# val_loss = history.history['val_loss']\n",
        "\n",
        "plt.figure(figsize=(8, 8))\n",
        "plt.subplot(2, 1, 1)\n",
        "plt.plot(acc, label='Training Accuracy')\n",
        "# plt.plot(val_acc, label='Validation Accuracy')\n",
        "plt.legend(loc='lower right')\n",
        "plt.ylabel('Accuracy')\n",
        "plt.ylim([min(plt.ylim()),1])\n",
        "plt.title('Training and Validation Accuracy')\n",
        "plt.show()"
      ],
      "execution_count": 801,
      "outputs": [
        {
          "output_type": "display_data",
          "data": {
            "image/png": "[encoded data removed]",
            "text/plain": [
              "<Figure size 576x576 with 1 Axes>"
            ]
          },
          "metadata": {
            "tags": []
          }
        }
      ]
    },
    {
      "cell_type": "code",
      "metadata": {
        "id": "xGhbmCflzjnL",
        "colab_type": "code",
        "outputId": "a465a06b-dda3-437f-e537-c07b5734e69a",
        "colab": {
          "base_uri": "https://localhost:8080/",
          "height": 224
        }
      },
      "source": [
        "testdata.head()"
      ],
      "execution_count": 802,
      "outputs": [
        {
          "output_type": "execute_result",
          "data": {
            "text/html": [
              "<div>\n",
              "<style scoped>\n",
              "    .dataframe tbody tr th:only-of-type {\n",
              "        vertical-align: middle;\n",
              "    }\n",
              "\n",
              "    .dataframe tbody tr th {\n",
              "        vertical-align: top;\n",
              "    }\n",
              "\n",
              "    .dataframe thead th {\n",
              "        text-align: right;\n",
              "    }\n",
              "</style>\n",
              "<table border=\"1\" class=\"dataframe\">\n",
              "  <thead>\n",
              "    <tr style=\"text-align: right;\">\n",
              "      <th></th>\n",
              "      <th>Client_ID</th>\n",
              "      <th>Balance_Limit_V1</th>\n",
              "      <th>Gender</th>\n",
              "      <th>EDUCATION_STATUS</th>\n",
              "      <th>MARITAL_STATUS</th>\n",
              "      <th>AGE</th>\n",
              "      <th>PAY_JULY</th>\n",
              "      <th>PAY_AUG</th>\n",
              "      <th>PAY_SEP</th>\n",
              "      <th>PAY_OCT</th>\n",
              "      <th>PAY_NOV</th>\n",
              "      <th>PAY_DEC</th>\n",
              "      <th>DUE_AMT_JULY</th>\n",
              "      <th>DUE_AMT_AUG</th>\n",
              "      <th>DUE_AMT_SEP</th>\n",
              "      <th>DUE_AMT_OCT</th>\n",
              "      <th>DUE_AMT_NOV</th>\n",
              "      <th>DUE_AMT_DEC</th>\n",
              "      <th>PAID_AMT_JULY</th>\n",
              "      <th>PAID_AMT_AUG</th>\n",
              "      <th>PAID_AMT_SEP</th>\n",
              "      <th>PAID_AMT_OCT</th>\n",
              "      <th>PAID_AMT_NOV</th>\n",
              "      <th>PAID_AMT_DEC</th>\n",
              "      <th>BIAS</th>\n",
              "    </tr>\n",
              "  </thead>\n",
              "  <tbody>\n",
              "    <tr>\n",
              "      <th>0</th>\n",
              "      <td>A20170</td>\n",
              "      <td>0.20</td>\n",
              "      <td>1</td>\n",
              "      <td>0</td>\n",
              "      <td>1</td>\n",
              "      <td>2</td>\n",
              "      <td>0</td>\n",
              "      <td>0</td>\n",
              "      <td>0</td>\n",
              "      <td>0</td>\n",
              "      <td>0</td>\n",
              "      <td>0</td>\n",
              "      <td>0.087157</td>\n",
              "      <td>0.087338</td>\n",
              "      <td>0.033380</td>\n",
              "      <td>0.151100</td>\n",
              "      <td>0.164252</td>\n",
              "      <td>0.158548</td>\n",
              "      <td>0.006794</td>\n",
              "      <td>0.003294</td>\n",
              "      <td>0.094548</td>\n",
              "      <td>0.037118</td>\n",
              "      <td>0.017872</td>\n",
              "      <td>0.010638</td>\n",
              "      <td>1</td>\n",
              "    </tr>\n",
              "    <tr>\n",
              "      <th>1</th>\n",
              "      <td>A16887</td>\n",
              "      <td>0.08</td>\n",
              "      <td>-1</td>\n",
              "      <td>0</td>\n",
              "      <td>1</td>\n",
              "      <td>2</td>\n",
              "      <td>0</td>\n",
              "      <td>0</td>\n",
              "      <td>0</td>\n",
              "      <td>0</td>\n",
              "      <td>0</td>\n",
              "      <td>0</td>\n",
              "      <td>0.039100</td>\n",
              "      <td>0.039345</td>\n",
              "      <td>0.023887</td>\n",
              "      <td>0.045729</td>\n",
              "      <td>0.045393</td>\n",
              "      <td>0.045140</td>\n",
              "      <td>0.001861</td>\n",
              "      <td>0.000987</td>\n",
              "      <td>0.001879</td>\n",
              "      <td>0.003221</td>\n",
              "      <td>0.004785</td>\n",
              "      <td>0.003783</td>\n",
              "      <td>1</td>\n",
              "    </tr>\n",
              "    <tr>\n",
              "      <th>2</th>\n",
              "      <td>A3430</td>\n",
              "      <td>0.16</td>\n",
              "      <td>1</td>\n",
              "      <td>0</td>\n",
              "      <td>0</td>\n",
              "      <td>1</td>\n",
              "      <td>-1</td>\n",
              "      <td>-1</td>\n",
              "      <td>2</td>\n",
              "      <td>0</td>\n",
              "      <td>0</td>\n",
              "      <td>-1</td>\n",
              "      <td>0.001209</td>\n",
              "      <td>0.004212</td>\n",
              "      <td>0.002337</td>\n",
              "      <td>0.005484</td>\n",
              "      <td>0.004464</td>\n",
              "      <td>0.000447</td>\n",
              "      <td>0.003434</td>\n",
              "      <td>0.000000</td>\n",
              "      <td>0.001116</td>\n",
              "      <td>0.000000</td>\n",
              "      <td>0.002392</td>\n",
              "      <td>0.032803</td>\n",
              "      <td>1</td>\n",
              "    </tr>\n",
              "    <tr>\n",
              "      <th>3</th>\n",
              "      <td>A3696</td>\n",
              "      <td>0.60</td>\n",
              "      <td>1</td>\n",
              "      <td>2</td>\n",
              "      <td>1</td>\n",
              "      <td>2</td>\n",
              "      <td>1</td>\n",
              "      <td>-1</td>\n",
              "      <td>-1</td>\n",
              "      <td>-2</td>\n",
              "      <td>-2</td>\n",
              "      <td>-2</td>\n",
              "      <td>0.000000</td>\n",
              "      <td>0.002541</td>\n",
              "      <td>0.001502</td>\n",
              "      <td>0.000000</td>\n",
              "      <td>0.000000</td>\n",
              "      <td>0.000000</td>\n",
              "      <td>0.002862</td>\n",
              "      <td>0.001484</td>\n",
              "      <td>0.000000</td>\n",
              "      <td>0.000000</td>\n",
              "      <td>0.000000</td>\n",
              "      <td>0.000000</td>\n",
              "      <td>1</td>\n",
              "    </tr>\n",
              "    <tr>\n",
              "      <th>4</th>\n",
              "      <td>A20474</td>\n",
              "      <td>0.04</td>\n",
              "      <td>-1</td>\n",
              "      <td>1</td>\n",
              "      <td>0</td>\n",
              "      <td>1</td>\n",
              "      <td>0</td>\n",
              "      <td>0</td>\n",
              "      <td>-2</td>\n",
              "      <td>-2</td>\n",
              "      <td>-2</td>\n",
              "      <td>-2</td>\n",
              "      <td>0.038266</td>\n",
              "      <td>0.000000</td>\n",
              "      <td>0.000000</td>\n",
              "      <td>0.000000</td>\n",
              "      <td>0.000000</td>\n",
              "      <td>0.000000</td>\n",
              "      <td>0.000000</td>\n",
              "      <td>0.000000</td>\n",
              "      <td>0.000000</td>\n",
              "      <td>0.000000</td>\n",
              "      <td>0.000000</td>\n",
              "      <td>0.000000</td>\n",
              "      <td>1</td>\n",
              "    </tr>\n",
              "  </tbody>\n",
              "</table>\n",
              "</div>"
            ],
            "text/plain": [
              "  Client_ID  Balance_Limit_V1  Gender  ...  PAID_AMT_NOV  PAID_AMT_DEC  BIAS\n",
              "0    A20170              0.20       1  ...      0.017872      0.010638     1\n",
              "1    A16887              0.08      -1  ...      0.004785      0.003783     1\n",
              "2     A3430              0.16       1  ...      0.002392      0.032803     1\n",
              "3     A3696              0.60       1  ...      0.000000      0.000000     1\n",
              "4    A20474              0.04      -1  ...      0.000000      0.000000     1\n",
              "\n",
              "[5 rows x 25 columns]"
            ]
          },
          "metadata": {
            "tags": []
          },
          "execution_count": 802
        }
      ]
    },
    {
      "cell_type": "code",
      "metadata": {
        "id": "7-iTw3kyzrUh",
        "colab_type": "code",
        "colab": {}
      },
      "source": [
        ""
      ],
      "execution_count": 0,
      "outputs": []
    }
  ]
}